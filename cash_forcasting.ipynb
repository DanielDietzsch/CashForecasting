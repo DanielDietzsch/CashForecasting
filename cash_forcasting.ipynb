{
 "cells": [
  {
   "cell_type": "markdown",
   "metadata": {},
   "source": [
    "# Imports"
   ]
  },
  {
   "cell_type": "code",
   "execution_count": 1,
   "metadata": {},
   "outputs": [],
   "source": [
    "# data analysis and wrangling\n",
    "import pandas as pd\n",
    "import numpy as np\n",
    "import random as rnd\n",
    "import math\n",
    "\n",
    "# visualization\n",
    "import matplotlib.pyplot as plt\n",
    "import seaborn as sns\n",
    "%matplotlib inline\n",
    "\n",
    "# machine learning\n",
    "import statsmodels.api as sm\n",
    "import sklearn\n",
    "from sklearn import svm, linear_model\n",
    "from sklearn.neighbors import KNeighborsRegressor, RadiusNeighborsRegressor\n",
    "from sklearn.gaussian_process import GaussianProcessRegressor\n",
    "from sklearn.gaussian_process.kernels import DotProduct, WhiteKernel\n",
    "from sklearn.metrics import mean_squared_error, r2_score\n",
    "from sklearn.model_selection import train_test_split\n",
    "from sklearn.feature_selection import RFE\n",
    "from sklearn.feature_selection import SelectKBest, chi2\n",
    "from sklearn.linear_model import LogisticRegression\n",
    "from sklearn.svm import SVC, LinearSVC\n",
    "from sklearn.linear_model import LinearRegression\n",
    "from sklearn.ensemble import RandomForestClassifier\n",
    "from sklearn.neighbors import KNeighborsClassifier\n",
    "from sklearn.naive_bayes import GaussianNB\n",
    "from sklearn.linear_model import RidgeCV, LassoCV, Ridge, Lasso, SGDClassifier, Perceptron\n",
    "from sklearn.tree import DecisionTreeClassifier\n",
    "from sklearn.preprocessing import PolynomialFeatures"
   ]
  },
  {
   "cell_type": "markdown",
   "metadata": {},
   "source": [
    "# Data Exploration"
   ]
  },
  {
   "cell_type": "code",
   "execution_count": 2,
   "metadata": {},
   "outputs": [],
   "source": [
    "# Get Data\n",
    "customers = pd.read_csv(\"csv/Customers.csv\")\n",
    "orders = pd.read_csv(\"csv/Orders.csv\")"
   ]
  },
  {
   "cell_type": "markdown",
   "metadata": {},
   "source": [
    "## Customers"
   ]
  },
  {
   "cell_type": "code",
   "execution_count": 3,
   "metadata": {},
   "outputs": [
    {
     "data": {
      "text/html": [
       "<div>\n",
       "<style scoped>\n",
       "    .dataframe tbody tr th:only-of-type {\n",
       "        vertical-align: middle;\n",
       "    }\n",
       "\n",
       "    .dataframe tbody tr th {\n",
       "        vertical-align: top;\n",
       "    }\n",
       "\n",
       "    .dataframe thead th {\n",
       "        text-align: right;\n",
       "    }\n",
       "</style>\n",
       "<table border=\"1\" class=\"dataframe\">\n",
       "  <thead>\n",
       "    <tr style=\"text-align: right;\">\n",
       "      <th></th>\n",
       "      <th>CustomerID</th>\n",
       "      <th>Customer</th>\n",
       "      <th>Market</th>\n",
       "      <th>CustomerComplaints</th>\n",
       "    </tr>\n",
       "  </thead>\n",
       "  <tbody>\n",
       "    <tr>\n",
       "      <td>0</td>\n",
       "      <td>1000</td>\n",
       "      <td>Didier Evra</td>\n",
       "      <td>Africa</td>\n",
       "      <td>7</td>\n",
       "    </tr>\n",
       "    <tr>\n",
       "      <td>1</td>\n",
       "      <td>1001</td>\n",
       "      <td>Jean Tedeaux</td>\n",
       "      <td>Canada</td>\n",
       "      <td>1</td>\n",
       "    </tr>\n",
       "    <tr>\n",
       "      <td>2</td>\n",
       "      <td>1002</td>\n",
       "      <td>HBSA LLC</td>\n",
       "      <td>Canada</td>\n",
       "      <td>4</td>\n",
       "    </tr>\n",
       "    <tr>\n",
       "      <td>3</td>\n",
       "      <td>1003</td>\n",
       "      <td>Bikes and More SE</td>\n",
       "      <td>EU</td>\n",
       "      <td>0</td>\n",
       "    </tr>\n",
       "    <tr>\n",
       "      <td>4</td>\n",
       "      <td>1004</td>\n",
       "      <td>Patrick Johnson</td>\n",
       "      <td>US</td>\n",
       "      <td>7</td>\n",
       "    </tr>\n",
       "    <tr>\n",
       "      <td>5</td>\n",
       "      <td>1005</td>\n",
       "      <td>Steel &amp; Aluminium LLC</td>\n",
       "      <td>US</td>\n",
       "      <td>0</td>\n",
       "    </tr>\n",
       "    <tr>\n",
       "      <td>6</td>\n",
       "      <td>1006</td>\n",
       "      <td>Joseph Omer</td>\n",
       "      <td>EMEA</td>\n",
       "      <td>5</td>\n",
       "    </tr>\n",
       "    <tr>\n",
       "      <td>7</td>\n",
       "      <td>1007</td>\n",
       "      <td>Aerospace SE</td>\n",
       "      <td>EU</td>\n",
       "      <td>5</td>\n",
       "    </tr>\n",
       "    <tr>\n",
       "      <td>8</td>\n",
       "      <td>1008</td>\n",
       "      <td>Chow Ming</td>\n",
       "      <td>APAC</td>\n",
       "      <td>0</td>\n",
       "    </tr>\n",
       "    <tr>\n",
       "      <td>9</td>\n",
       "      <td>1009</td>\n",
       "      <td>Robert Sherbatsky</td>\n",
       "      <td>Canada</td>\n",
       "      <td>3</td>\n",
       "    </tr>\n",
       "    <tr>\n",
       "      <td>10</td>\n",
       "      <td>1010</td>\n",
       "      <td>Pedro Rodriguez</td>\n",
       "      <td>LATAM</td>\n",
       "      <td>0</td>\n",
       "    </tr>\n",
       "    <tr>\n",
       "      <td>11</td>\n",
       "      <td>1011</td>\n",
       "      <td>NetClickz LLC</td>\n",
       "      <td>US</td>\n",
       "      <td>0</td>\n",
       "    </tr>\n",
       "    <tr>\n",
       "      <td>12</td>\n",
       "      <td>1012</td>\n",
       "      <td>DCA Brasil SA</td>\n",
       "      <td>LATAM</td>\n",
       "      <td>0</td>\n",
       "    </tr>\n",
       "    <tr>\n",
       "      <td>13</td>\n",
       "      <td>1013</td>\n",
       "      <td>Luis Cardoso</td>\n",
       "      <td>LATAM</td>\n",
       "      <td>1</td>\n",
       "    </tr>\n",
       "    <tr>\n",
       "      <td>14</td>\n",
       "      <td>1014</td>\n",
       "      <td>TV TelAviv</td>\n",
       "      <td>EMEA</td>\n",
       "      <td>7</td>\n",
       "    </tr>\n",
       "    <tr>\n",
       "      <td>15</td>\n",
       "      <td>1015</td>\n",
       "      <td>Dong Yu</td>\n",
       "      <td>APAC</td>\n",
       "      <td>1</td>\n",
       "    </tr>\n",
       "    <tr>\n",
       "      <td>16</td>\n",
       "      <td>1016</td>\n",
       "      <td>ZooWorld Inc</td>\n",
       "      <td>US</td>\n",
       "      <td>2</td>\n",
       "    </tr>\n",
       "    <tr>\n",
       "      <td>17</td>\n",
       "      <td>1017</td>\n",
       "      <td>SnowMobiles Inc</td>\n",
       "      <td>Canada</td>\n",
       "      <td>0</td>\n",
       "    </tr>\n",
       "    <tr>\n",
       "      <td>18</td>\n",
       "      <td>1018</td>\n",
       "      <td>Rodegaard A/S</td>\n",
       "      <td>EMEA</td>\n",
       "      <td>3</td>\n",
       "    </tr>\n",
       "    <tr>\n",
       "      <td>19</td>\n",
       "      <td>1019</td>\n",
       "      <td>Trademark Inc</td>\n",
       "      <td>US</td>\n",
       "      <td>8</td>\n",
       "    </tr>\n",
       "    <tr>\n",
       "      <td>20</td>\n",
       "      <td>1020</td>\n",
       "      <td>Daniel Meyer</td>\n",
       "      <td>EU</td>\n",
       "      <td>4</td>\n",
       "    </tr>\n",
       "    <tr>\n",
       "      <td>21</td>\n",
       "      <td>1021</td>\n",
       "      <td>Gikuyu Ltd</td>\n",
       "      <td>Africa</td>\n",
       "      <td>0</td>\n",
       "    </tr>\n",
       "    <tr>\n",
       "      <td>22</td>\n",
       "      <td>1022</td>\n",
       "      <td>Waka Tours Ltd</td>\n",
       "      <td>Africa</td>\n",
       "      <td>0</td>\n",
       "    </tr>\n",
       "    <tr>\n",
       "      <td>23</td>\n",
       "      <td>1023</td>\n",
       "      <td>James King</td>\n",
       "      <td>Africa</td>\n",
       "      <td>8</td>\n",
       "    </tr>\n",
       "    <tr>\n",
       "      <td>24</td>\n",
       "      <td>1024</td>\n",
       "      <td>Indonesian Airways Ltd</td>\n",
       "      <td>APAC</td>\n",
       "      <td>0</td>\n",
       "    </tr>\n",
       "    <tr>\n",
       "      <td>25</td>\n",
       "      <td>1025</td>\n",
       "      <td>Buena Comida SL</td>\n",
       "      <td>LATAM</td>\n",
       "      <td>7</td>\n",
       "    </tr>\n",
       "    <tr>\n",
       "      <td>26</td>\n",
       "      <td>1026</td>\n",
       "      <td>TFST GmbH</td>\n",
       "      <td>EU</td>\n",
       "      <td>0</td>\n",
       "    </tr>\n",
       "    <tr>\n",
       "      <td>27</td>\n",
       "      <td>1027</td>\n",
       "      <td>Ian Clarke</td>\n",
       "      <td>EMEA</td>\n",
       "      <td>3</td>\n",
       "    </tr>\n",
       "    <tr>\n",
       "      <td>28</td>\n",
       "      <td>1028</td>\n",
       "      <td>Davide Vincenzo</td>\n",
       "      <td>EU</td>\n",
       "      <td>2</td>\n",
       "    </tr>\n",
       "    <tr>\n",
       "      <td>29</td>\n",
       "      <td>1029</td>\n",
       "      <td>Singapore Trading Inc</td>\n",
       "      <td>APAC</td>\n",
       "      <td>2</td>\n",
       "    </tr>\n",
       "    <tr>\n",
       "      <td>30</td>\n",
       "      <td>1030</td>\n",
       "      <td>Computer Industries AG</td>\n",
       "      <td>EU</td>\n",
       "      <td>3</td>\n",
       "    </tr>\n",
       "    <tr>\n",
       "      <td>31</td>\n",
       "      <td>1031</td>\n",
       "      <td>George Brady</td>\n",
       "      <td>US</td>\n",
       "      <td>4</td>\n",
       "    </tr>\n",
       "  </tbody>\n",
       "</table>\n",
       "</div>"
      ],
      "text/plain": [
       "    CustomerID                Customer  Market  CustomerComplaints\n",
       "0         1000             Didier Evra  Africa                   7\n",
       "1         1001            Jean Tedeaux  Canada                   1\n",
       "2         1002                HBSA LLC  Canada                   4\n",
       "3         1003       Bikes and More SE      EU                   0\n",
       "4         1004         Patrick Johnson      US                   7\n",
       "5         1005   Steel & Aluminium LLC      US                   0\n",
       "6         1006             Joseph Omer    EMEA                   5\n",
       "7         1007            Aerospace SE      EU                   5\n",
       "8         1008               Chow Ming    APAC                   0\n",
       "9         1009       Robert Sherbatsky  Canada                   3\n",
       "10        1010         Pedro Rodriguez   LATAM                   0\n",
       "11        1011           NetClickz LLC      US                   0\n",
       "12        1012           DCA Brasil SA   LATAM                   0\n",
       "13        1013            Luis Cardoso   LATAM                   1\n",
       "14        1014              TV TelAviv    EMEA                   7\n",
       "15        1015                 Dong Yu    APAC                   1\n",
       "16        1016            ZooWorld Inc      US                   2\n",
       "17        1017         SnowMobiles Inc  Canada                   0\n",
       "18        1018           Rodegaard A/S    EMEA                   3\n",
       "19        1019           Trademark Inc      US                   8\n",
       "20        1020            Daniel Meyer      EU                   4\n",
       "21        1021              Gikuyu Ltd  Africa                   0\n",
       "22        1022          Waka Tours Ltd  Africa                   0\n",
       "23        1023              James King  Africa                   8\n",
       "24        1024  Indonesian Airways Ltd    APAC                   0\n",
       "25        1025         Buena Comida SL   LATAM                   7\n",
       "26        1026               TFST GmbH      EU                   0\n",
       "27        1027              Ian Clarke    EMEA                   3\n",
       "28        1028         Davide Vincenzo      EU                   2\n",
       "29        1029   Singapore Trading Inc    APAC                   2\n",
       "30        1030  Computer Industries AG      EU                   3\n",
       "31        1031            George Brady      US                   4"
      ]
     },
     "execution_count": 3,
     "metadata": {},
     "output_type": "execute_result"
    }
   ],
   "source": [
    "customers"
   ]
  },
  {
   "cell_type": "code",
   "execution_count": 4,
   "metadata": {},
   "outputs": [
    {
     "name": "stdout",
     "output_type": "stream",
     "text": [
      "<class 'pandas.core.frame.DataFrame'>\n",
      "RangeIndex: 32 entries, 0 to 31\n",
      "Data columns (total 4 columns):\n",
      "CustomerID            32 non-null int64\n",
      "Customer              32 non-null object\n",
      "Market                32 non-null object\n",
      "CustomerComplaints    32 non-null int64\n",
      "dtypes: int64(2), object(2)\n",
      "memory usage: 1.1+ KB\n"
     ]
    }
   ],
   "source": [
    "customers.info()"
   ]
  },
  {
   "cell_type": "code",
   "execution_count": 5,
   "metadata": {},
   "outputs": [
    {
     "data": {
      "text/plain": [
       "US        6\n",
       "EU        6\n",
       "EMEA      4\n",
       "Canada    4\n",
       "Africa    4\n",
       "APAC      4\n",
       "LATAM     4\n",
       "Name: Market, dtype: int64"
      ]
     },
     "execution_count": 5,
     "metadata": {},
     "output_type": "execute_result"
    }
   ],
   "source": [
    "customers[\"Market\"].value_counts()"
   ]
  },
  {
   "cell_type": "code",
   "execution_count": 6,
   "metadata": {},
   "outputs": [
    {
     "data": {
      "text/plain": [
       "0    11\n",
       "7     4\n",
       "3     4\n",
       "4     3\n",
       "2     3\n",
       "1     3\n",
       "8     2\n",
       "5     2\n",
       "Name: CustomerComplaints, dtype: int64"
      ]
     },
     "execution_count": 6,
     "metadata": {},
     "output_type": "execute_result"
    }
   ],
   "source": [
    "customers[\"CustomerComplaints\"].value_counts()"
   ]
  },
  {
   "cell_type": "code",
   "execution_count": 7,
   "metadata": {},
   "outputs": [
    {
     "data": {
      "text/plain": [
       "count    32.000000\n",
       "mean      2.718750\n",
       "std       2.761888\n",
       "min       0.000000\n",
       "25%       0.000000\n",
       "50%       2.000000\n",
       "75%       4.250000\n",
       "max       8.000000\n",
       "Name: CustomerComplaints, dtype: float64"
      ]
     },
     "execution_count": 7,
     "metadata": {},
     "output_type": "execute_result"
    }
   ],
   "source": [
    "customers[\"CustomerComplaints\"].describe()"
   ]
  },
  {
   "cell_type": "markdown",
   "metadata": {},
   "source": [
    "## Orders "
   ]
  },
  {
   "cell_type": "code",
   "execution_count": 8,
   "metadata": {},
   "outputs": [
    {
     "data": {
      "text/html": [
       "<div>\n",
       "<style scoped>\n",
       "    .dataframe tbody tr th:only-of-type {\n",
       "        vertical-align: middle;\n",
       "    }\n",
       "\n",
       "    .dataframe tbody tr th {\n",
       "        vertical-align: top;\n",
       "    }\n",
       "\n",
       "    .dataframe thead th {\n",
       "        text-align: right;\n",
       "    }\n",
       "</style>\n",
       "<table border=\"1\" class=\"dataframe\">\n",
       "  <thead>\n",
       "    <tr style=\"text-align: right;\">\n",
       "      <th></th>\n",
       "      <th>OrderID</th>\n",
       "      <th>InvoiceDate</th>\n",
       "      <th>CustomerID</th>\n",
       "      <th>OrderVolume</th>\n",
       "      <th>ShipMode</th>\n",
       "      <th>Segment</th>\n",
       "      <th>Category</th>\n",
       "      <th>PaymentTerm</th>\n",
       "      <th>Discount</th>\n",
       "      <th>ExistingPurchaseOrder</th>\n",
       "      <th>FirstCustomerOrder</th>\n",
       "      <th>CashInDate</th>\n",
       "    </tr>\n",
       "  </thead>\n",
       "  <tbody>\n",
       "    <tr>\n",
       "      <td>0</td>\n",
       "      <td>O-100</td>\n",
       "      <td>2011-01-03</td>\n",
       "      <td>1024</td>\n",
       "      <td>276.1</td>\n",
       "      <td>Same Day</td>\n",
       "      <td>Corporate</td>\n",
       "      <td>Office Supplies</td>\n",
       "      <td>30</td>\n",
       "      <td>5%</td>\n",
       "      <td>Yes</td>\n",
       "      <td>Yes</td>\n",
       "      <td>2011-02-18</td>\n",
       "    </tr>\n",
       "    <tr>\n",
       "      <td>1</td>\n",
       "      <td>O-101</td>\n",
       "      <td>2011-01-03</td>\n",
       "      <td>1024</td>\n",
       "      <td>35.88</td>\n",
       "      <td>Same Day</td>\n",
       "      <td>Corporate</td>\n",
       "      <td>Office Supplies</td>\n",
       "      <td>30</td>\n",
       "      <td>5%</td>\n",
       "      <td>Yes</td>\n",
       "      <td>No</td>\n",
       "      <td>2011-02-18</td>\n",
       "    </tr>\n",
       "    <tr>\n",
       "      <td>2</td>\n",
       "      <td>O-102</td>\n",
       "      <td>2011-01-05</td>\n",
       "      <td>1006</td>\n",
       "      <td>66.12</td>\n",
       "      <td>Second Class</td>\n",
       "      <td>Consumer</td>\n",
       "      <td>Office Supplies</td>\n",
       "      <td>30</td>\n",
       "      <td>3%</td>\n",
       "      <td>Yes</td>\n",
       "      <td>Yes</td>\n",
       "      <td>2011-02-06</td>\n",
       "    </tr>\n",
       "    <tr>\n",
       "      <td>3</td>\n",
       "      <td>O-104</td>\n",
       "      <td>2011-01-06</td>\n",
       "      <td>1023</td>\n",
       "      <td>408.3</td>\n",
       "      <td>Standard Class</td>\n",
       "      <td>Consumer</td>\n",
       "      <td>Office Supplies</td>\n",
       "      <td>30</td>\n",
       "      <td>5%</td>\n",
       "      <td>No</td>\n",
       "      <td>Yes</td>\n",
       "      <td>2011-02-17</td>\n",
       "    </tr>\n",
       "    <tr>\n",
       "      <td>4</td>\n",
       "      <td>O-105</td>\n",
       "      <td>2011-01-06</td>\n",
       "      <td>1009</td>\n",
       "      <td>314.22</td>\n",
       "      <td>Standard Class</td>\n",
       "      <td>Consumer</td>\n",
       "      <td>Technology</td>\n",
       "      <td>45</td>\n",
       "      <td>3%</td>\n",
       "      <td>Yes</td>\n",
       "      <td>Yes</td>\n",
       "      <td>2011-02-10</td>\n",
       "    </tr>\n",
       "    <tr>\n",
       "      <td>...</td>\n",
       "      <td>...</td>\n",
       "      <td>...</td>\n",
       "      <td>...</td>\n",
       "      <td>...</td>\n",
       "      <td>...</td>\n",
       "      <td>...</td>\n",
       "      <td>...</td>\n",
       "      <td>...</td>\n",
       "      <td>...</td>\n",
       "      <td>...</td>\n",
       "      <td>...</td>\n",
       "      <td>...</td>\n",
       "    </tr>\n",
       "    <tr>\n",
       "      <td>37637</td>\n",
       "      <td>O-48951</td>\n",
       "      <td>2014/30/11</td>\n",
       "      <td>1029</td>\n",
       "      <td>50.09</td>\n",
       "      <td>Standard Class</td>\n",
       "      <td>Corporate</td>\n",
       "      <td>Office Supplies</td>\n",
       "      <td>14</td>\n",
       "      <td>3%</td>\n",
       "      <td>No</td>\n",
       "      <td>No</td>\n",
       "      <td>2014-12-31</td>\n",
       "    </tr>\n",
       "    <tr>\n",
       "      <td>37638</td>\n",
       "      <td>O-48953</td>\n",
       "      <td>2014/30/11</td>\n",
       "      <td>1010</td>\n",
       "      <td>21.12</td>\n",
       "      <td>Same Day</td>\n",
       "      <td>Consumer</td>\n",
       "      <td>Office Supplies</td>\n",
       "      <td>14</td>\n",
       "      <td>5%</td>\n",
       "      <td>Yes</td>\n",
       "      <td>No</td>\n",
       "      <td>2014-12-31</td>\n",
       "    </tr>\n",
       "    <tr>\n",
       "      <td>37639</td>\n",
       "      <td>O-48960</td>\n",
       "      <td>2014-11-30</td>\n",
       "      <td>1031</td>\n",
       "      <td>33.57</td>\n",
       "      <td>First Class</td>\n",
       "      <td>Consumer</td>\n",
       "      <td>Office Supplies</td>\n",
       "      <td>14</td>\n",
       "      <td>5%</td>\n",
       "      <td>Yes</td>\n",
       "      <td>No</td>\n",
       "      <td>2014-12-16</td>\n",
       "    </tr>\n",
       "    <tr>\n",
       "      <td>37640</td>\n",
       "      <td>O-48972</td>\n",
       "      <td>2014-11-30</td>\n",
       "      <td>1031</td>\n",
       "      <td>20.72</td>\n",
       "      <td>Second Class</td>\n",
       "      <td>Consumer</td>\n",
       "      <td>Office Supplies</td>\n",
       "      <td>30</td>\n",
       "      <td>3%</td>\n",
       "      <td>Yes</td>\n",
       "      <td>No</td>\n",
       "      <td>2014-12-15</td>\n",
       "    </tr>\n",
       "    <tr>\n",
       "      <td>37641</td>\n",
       "      <td>O-48977</td>\n",
       "      <td>2014-11-30</td>\n",
       "      <td>1000</td>\n",
       "      <td>1.2</td>\n",
       "      <td>Standard Class</td>\n",
       "      <td>Consumer</td>\n",
       "      <td>Office Supplies</td>\n",
       "      <td>14</td>\n",
       "      <td>0%</td>\n",
       "      <td>Yes</td>\n",
       "      <td>No</td>\n",
       "      <td>2014-12-30</td>\n",
       "    </tr>\n",
       "  </tbody>\n",
       "</table>\n",
       "<p>37642 rows × 12 columns</p>\n",
       "</div>"
      ],
      "text/plain": [
       "       OrderID InvoiceDate  CustomerID OrderVolume        ShipMode    Segment  \\\n",
       "0        O-100  2011-01-03        1024       276.1        Same Day  Corporate   \n",
       "1        O-101  2011-01-03        1024       35.88        Same Day  Corporate   \n",
       "2        O-102  2011-01-05        1006       66.12    Second Class   Consumer   \n",
       "3        O-104  2011-01-06        1023       408.3  Standard Class   Consumer   \n",
       "4        O-105  2011-01-06        1009      314.22  Standard Class   Consumer   \n",
       "...        ...         ...         ...         ...             ...        ...   \n",
       "37637  O-48951  2014/30/11        1029       50.09  Standard Class  Corporate   \n",
       "37638  O-48953  2014/30/11        1010       21.12        Same Day   Consumer   \n",
       "37639  O-48960  2014-11-30        1031       33.57     First Class   Consumer   \n",
       "37640  O-48972  2014-11-30        1031       20.72    Second Class   Consumer   \n",
       "37641  O-48977  2014-11-30        1000         1.2  Standard Class   Consumer   \n",
       "\n",
       "              Category  PaymentTerm Discount ExistingPurchaseOrder  \\\n",
       "0      Office Supplies           30       5%                   Yes   \n",
       "1      Office Supplies           30       5%                   Yes   \n",
       "2      Office Supplies           30       3%                   Yes   \n",
       "3      Office Supplies           30       5%                    No   \n",
       "4           Technology           45       3%                   Yes   \n",
       "...                ...          ...      ...                   ...   \n",
       "37637  Office Supplies           14       3%                    No   \n",
       "37638  Office Supplies           14       5%                   Yes   \n",
       "37639  Office Supplies           14       5%                   Yes   \n",
       "37640  Office Supplies           30       3%                   Yes   \n",
       "37641  Office Supplies           14       0%                   Yes   \n",
       "\n",
       "      FirstCustomerOrder  CashInDate  \n",
       "0                    Yes  2011-02-18  \n",
       "1                     No  2011-02-18  \n",
       "2                    Yes  2011-02-06  \n",
       "3                    Yes  2011-02-17  \n",
       "4                    Yes  2011-02-10  \n",
       "...                  ...         ...  \n",
       "37637                 No  2014-12-31  \n",
       "37638                 No  2014-12-31  \n",
       "37639                 No  2014-12-16  \n",
       "37640                 No  2014-12-15  \n",
       "37641                 No  2014-12-30  \n",
       "\n",
       "[37642 rows x 12 columns]"
      ]
     },
     "execution_count": 8,
     "metadata": {},
     "output_type": "execute_result"
    }
   ],
   "source": [
    "orders"
   ]
  },
  {
   "cell_type": "code",
   "execution_count": 9,
   "metadata": {},
   "outputs": [
    {
     "name": "stdout",
     "output_type": "stream",
     "text": [
      "<class 'pandas.core.frame.DataFrame'>\n",
      "RangeIndex: 37642 entries, 0 to 37641\n",
      "Data columns (total 12 columns):\n",
      "OrderID                  37642 non-null object\n",
      "InvoiceDate              37642 non-null object\n",
      "CustomerID               37642 non-null int64\n",
      "OrderVolume              37633 non-null object\n",
      "ShipMode                 37642 non-null object\n",
      "Segment                  37642 non-null object\n",
      "Category                 37642 non-null object\n",
      "PaymentTerm              37642 non-null int64\n",
      "Discount                 37626 non-null object\n",
      "ExistingPurchaseOrder    37642 non-null object\n",
      "FirstCustomerOrder       37642 non-null object\n",
      "CashInDate               37642 non-null object\n",
      "dtypes: int64(2), object(10)\n",
      "memory usage: 3.4+ MB\n"
     ]
    }
   ],
   "source": [
    "orders.info()"
   ]
  },
  {
   "cell_type": "code",
   "execution_count": 10,
   "metadata": {},
   "outputs": [
    {
     "data": {
      "text/html": [
       "<div>\n",
       "<style scoped>\n",
       "    .dataframe tbody tr th:only-of-type {\n",
       "        vertical-align: middle;\n",
       "    }\n",
       "\n",
       "    .dataframe tbody tr th {\n",
       "        vertical-align: top;\n",
       "    }\n",
       "\n",
       "    .dataframe thead th {\n",
       "        text-align: right;\n",
       "    }\n",
       "</style>\n",
       "<table border=\"1\" class=\"dataframe\">\n",
       "  <thead>\n",
       "    <tr style=\"text-align: right;\">\n",
       "      <th></th>\n",
       "      <th>CustomerID</th>\n",
       "      <th>PaymentTerm</th>\n",
       "    </tr>\n",
       "  </thead>\n",
       "  <tbody>\n",
       "    <tr>\n",
       "      <td>count</td>\n",
       "      <td>37642.000000</td>\n",
       "      <td>37642.000000</td>\n",
       "    </tr>\n",
       "    <tr>\n",
       "      <td>mean</td>\n",
       "      <td>1016.965969</td>\n",
       "      <td>29.547314</td>\n",
       "    </tr>\n",
       "    <tr>\n",
       "      <td>std</td>\n",
       "      <td>8.935228</td>\n",
       "      <td>12.673499</td>\n",
       "    </tr>\n",
       "    <tr>\n",
       "      <td>min</td>\n",
       "      <td>1000.000000</td>\n",
       "      <td>14.000000</td>\n",
       "    </tr>\n",
       "    <tr>\n",
       "      <td>25%</td>\n",
       "      <td>1010.000000</td>\n",
       "      <td>14.000000</td>\n",
       "    </tr>\n",
       "    <tr>\n",
       "      <td>50%</td>\n",
       "      <td>1016.000000</td>\n",
       "      <td>30.000000</td>\n",
       "    </tr>\n",
       "    <tr>\n",
       "      <td>75%</td>\n",
       "      <td>1025.000000</td>\n",
       "      <td>45.000000</td>\n",
       "    </tr>\n",
       "    <tr>\n",
       "      <td>max</td>\n",
       "      <td>1031.000000</td>\n",
       "      <td>45.000000</td>\n",
       "    </tr>\n",
       "  </tbody>\n",
       "</table>\n",
       "</div>"
      ],
      "text/plain": [
       "         CustomerID   PaymentTerm\n",
       "count  37642.000000  37642.000000\n",
       "mean    1016.965969     29.547314\n",
       "std        8.935228     12.673499\n",
       "min     1000.000000     14.000000\n",
       "25%     1010.000000     14.000000\n",
       "50%     1016.000000     30.000000\n",
       "75%     1025.000000     45.000000\n",
       "max     1031.000000     45.000000"
      ]
     },
     "execution_count": 10,
     "metadata": {},
     "output_type": "execute_result"
    }
   ],
   "source": [
    "orders.describe()"
   ]
  },
  {
   "cell_type": "code",
   "execution_count": 11,
   "metadata": {},
   "outputs": [
    {
     "data": {
      "text/plain": [
       "1008    2126\n",
       "1015    2089\n",
       "1013    1968\n",
       "1010    1964\n",
       "1029    1961\n",
       "1024    1958\n",
       "1028    1937\n",
       "1004    1911\n",
       "1020    1876\n",
       "1031    1864\n",
       "1012    1842\n",
       "1025    1747\n",
       "1018     965\n",
       "1006     963\n",
       "1005     926\n",
       "1014     924\n",
       "1016     917\n",
       "1007     912\n",
       "1027     905\n",
       "1030     897\n",
       "1000     880\n",
       "1003     871\n",
       "1011     861\n",
       "1019     847\n",
       "1026     841\n",
       "1023     825\n",
       "1022     797\n",
       "1021     789\n",
       "1009      73\n",
       "1002      71\n",
       "1001      68\n",
       "1017      67\n",
       "Name: CustomerID, dtype: int64"
      ]
     },
     "execution_count": 11,
     "metadata": {},
     "output_type": "execute_result"
    }
   ],
   "source": [
    "orders[\"CustomerID\"].value_counts()"
   ]
  },
  {
   "cell_type": "code",
   "execution_count": 12,
   "metadata": {},
   "outputs": [
    {
     "data": {
      "text/plain": [
       "Standard Class    22532\n",
       "Second Class       7571\n",
       "First Class        5554\n",
       "Same Day           1985\n",
       "Name: ShipMode, dtype: int64"
      ]
     },
     "execution_count": 12,
     "metadata": {},
     "output_type": "execute_result"
    }
   ],
   "source": [
    "orders[\"ShipMode\"].value_counts()"
   ]
  },
  {
   "cell_type": "code",
   "execution_count": 13,
   "metadata": {},
   "outputs": [
    {
     "data": {
      "text/plain": [
       "Consumer     19449\n",
       "Corporate    18193\n",
       "Name: Segment, dtype: int64"
      ]
     },
     "execution_count": 13,
     "metadata": {},
     "output_type": "execute_result"
    }
   ],
   "source": [
    "orders[\"Segment\"].value_counts()"
   ]
  },
  {
   "cell_type": "code",
   "execution_count": 14,
   "metadata": {},
   "outputs": [
    {
     "data": {
      "text/plain": [
       "Office Supplies    22931\n",
       "Technology          7535\n",
       "Furniture           7176\n",
       "Name: Category, dtype: int64"
      ]
     },
     "execution_count": 14,
     "metadata": {},
     "output_type": "execute_result"
    }
   ],
   "source": [
    "orders[\"Category\"].value_counts()"
   ]
  },
  {
   "cell_type": "code",
   "execution_count": 15,
   "metadata": {},
   "outputs": [
    {
     "data": {
      "text/plain": [
       "14    12720\n",
       "30    12490\n",
       "45    12432\n",
       "Name: PaymentTerm, dtype: int64"
      ]
     },
     "execution_count": 15,
     "metadata": {},
     "output_type": "execute_result"
    }
   ],
   "source": [
    "orders[\"PaymentTerm\"].value_counts()"
   ]
  },
  {
   "cell_type": "code",
   "execution_count": 16,
   "metadata": {},
   "outputs": [
    {
     "data": {
      "text/plain": [
       "5%    18748\n",
       "3%     9440\n",
       "0%     9438\n",
       "Name: Discount, dtype: int64"
      ]
     },
     "execution_count": 16,
     "metadata": {},
     "output_type": "execute_result"
    }
   ],
   "source": [
    "orders[\"Discount\"].value_counts()"
   ]
  },
  {
   "cell_type": "code",
   "execution_count": 17,
   "metadata": {},
   "outputs": [
    {
     "data": {
      "text/plain": [
       "Yes    33022\n",
       "No      4620\n",
       "Name: ExistingPurchaseOrder, dtype: int64"
      ]
     },
     "execution_count": 17,
     "metadata": {},
     "output_type": "execute_result"
    }
   ],
   "source": [
    "orders[\"ExistingPurchaseOrder\"].value_counts()"
   ]
  },
  {
   "cell_type": "code",
   "execution_count": 18,
   "metadata": {},
   "outputs": [
    {
     "data": {
      "text/plain": [
       "No     37617\n",
       "Yes       25\n",
       "Name: FirstCustomerOrder, dtype: int64"
      ]
     },
     "execution_count": 18,
     "metadata": {},
     "output_type": "execute_result"
    }
   ],
   "source": [
    "orders[\"FirstCustomerOrder\"].value_counts()"
   ]
  },
  {
   "cell_type": "markdown",
   "metadata": {},
   "source": [
    "# Task 1: Predict the number of days between invoice date and cash in date for each invoice"
   ]
  },
  {
   "cell_type": "markdown",
   "metadata": {},
   "source": [
    "# Data Preparation & New Features"
   ]
  },
  {
   "cell_type": "markdown",
   "metadata": {},
   "source": [
    "### Drop FirstCustomerOrder\n",
    "Only 25 'Yes' entries, therefore it will not add value to the model."
   ]
  },
  {
   "cell_type": "code",
   "execution_count": 19,
   "metadata": {},
   "outputs": [],
   "source": [
    "orders = orders.drop(columns=['FirstCustomerOrder'])"
   ]
  },
  {
   "cell_type": "markdown",
   "metadata": {},
   "source": [
    "### InvoiceDate Format"
   ]
  },
  {
   "cell_type": "code",
   "execution_count": 20,
   "metadata": {},
   "outputs": [
    {
     "name": "stderr",
     "output_type": "stream",
     "text": [
      "C:\\Users\\Daniel\\Anaconda3\\lib\\site-packages\\ipykernel_launcher.py:8: SettingWithCopyWarning: \n",
      "A value is trying to be set on a copy of a slice from a DataFrame\n",
      "\n",
      "See the caveats in the documentation: http://pandas.pydata.org/pandas-docs/stable/user_guide/indexing.html#returning-a-view-versus-a-copy\n",
      "  \n"
     ]
    }
   ],
   "source": [
    "# Dealing with differences in the date format (some were in YDM order)\n",
    "for index, row in orders.iterrows():\n",
    "    if('/' in orders['InvoiceDate'][index]): \n",
    "        year = orders['InvoiceDate'][index][:4]\n",
    "        month = orders['InvoiceDate'][index][8:10]\n",
    "        day = orders['InvoiceDate'][index][5:7]\n",
    "        date = year + \"-\" + month + \"-\" + day\n",
    "        orders['InvoiceDate'][index] = date"
   ]
  },
  {
   "cell_type": "markdown",
   "metadata": {},
   "source": [
    "### OrderVolume Format"
   ]
  },
  {
   "cell_type": "code",
   "execution_count": 21,
   "metadata": {},
   "outputs": [],
   "source": [
    "# Removing '$' from data in OrderVolume\n",
    "orders['OrderVolume'] = orders['OrderVolume'].astype(str)\n",
    "orders['OrderVolume'] = orders['OrderVolume'].str.replace('$', '', regex=True)\n",
    "orders['OrderVolume'] = orders['OrderVolume'].astype(float)"
   ]
  },
  {
   "cell_type": "markdown",
   "metadata": {},
   "source": [
    "### InvoiceDate & CashInDate to_datetime"
   ]
  },
  {
   "cell_type": "code",
   "execution_count": 22,
   "metadata": {},
   "outputs": [],
   "source": [
    "# Changing type from object to datetime\n",
    "orders['InvoiceDate'] = pd.to_datetime(orders['InvoiceDate'])\n",
    "orders['CashInDate'] = pd.to_datetime(orders['CashInDate'])"
   ]
  },
  {
   "cell_type": "markdown",
   "metadata": {},
   "source": [
    "### New Feature \"Market\" & \"CustomerComplaints\""
   ]
  },
  {
   "cell_type": "code",
   "execution_count": 23,
   "metadata": {},
   "outputs": [],
   "source": [
    "# Adding features Market and CusomerComplaints from Dataframe customers\n",
    "orders['Market'] = ''\n",
    "orders['CustomerComplaints'] = 0"
   ]
  },
  {
   "cell_type": "code",
   "execution_count": 24,
   "metadata": {},
   "outputs": [
    {
     "name": "stderr",
     "output_type": "stream",
     "text": [
      "C:\\Users\\Daniel\\Anaconda3\\lib\\site-packages\\ipykernel_launcher.py:3: SettingWithCopyWarning: \n",
      "A value is trying to be set on a copy of a slice from a DataFrame\n",
      "\n",
      "See the caveats in the documentation: http://pandas.pydata.org/pandas-docs/stable/user_guide/indexing.html#returning-a-view-versus-a-copy\n",
      "  This is separate from the ipykernel package so we can avoid doing imports until\n",
      "C:\\Users\\Daniel\\Anaconda3\\lib\\site-packages\\ipykernel_launcher.py:4: SettingWithCopyWarning: \n",
      "A value is trying to be set on a copy of a slice from a DataFrame\n",
      "\n",
      "See the caveats in the documentation: http://pandas.pydata.org/pandas-docs/stable/user_guide/indexing.html#returning-a-view-versus-a-copy\n",
      "  after removing the cwd from sys.path.\n"
     ]
    }
   ],
   "source": [
    "for i, row in orders.iterrows():\n",
    "    id = orders['CustomerID'][i]\n",
    "    orders['Market'][i] = customers.loc[customers['CustomerID'] == id, 'Market'].iloc[0]\n",
    "    orders['CustomerComplaints'][i] = customers.loc[customers['CustomerID'] == id, 'CustomerComplaints'].iloc[0]  "
   ]
  },
  {
   "cell_type": "code",
   "execution_count": 25,
   "metadata": {},
   "outputs": [
    {
     "data": {
      "text/html": [
       "<div>\n",
       "<style scoped>\n",
       "    .dataframe tbody tr th:only-of-type {\n",
       "        vertical-align: middle;\n",
       "    }\n",
       "\n",
       "    .dataframe tbody tr th {\n",
       "        vertical-align: top;\n",
       "    }\n",
       "\n",
       "    .dataframe thead th {\n",
       "        text-align: right;\n",
       "    }\n",
       "</style>\n",
       "<table border=\"1\" class=\"dataframe\">\n",
       "  <thead>\n",
       "    <tr style=\"text-align: right;\">\n",
       "      <th></th>\n",
       "      <th>OrderID</th>\n",
       "      <th>InvoiceDate</th>\n",
       "      <th>CustomerID</th>\n",
       "      <th>OrderVolume</th>\n",
       "      <th>ShipMode</th>\n",
       "      <th>Segment</th>\n",
       "      <th>Category</th>\n",
       "      <th>PaymentTerm</th>\n",
       "      <th>Discount</th>\n",
       "      <th>ExistingPurchaseOrder</th>\n",
       "      <th>CashInDate</th>\n",
       "      <th>Market</th>\n",
       "      <th>CustomerComplaints</th>\n",
       "    </tr>\n",
       "  </thead>\n",
       "  <tbody>\n",
       "    <tr>\n",
       "      <td>0</td>\n",
       "      <td>O-100</td>\n",
       "      <td>2011-01-03</td>\n",
       "      <td>1024</td>\n",
       "      <td>276.10</td>\n",
       "      <td>Same Day</td>\n",
       "      <td>Corporate</td>\n",
       "      <td>Office Supplies</td>\n",
       "      <td>30</td>\n",
       "      <td>5%</td>\n",
       "      <td>Yes</td>\n",
       "      <td>2011-02-18</td>\n",
       "      <td>APAC</td>\n",
       "      <td>0</td>\n",
       "    </tr>\n",
       "    <tr>\n",
       "      <td>1</td>\n",
       "      <td>O-101</td>\n",
       "      <td>2011-01-03</td>\n",
       "      <td>1024</td>\n",
       "      <td>35.88</td>\n",
       "      <td>Same Day</td>\n",
       "      <td>Corporate</td>\n",
       "      <td>Office Supplies</td>\n",
       "      <td>30</td>\n",
       "      <td>5%</td>\n",
       "      <td>Yes</td>\n",
       "      <td>2011-02-18</td>\n",
       "      <td>APAC</td>\n",
       "      <td>0</td>\n",
       "    </tr>\n",
       "    <tr>\n",
       "      <td>2</td>\n",
       "      <td>O-102</td>\n",
       "      <td>2011-01-05</td>\n",
       "      <td>1006</td>\n",
       "      <td>66.12</td>\n",
       "      <td>Second Class</td>\n",
       "      <td>Consumer</td>\n",
       "      <td>Office Supplies</td>\n",
       "      <td>30</td>\n",
       "      <td>3%</td>\n",
       "      <td>Yes</td>\n",
       "      <td>2011-02-06</td>\n",
       "      <td>EMEA</td>\n",
       "      <td>5</td>\n",
       "    </tr>\n",
       "    <tr>\n",
       "      <td>3</td>\n",
       "      <td>O-104</td>\n",
       "      <td>2011-01-06</td>\n",
       "      <td>1023</td>\n",
       "      <td>408.30</td>\n",
       "      <td>Standard Class</td>\n",
       "      <td>Consumer</td>\n",
       "      <td>Office Supplies</td>\n",
       "      <td>30</td>\n",
       "      <td>5%</td>\n",
       "      <td>No</td>\n",
       "      <td>2011-02-17</td>\n",
       "      <td>Africa</td>\n",
       "      <td>8</td>\n",
       "    </tr>\n",
       "    <tr>\n",
       "      <td>4</td>\n",
       "      <td>O-105</td>\n",
       "      <td>2011-01-06</td>\n",
       "      <td>1009</td>\n",
       "      <td>314.22</td>\n",
       "      <td>Standard Class</td>\n",
       "      <td>Consumer</td>\n",
       "      <td>Technology</td>\n",
       "      <td>45</td>\n",
       "      <td>3%</td>\n",
       "      <td>Yes</td>\n",
       "      <td>2011-02-10</td>\n",
       "      <td>Canada</td>\n",
       "      <td>3</td>\n",
       "    </tr>\n",
       "    <tr>\n",
       "      <td>...</td>\n",
       "      <td>...</td>\n",
       "      <td>...</td>\n",
       "      <td>...</td>\n",
       "      <td>...</td>\n",
       "      <td>...</td>\n",
       "      <td>...</td>\n",
       "      <td>...</td>\n",
       "      <td>...</td>\n",
       "      <td>...</td>\n",
       "      <td>...</td>\n",
       "      <td>...</td>\n",
       "      <td>...</td>\n",
       "      <td>...</td>\n",
       "    </tr>\n",
       "    <tr>\n",
       "      <td>37637</td>\n",
       "      <td>O-48951</td>\n",
       "      <td>2014-11-30</td>\n",
       "      <td>1029</td>\n",
       "      <td>50.09</td>\n",
       "      <td>Standard Class</td>\n",
       "      <td>Corporate</td>\n",
       "      <td>Office Supplies</td>\n",
       "      <td>14</td>\n",
       "      <td>3%</td>\n",
       "      <td>No</td>\n",
       "      <td>2014-12-31</td>\n",
       "      <td>APAC</td>\n",
       "      <td>2</td>\n",
       "    </tr>\n",
       "    <tr>\n",
       "      <td>37638</td>\n",
       "      <td>O-48953</td>\n",
       "      <td>2014-11-30</td>\n",
       "      <td>1010</td>\n",
       "      <td>21.12</td>\n",
       "      <td>Same Day</td>\n",
       "      <td>Consumer</td>\n",
       "      <td>Office Supplies</td>\n",
       "      <td>14</td>\n",
       "      <td>5%</td>\n",
       "      <td>Yes</td>\n",
       "      <td>2014-12-31</td>\n",
       "      <td>LATAM</td>\n",
       "      <td>0</td>\n",
       "    </tr>\n",
       "    <tr>\n",
       "      <td>37639</td>\n",
       "      <td>O-48960</td>\n",
       "      <td>2014-11-30</td>\n",
       "      <td>1031</td>\n",
       "      <td>33.57</td>\n",
       "      <td>First Class</td>\n",
       "      <td>Consumer</td>\n",
       "      <td>Office Supplies</td>\n",
       "      <td>14</td>\n",
       "      <td>5%</td>\n",
       "      <td>Yes</td>\n",
       "      <td>2014-12-16</td>\n",
       "      <td>US</td>\n",
       "      <td>4</td>\n",
       "    </tr>\n",
       "    <tr>\n",
       "      <td>37640</td>\n",
       "      <td>O-48972</td>\n",
       "      <td>2014-11-30</td>\n",
       "      <td>1031</td>\n",
       "      <td>20.72</td>\n",
       "      <td>Second Class</td>\n",
       "      <td>Consumer</td>\n",
       "      <td>Office Supplies</td>\n",
       "      <td>30</td>\n",
       "      <td>3%</td>\n",
       "      <td>Yes</td>\n",
       "      <td>2014-12-15</td>\n",
       "      <td>US</td>\n",
       "      <td>4</td>\n",
       "    </tr>\n",
       "    <tr>\n",
       "      <td>37641</td>\n",
       "      <td>O-48977</td>\n",
       "      <td>2014-11-30</td>\n",
       "      <td>1000</td>\n",
       "      <td>1.20</td>\n",
       "      <td>Standard Class</td>\n",
       "      <td>Consumer</td>\n",
       "      <td>Office Supplies</td>\n",
       "      <td>14</td>\n",
       "      <td>0%</td>\n",
       "      <td>Yes</td>\n",
       "      <td>2014-12-30</td>\n",
       "      <td>Africa</td>\n",
       "      <td>7</td>\n",
       "    </tr>\n",
       "  </tbody>\n",
       "</table>\n",
       "<p>37642 rows × 13 columns</p>\n",
       "</div>"
      ],
      "text/plain": [
       "       OrderID InvoiceDate  CustomerID  OrderVolume        ShipMode  \\\n",
       "0        O-100  2011-01-03        1024       276.10        Same Day   \n",
       "1        O-101  2011-01-03        1024        35.88        Same Day   \n",
       "2        O-102  2011-01-05        1006        66.12    Second Class   \n",
       "3        O-104  2011-01-06        1023       408.30  Standard Class   \n",
       "4        O-105  2011-01-06        1009       314.22  Standard Class   \n",
       "...        ...         ...         ...          ...             ...   \n",
       "37637  O-48951  2014-11-30        1029        50.09  Standard Class   \n",
       "37638  O-48953  2014-11-30        1010        21.12        Same Day   \n",
       "37639  O-48960  2014-11-30        1031        33.57     First Class   \n",
       "37640  O-48972  2014-11-30        1031        20.72    Second Class   \n",
       "37641  O-48977  2014-11-30        1000         1.20  Standard Class   \n",
       "\n",
       "         Segment         Category  PaymentTerm Discount ExistingPurchaseOrder  \\\n",
       "0      Corporate  Office Supplies           30       5%                   Yes   \n",
       "1      Corporate  Office Supplies           30       5%                   Yes   \n",
       "2       Consumer  Office Supplies           30       3%                   Yes   \n",
       "3       Consumer  Office Supplies           30       5%                    No   \n",
       "4       Consumer       Technology           45       3%                   Yes   \n",
       "...          ...              ...          ...      ...                   ...   \n",
       "37637  Corporate  Office Supplies           14       3%                    No   \n",
       "37638   Consumer  Office Supplies           14       5%                   Yes   \n",
       "37639   Consumer  Office Supplies           14       5%                   Yes   \n",
       "37640   Consumer  Office Supplies           30       3%                   Yes   \n",
       "37641   Consumer  Office Supplies           14       0%                   Yes   \n",
       "\n",
       "      CashInDate  Market  CustomerComplaints  \n",
       "0     2011-02-18    APAC                   0  \n",
       "1     2011-02-18    APAC                   0  \n",
       "2     2011-02-06    EMEA                   5  \n",
       "3     2011-02-17  Africa                   8  \n",
       "4     2011-02-10  Canada                   3  \n",
       "...          ...     ...                 ...  \n",
       "37637 2014-12-31    APAC                   2  \n",
       "37638 2014-12-31   LATAM                   0  \n",
       "37639 2014-12-16      US                   4  \n",
       "37640 2014-12-15      US                   4  \n",
       "37641 2014-12-30  Africa                   7  \n",
       "\n",
       "[37642 rows x 13 columns]"
      ]
     },
     "execution_count": 25,
     "metadata": {},
     "output_type": "execute_result"
    }
   ],
   "source": [
    "orders"
   ]
  },
  {
   "cell_type": "code",
   "execution_count": 26,
   "metadata": {},
   "outputs": [
    {
     "data": {
      "text/html": [
       "<div>\n",
       "<style scoped>\n",
       "    .dataframe tbody tr th:only-of-type {\n",
       "        vertical-align: middle;\n",
       "    }\n",
       "\n",
       "    .dataframe tbody tr th {\n",
       "        vertical-align: top;\n",
       "    }\n",
       "\n",
       "    .dataframe thead th {\n",
       "        text-align: right;\n",
       "    }\n",
       "</style>\n",
       "<table border=\"1\" class=\"dataframe\">\n",
       "  <thead>\n",
       "    <tr style=\"text-align: right;\">\n",
       "      <th></th>\n",
       "      <th>CustomerID</th>\n",
       "      <th>Customer</th>\n",
       "      <th>Market</th>\n",
       "      <th>CustomerComplaints</th>\n",
       "    </tr>\n",
       "  </thead>\n",
       "  <tbody>\n",
       "    <tr>\n",
       "      <td>0</td>\n",
       "      <td>1000</td>\n",
       "      <td>Didier Evra</td>\n",
       "      <td>Africa</td>\n",
       "      <td>7</td>\n",
       "    </tr>\n",
       "    <tr>\n",
       "      <td>1</td>\n",
       "      <td>1001</td>\n",
       "      <td>Jean Tedeaux</td>\n",
       "      <td>Canada</td>\n",
       "      <td>1</td>\n",
       "    </tr>\n",
       "    <tr>\n",
       "      <td>2</td>\n",
       "      <td>1002</td>\n",
       "      <td>HBSA LLC</td>\n",
       "      <td>Canada</td>\n",
       "      <td>4</td>\n",
       "    </tr>\n",
       "    <tr>\n",
       "      <td>3</td>\n",
       "      <td>1003</td>\n",
       "      <td>Bikes and More SE</td>\n",
       "      <td>EU</td>\n",
       "      <td>0</td>\n",
       "    </tr>\n",
       "    <tr>\n",
       "      <td>4</td>\n",
       "      <td>1004</td>\n",
       "      <td>Patrick Johnson</td>\n",
       "      <td>US</td>\n",
       "      <td>7</td>\n",
       "    </tr>\n",
       "    <tr>\n",
       "      <td>5</td>\n",
       "      <td>1005</td>\n",
       "      <td>Steel &amp; Aluminium LLC</td>\n",
       "      <td>US</td>\n",
       "      <td>0</td>\n",
       "    </tr>\n",
       "    <tr>\n",
       "      <td>6</td>\n",
       "      <td>1006</td>\n",
       "      <td>Joseph Omer</td>\n",
       "      <td>EMEA</td>\n",
       "      <td>5</td>\n",
       "    </tr>\n",
       "    <tr>\n",
       "      <td>7</td>\n",
       "      <td>1007</td>\n",
       "      <td>Aerospace SE</td>\n",
       "      <td>EU</td>\n",
       "      <td>5</td>\n",
       "    </tr>\n",
       "    <tr>\n",
       "      <td>8</td>\n",
       "      <td>1008</td>\n",
       "      <td>Chow Ming</td>\n",
       "      <td>APAC</td>\n",
       "      <td>0</td>\n",
       "    </tr>\n",
       "    <tr>\n",
       "      <td>9</td>\n",
       "      <td>1009</td>\n",
       "      <td>Robert Sherbatsky</td>\n",
       "      <td>Canada</td>\n",
       "      <td>3</td>\n",
       "    </tr>\n",
       "    <tr>\n",
       "      <td>10</td>\n",
       "      <td>1010</td>\n",
       "      <td>Pedro Rodriguez</td>\n",
       "      <td>LATAM</td>\n",
       "      <td>0</td>\n",
       "    </tr>\n",
       "    <tr>\n",
       "      <td>11</td>\n",
       "      <td>1011</td>\n",
       "      <td>NetClickz LLC</td>\n",
       "      <td>US</td>\n",
       "      <td>0</td>\n",
       "    </tr>\n",
       "    <tr>\n",
       "      <td>12</td>\n",
       "      <td>1012</td>\n",
       "      <td>DCA Brasil SA</td>\n",
       "      <td>LATAM</td>\n",
       "      <td>0</td>\n",
       "    </tr>\n",
       "    <tr>\n",
       "      <td>13</td>\n",
       "      <td>1013</td>\n",
       "      <td>Luis Cardoso</td>\n",
       "      <td>LATAM</td>\n",
       "      <td>1</td>\n",
       "    </tr>\n",
       "    <tr>\n",
       "      <td>14</td>\n",
       "      <td>1014</td>\n",
       "      <td>TV TelAviv</td>\n",
       "      <td>EMEA</td>\n",
       "      <td>7</td>\n",
       "    </tr>\n",
       "    <tr>\n",
       "      <td>15</td>\n",
       "      <td>1015</td>\n",
       "      <td>Dong Yu</td>\n",
       "      <td>APAC</td>\n",
       "      <td>1</td>\n",
       "    </tr>\n",
       "    <tr>\n",
       "      <td>16</td>\n",
       "      <td>1016</td>\n",
       "      <td>ZooWorld Inc</td>\n",
       "      <td>US</td>\n",
       "      <td>2</td>\n",
       "    </tr>\n",
       "    <tr>\n",
       "      <td>17</td>\n",
       "      <td>1017</td>\n",
       "      <td>SnowMobiles Inc</td>\n",
       "      <td>Canada</td>\n",
       "      <td>0</td>\n",
       "    </tr>\n",
       "    <tr>\n",
       "      <td>18</td>\n",
       "      <td>1018</td>\n",
       "      <td>Rodegaard A/S</td>\n",
       "      <td>EMEA</td>\n",
       "      <td>3</td>\n",
       "    </tr>\n",
       "    <tr>\n",
       "      <td>19</td>\n",
       "      <td>1019</td>\n",
       "      <td>Trademark Inc</td>\n",
       "      <td>US</td>\n",
       "      <td>8</td>\n",
       "    </tr>\n",
       "    <tr>\n",
       "      <td>20</td>\n",
       "      <td>1020</td>\n",
       "      <td>Daniel Meyer</td>\n",
       "      <td>EU</td>\n",
       "      <td>4</td>\n",
       "    </tr>\n",
       "    <tr>\n",
       "      <td>21</td>\n",
       "      <td>1021</td>\n",
       "      <td>Gikuyu Ltd</td>\n",
       "      <td>Africa</td>\n",
       "      <td>0</td>\n",
       "    </tr>\n",
       "    <tr>\n",
       "      <td>22</td>\n",
       "      <td>1022</td>\n",
       "      <td>Waka Tours Ltd</td>\n",
       "      <td>Africa</td>\n",
       "      <td>0</td>\n",
       "    </tr>\n",
       "    <tr>\n",
       "      <td>23</td>\n",
       "      <td>1023</td>\n",
       "      <td>James King</td>\n",
       "      <td>Africa</td>\n",
       "      <td>8</td>\n",
       "    </tr>\n",
       "    <tr>\n",
       "      <td>24</td>\n",
       "      <td>1024</td>\n",
       "      <td>Indonesian Airways Ltd</td>\n",
       "      <td>APAC</td>\n",
       "      <td>0</td>\n",
       "    </tr>\n",
       "    <tr>\n",
       "      <td>25</td>\n",
       "      <td>1025</td>\n",
       "      <td>Buena Comida SL</td>\n",
       "      <td>LATAM</td>\n",
       "      <td>7</td>\n",
       "    </tr>\n",
       "    <tr>\n",
       "      <td>26</td>\n",
       "      <td>1026</td>\n",
       "      <td>TFST GmbH</td>\n",
       "      <td>EU</td>\n",
       "      <td>0</td>\n",
       "    </tr>\n",
       "    <tr>\n",
       "      <td>27</td>\n",
       "      <td>1027</td>\n",
       "      <td>Ian Clarke</td>\n",
       "      <td>EMEA</td>\n",
       "      <td>3</td>\n",
       "    </tr>\n",
       "    <tr>\n",
       "      <td>28</td>\n",
       "      <td>1028</td>\n",
       "      <td>Davide Vincenzo</td>\n",
       "      <td>EU</td>\n",
       "      <td>2</td>\n",
       "    </tr>\n",
       "    <tr>\n",
       "      <td>29</td>\n",
       "      <td>1029</td>\n",
       "      <td>Singapore Trading Inc</td>\n",
       "      <td>APAC</td>\n",
       "      <td>2</td>\n",
       "    </tr>\n",
       "    <tr>\n",
       "      <td>30</td>\n",
       "      <td>1030</td>\n",
       "      <td>Computer Industries AG</td>\n",
       "      <td>EU</td>\n",
       "      <td>3</td>\n",
       "    </tr>\n",
       "    <tr>\n",
       "      <td>31</td>\n",
       "      <td>1031</td>\n",
       "      <td>George Brady</td>\n",
       "      <td>US</td>\n",
       "      <td>4</td>\n",
       "    </tr>\n",
       "  </tbody>\n",
       "</table>\n",
       "</div>"
      ],
      "text/plain": [
       "    CustomerID                Customer  Market  CustomerComplaints\n",
       "0         1000             Didier Evra  Africa                   7\n",
       "1         1001            Jean Tedeaux  Canada                   1\n",
       "2         1002                HBSA LLC  Canada                   4\n",
       "3         1003       Bikes and More SE      EU                   0\n",
       "4         1004         Patrick Johnson      US                   7\n",
       "5         1005   Steel & Aluminium LLC      US                   0\n",
       "6         1006             Joseph Omer    EMEA                   5\n",
       "7         1007            Aerospace SE      EU                   5\n",
       "8         1008               Chow Ming    APAC                   0\n",
       "9         1009       Robert Sherbatsky  Canada                   3\n",
       "10        1010         Pedro Rodriguez   LATAM                   0\n",
       "11        1011           NetClickz LLC      US                   0\n",
       "12        1012           DCA Brasil SA   LATAM                   0\n",
       "13        1013            Luis Cardoso   LATAM                   1\n",
       "14        1014              TV TelAviv    EMEA                   7\n",
       "15        1015                 Dong Yu    APAC                   1\n",
       "16        1016            ZooWorld Inc      US                   2\n",
       "17        1017         SnowMobiles Inc  Canada                   0\n",
       "18        1018           Rodegaard A/S    EMEA                   3\n",
       "19        1019           Trademark Inc      US                   8\n",
       "20        1020            Daniel Meyer      EU                   4\n",
       "21        1021              Gikuyu Ltd  Africa                   0\n",
       "22        1022          Waka Tours Ltd  Africa                   0\n",
       "23        1023              James King  Africa                   8\n",
       "24        1024  Indonesian Airways Ltd    APAC                   0\n",
       "25        1025         Buena Comida SL   LATAM                   7\n",
       "26        1026               TFST GmbH      EU                   0\n",
       "27        1027              Ian Clarke    EMEA                   3\n",
       "28        1028         Davide Vincenzo      EU                   2\n",
       "29        1029   Singapore Trading Inc    APAC                   2\n",
       "30        1030  Computer Industries AG      EU                   3\n",
       "31        1031            George Brady      US                   4"
      ]
     },
     "execution_count": 26,
     "metadata": {},
     "output_type": "execute_result"
    }
   ],
   "source": [
    "customers"
   ]
  },
  {
   "cell_type": "markdown",
   "metadata": {},
   "source": [
    "### New Feature \"Dist\" as the TimeSpan between \"InvoiceDate\" and \"CashInDate\""
   ]
  },
  {
   "cell_type": "code",
   "execution_count": 27,
   "metadata": {},
   "outputs": [],
   "source": [
    "orders['Dist'] = (orders['CashInDate'] - orders['InvoiceDate']).dt.days"
   ]
  },
  {
   "cell_type": "code",
   "execution_count": 28,
   "metadata": {},
   "outputs": [
    {
     "data": {
      "text/html": [
       "<div>\n",
       "<style scoped>\n",
       "    .dataframe tbody tr th:only-of-type {\n",
       "        vertical-align: middle;\n",
       "    }\n",
       "\n",
       "    .dataframe tbody tr th {\n",
       "        vertical-align: top;\n",
       "    }\n",
       "\n",
       "    .dataframe thead th {\n",
       "        text-align: right;\n",
       "    }\n",
       "</style>\n",
       "<table border=\"1\" class=\"dataframe\">\n",
       "  <thead>\n",
       "    <tr style=\"text-align: right;\">\n",
       "      <th></th>\n",
       "      <th>OrderID</th>\n",
       "      <th>InvoiceDate</th>\n",
       "      <th>CustomerID</th>\n",
       "      <th>OrderVolume</th>\n",
       "      <th>ShipMode</th>\n",
       "      <th>Segment</th>\n",
       "      <th>Category</th>\n",
       "      <th>PaymentTerm</th>\n",
       "      <th>Discount</th>\n",
       "      <th>ExistingPurchaseOrder</th>\n",
       "      <th>CashInDate</th>\n",
       "      <th>Market</th>\n",
       "      <th>CustomerComplaints</th>\n",
       "      <th>Dist</th>\n",
       "    </tr>\n",
       "  </thead>\n",
       "  <tbody>\n",
       "    <tr>\n",
       "      <td>0</td>\n",
       "      <td>O-100</td>\n",
       "      <td>2011-01-03</td>\n",
       "      <td>1024</td>\n",
       "      <td>276.10</td>\n",
       "      <td>Same Day</td>\n",
       "      <td>Corporate</td>\n",
       "      <td>Office Supplies</td>\n",
       "      <td>30</td>\n",
       "      <td>5%</td>\n",
       "      <td>Yes</td>\n",
       "      <td>2011-02-18</td>\n",
       "      <td>APAC</td>\n",
       "      <td>0</td>\n",
       "      <td>46</td>\n",
       "    </tr>\n",
       "    <tr>\n",
       "      <td>1</td>\n",
       "      <td>O-101</td>\n",
       "      <td>2011-01-03</td>\n",
       "      <td>1024</td>\n",
       "      <td>35.88</td>\n",
       "      <td>Same Day</td>\n",
       "      <td>Corporate</td>\n",
       "      <td>Office Supplies</td>\n",
       "      <td>30</td>\n",
       "      <td>5%</td>\n",
       "      <td>Yes</td>\n",
       "      <td>2011-02-18</td>\n",
       "      <td>APAC</td>\n",
       "      <td>0</td>\n",
       "      <td>46</td>\n",
       "    </tr>\n",
       "    <tr>\n",
       "      <td>2</td>\n",
       "      <td>O-102</td>\n",
       "      <td>2011-01-05</td>\n",
       "      <td>1006</td>\n",
       "      <td>66.12</td>\n",
       "      <td>Second Class</td>\n",
       "      <td>Consumer</td>\n",
       "      <td>Office Supplies</td>\n",
       "      <td>30</td>\n",
       "      <td>3%</td>\n",
       "      <td>Yes</td>\n",
       "      <td>2011-02-06</td>\n",
       "      <td>EMEA</td>\n",
       "      <td>5</td>\n",
       "      <td>32</td>\n",
       "    </tr>\n",
       "    <tr>\n",
       "      <td>3</td>\n",
       "      <td>O-104</td>\n",
       "      <td>2011-01-06</td>\n",
       "      <td>1023</td>\n",
       "      <td>408.30</td>\n",
       "      <td>Standard Class</td>\n",
       "      <td>Consumer</td>\n",
       "      <td>Office Supplies</td>\n",
       "      <td>30</td>\n",
       "      <td>5%</td>\n",
       "      <td>No</td>\n",
       "      <td>2011-02-17</td>\n",
       "      <td>Africa</td>\n",
       "      <td>8</td>\n",
       "      <td>42</td>\n",
       "    </tr>\n",
       "    <tr>\n",
       "      <td>4</td>\n",
       "      <td>O-105</td>\n",
       "      <td>2011-01-06</td>\n",
       "      <td>1009</td>\n",
       "      <td>314.22</td>\n",
       "      <td>Standard Class</td>\n",
       "      <td>Consumer</td>\n",
       "      <td>Technology</td>\n",
       "      <td>45</td>\n",
       "      <td>3%</td>\n",
       "      <td>Yes</td>\n",
       "      <td>2011-02-10</td>\n",
       "      <td>Canada</td>\n",
       "      <td>3</td>\n",
       "      <td>35</td>\n",
       "    </tr>\n",
       "    <tr>\n",
       "      <td>...</td>\n",
       "      <td>...</td>\n",
       "      <td>...</td>\n",
       "      <td>...</td>\n",
       "      <td>...</td>\n",
       "      <td>...</td>\n",
       "      <td>...</td>\n",
       "      <td>...</td>\n",
       "      <td>...</td>\n",
       "      <td>...</td>\n",
       "      <td>...</td>\n",
       "      <td>...</td>\n",
       "      <td>...</td>\n",
       "      <td>...</td>\n",
       "      <td>...</td>\n",
       "    </tr>\n",
       "    <tr>\n",
       "      <td>37637</td>\n",
       "      <td>O-48951</td>\n",
       "      <td>2014-11-30</td>\n",
       "      <td>1029</td>\n",
       "      <td>50.09</td>\n",
       "      <td>Standard Class</td>\n",
       "      <td>Corporate</td>\n",
       "      <td>Office Supplies</td>\n",
       "      <td>14</td>\n",
       "      <td>3%</td>\n",
       "      <td>No</td>\n",
       "      <td>2014-12-31</td>\n",
       "      <td>APAC</td>\n",
       "      <td>2</td>\n",
       "      <td>31</td>\n",
       "    </tr>\n",
       "    <tr>\n",
       "      <td>37638</td>\n",
       "      <td>O-48953</td>\n",
       "      <td>2014-11-30</td>\n",
       "      <td>1010</td>\n",
       "      <td>21.12</td>\n",
       "      <td>Same Day</td>\n",
       "      <td>Consumer</td>\n",
       "      <td>Office Supplies</td>\n",
       "      <td>14</td>\n",
       "      <td>5%</td>\n",
       "      <td>Yes</td>\n",
       "      <td>2014-12-31</td>\n",
       "      <td>LATAM</td>\n",
       "      <td>0</td>\n",
       "      <td>31</td>\n",
       "    </tr>\n",
       "    <tr>\n",
       "      <td>37639</td>\n",
       "      <td>O-48960</td>\n",
       "      <td>2014-11-30</td>\n",
       "      <td>1031</td>\n",
       "      <td>33.57</td>\n",
       "      <td>First Class</td>\n",
       "      <td>Consumer</td>\n",
       "      <td>Office Supplies</td>\n",
       "      <td>14</td>\n",
       "      <td>5%</td>\n",
       "      <td>Yes</td>\n",
       "      <td>2014-12-16</td>\n",
       "      <td>US</td>\n",
       "      <td>4</td>\n",
       "      <td>16</td>\n",
       "    </tr>\n",
       "    <tr>\n",
       "      <td>37640</td>\n",
       "      <td>O-48972</td>\n",
       "      <td>2014-11-30</td>\n",
       "      <td>1031</td>\n",
       "      <td>20.72</td>\n",
       "      <td>Second Class</td>\n",
       "      <td>Consumer</td>\n",
       "      <td>Office Supplies</td>\n",
       "      <td>30</td>\n",
       "      <td>3%</td>\n",
       "      <td>Yes</td>\n",
       "      <td>2014-12-15</td>\n",
       "      <td>US</td>\n",
       "      <td>4</td>\n",
       "      <td>15</td>\n",
       "    </tr>\n",
       "    <tr>\n",
       "      <td>37641</td>\n",
       "      <td>O-48977</td>\n",
       "      <td>2014-11-30</td>\n",
       "      <td>1000</td>\n",
       "      <td>1.20</td>\n",
       "      <td>Standard Class</td>\n",
       "      <td>Consumer</td>\n",
       "      <td>Office Supplies</td>\n",
       "      <td>14</td>\n",
       "      <td>0%</td>\n",
       "      <td>Yes</td>\n",
       "      <td>2014-12-30</td>\n",
       "      <td>Africa</td>\n",
       "      <td>7</td>\n",
       "      <td>30</td>\n",
       "    </tr>\n",
       "  </tbody>\n",
       "</table>\n",
       "<p>37642 rows × 14 columns</p>\n",
       "</div>"
      ],
      "text/plain": [
       "       OrderID InvoiceDate  CustomerID  OrderVolume        ShipMode  \\\n",
       "0        O-100  2011-01-03        1024       276.10        Same Day   \n",
       "1        O-101  2011-01-03        1024        35.88        Same Day   \n",
       "2        O-102  2011-01-05        1006        66.12    Second Class   \n",
       "3        O-104  2011-01-06        1023       408.30  Standard Class   \n",
       "4        O-105  2011-01-06        1009       314.22  Standard Class   \n",
       "...        ...         ...         ...          ...             ...   \n",
       "37637  O-48951  2014-11-30        1029        50.09  Standard Class   \n",
       "37638  O-48953  2014-11-30        1010        21.12        Same Day   \n",
       "37639  O-48960  2014-11-30        1031        33.57     First Class   \n",
       "37640  O-48972  2014-11-30        1031        20.72    Second Class   \n",
       "37641  O-48977  2014-11-30        1000         1.20  Standard Class   \n",
       "\n",
       "         Segment         Category  PaymentTerm Discount ExistingPurchaseOrder  \\\n",
       "0      Corporate  Office Supplies           30       5%                   Yes   \n",
       "1      Corporate  Office Supplies           30       5%                   Yes   \n",
       "2       Consumer  Office Supplies           30       3%                   Yes   \n",
       "3       Consumer  Office Supplies           30       5%                    No   \n",
       "4       Consumer       Technology           45       3%                   Yes   \n",
       "...          ...              ...          ...      ...                   ...   \n",
       "37637  Corporate  Office Supplies           14       3%                    No   \n",
       "37638   Consumer  Office Supplies           14       5%                   Yes   \n",
       "37639   Consumer  Office Supplies           14       5%                   Yes   \n",
       "37640   Consumer  Office Supplies           30       3%                   Yes   \n",
       "37641   Consumer  Office Supplies           14       0%                   Yes   \n",
       "\n",
       "      CashInDate  Market  CustomerComplaints  Dist  \n",
       "0     2011-02-18    APAC                   0    46  \n",
       "1     2011-02-18    APAC                   0    46  \n",
       "2     2011-02-06    EMEA                   5    32  \n",
       "3     2011-02-17  Africa                   8    42  \n",
       "4     2011-02-10  Canada                   3    35  \n",
       "...          ...     ...                 ...   ...  \n",
       "37637 2014-12-31    APAC                   2    31  \n",
       "37638 2014-12-31   LATAM                   0    31  \n",
       "37639 2014-12-16      US                   4    16  \n",
       "37640 2014-12-15      US                   4    15  \n",
       "37641 2014-12-30  Africa                   7    30  \n",
       "\n",
       "[37642 rows x 14 columns]"
      ]
     },
     "execution_count": 28,
     "metadata": {},
     "output_type": "execute_result"
    }
   ],
   "source": [
    "orders"
   ]
  },
  {
   "cell_type": "code",
   "execution_count": 29,
   "metadata": {},
   "outputs": [
    {
     "data": {
      "text/plain": [
       "dtype('int64')"
      ]
     },
     "execution_count": 29,
     "metadata": {},
     "output_type": "execute_result"
    }
   ],
   "source": [
    "orders['Dist'].dtype"
   ]
  },
  {
   "cell_type": "code",
   "execution_count": 30,
   "metadata": {},
   "outputs": [
    {
     "data": {
      "image/png": "[encoded data removed]",
      "text/plain": [
       "<Figure size 432x288 with 1 Axes>"
      ]
     },
     "metadata": {
      "needs_background": "light"
     },
     "output_type": "display_data"
    }
   ],
   "source": [
    "ax = sns.distplot(orders['Dist'])"
   ]
  },
  {
   "cell_type": "code",
   "execution_count": 31,
   "metadata": {},
   "outputs": [
    {
     "data": {
      "image/png": "[encoded data removed]",
      "text/plain": [
       "<Figure size 432x288 with 1 Axes>"
      ]
     },
     "metadata": {
      "needs_background": "light"
     },
     "output_type": "display_data"
    }
   ],
   "source": [
    "ax = sns.boxplot(orders['Dist'])"
   ]
  },
  {
   "cell_type": "markdown",
   "metadata": {},
   "source": [
    "### NaN Values"
   ]
  },
  {
   "cell_type": "markdown",
   "metadata": {},
   "source": [
    "#### Check for NaN"
   ]
  },
  {
   "cell_type": "code",
   "execution_count": 32,
   "metadata": {},
   "outputs": [
    {
     "data": {
      "text/plain": [
       "OrderID                  False\n",
       "InvoiceDate              False\n",
       "CustomerID               False\n",
       "OrderVolume               True\n",
       "ShipMode                 False\n",
       "Segment                  False\n",
       "Category                 False\n",
       "PaymentTerm              False\n",
       "Discount                  True\n",
       "ExistingPurchaseOrder    False\n",
       "CashInDate               False\n",
       "Market                   False\n",
       "CustomerComplaints       False\n",
       "Dist                     False\n",
       "dtype: bool"
      ]
     },
     "execution_count": 32,
     "metadata": {},
     "output_type": "execute_result"
    }
   ],
   "source": [
    "orders.isna().any()"
   ]
  },
  {
   "cell_type": "code",
   "execution_count": 33,
   "metadata": {},
   "outputs": [
    {
     "data": {
      "text/plain": [
       "False    37633\n",
       "True         9\n",
       "Name: OrderVolume, dtype: int64"
      ]
     },
     "execution_count": 33,
     "metadata": {},
     "output_type": "execute_result"
    }
   ],
   "source": [
    "orders['OrderVolume'].isnull().value_counts()"
   ]
  },
  {
   "cell_type": "code",
   "execution_count": 34,
   "metadata": {},
   "outputs": [
    {
     "data": {
      "text/plain": [
       "False    37626\n",
       "True        16\n",
       "Name: Discount, dtype: int64"
      ]
     },
     "execution_count": 34,
     "metadata": {},
     "output_type": "execute_result"
    }
   ],
   "source": [
    "orders['Discount'].isnull().value_counts()"
   ]
  },
  {
   "cell_type": "markdown",
   "metadata": {},
   "source": [
    "#### Drop rows with NaN"
   ]
  },
  {
   "cell_type": "code",
   "execution_count": 35,
   "metadata": {},
   "outputs": [],
   "source": [
    "orders = orders.dropna()"
   ]
  },
  {
   "cell_type": "code",
   "execution_count": 36,
   "metadata": {},
   "outputs": [
    {
     "data": {
      "text/plain": [
       "OrderID                  False\n",
       "InvoiceDate              False\n",
       "CustomerID               False\n",
       "OrderVolume              False\n",
       "ShipMode                 False\n",
       "Segment                  False\n",
       "Category                 False\n",
       "PaymentTerm              False\n",
       "Discount                 False\n",
       "ExistingPurchaseOrder    False\n",
       "CashInDate               False\n",
       "Market                   False\n",
       "CustomerComplaints       False\n",
       "Dist                     False\n",
       "dtype: bool"
      ]
     },
     "execution_count": 36,
     "metadata": {},
     "output_type": "execute_result"
    }
   ],
   "source": [
    "orders.isna().any()"
   ]
  },
  {
   "cell_type": "markdown",
   "metadata": {},
   "source": [
    "### Outliers"
   ]
  },
  {
   "cell_type": "markdown",
   "metadata": {},
   "source": [
    "#### Finding Outliers in OrderVolume"
   ]
  },
  {
   "cell_type": "code",
   "execution_count": 37,
   "metadata": {},
   "outputs": [
    {
     "data": {
      "text/plain": [
       "count    37617.000000\n",
       "mean       245.181780\n",
       "std        479.148363\n",
       "min          0.560000\n",
       "25%         30.960000\n",
       "50%         85.500000\n",
       "75%        252.830000\n",
       "max      22638.480000\n",
       "Name: OrderVolume, dtype: float64"
      ]
     },
     "execution_count": 37,
     "metadata": {},
     "output_type": "execute_result"
    }
   ],
   "source": [
    "orders['OrderVolume'].describe()"
   ]
  },
  {
   "cell_type": "code",
   "execution_count": 38,
   "metadata": {},
   "outputs": [
    {
     "data": {
      "text/plain": [
       "<matplotlib.axes._subplots.AxesSubplot at 0x12db378d9c8>"
      ]
     },
     "execution_count": 38,
     "metadata": {},
     "output_type": "execute_result"
    },
    {
     "data": {
      "image/png": "[encoded data removed]",
      "text/plain": [
       "<Figure size 432x288 with 1 Axes>"
      ]
     },
     "metadata": {
      "needs_background": "light"
     },
     "output_type": "display_data"
    }
   ],
   "source": [
    "sns.distplot(orders['OrderVolume'])"
   ]
  },
  {
   "cell_type": "code",
   "execution_count": 39,
   "metadata": {},
   "outputs": [
    {
     "data": {
      "text/plain": [
       "<matplotlib.axes._subplots.AxesSubplot at 0x12db5f7e0c8>"
      ]
     },
     "execution_count": 39,
     "metadata": {},
     "output_type": "execute_result"
    },
    {
     "data": {
      "image/png": "[encoded data removed]",
      "text/plain": [
       "<Figure size 432x288 with 1 Axes>"
      ]
     },
     "metadata": {
      "needs_background": "light"
     },
     "output_type": "display_data"
    }
   ],
   "source": [
    "sns.boxplot(orders['OrderVolume'])"
   ]
  },
  {
   "cell_type": "code",
   "execution_count": 40,
   "metadata": {},
   "outputs": [
    {
     "data": {
      "text/plain": [
       "3.75"
      ]
     },
     "execution_count": 40,
     "metadata": {},
     "output_type": "execute_result"
    }
   ],
   "source": [
    "low = .01\n",
    "quantile_low = orders['OrderVolume'].quantile(low)\n",
    "quantile_low"
   ]
  },
  {
   "cell_type": "code",
   "execution_count": 41,
   "metadata": {},
   "outputs": [
    {
     "data": {
      "text/plain": [
       "2244.383999999998"
      ]
     },
     "execution_count": 41,
     "metadata": {},
     "output_type": "execute_result"
    }
   ],
   "source": [
    "high = .99\n",
    "quantile_high = orders['OrderVolume'].quantile(high)\n",
    "quantile_high"
   ]
  },
  {
   "cell_type": "markdown",
   "metadata": {},
   "source": [
    "#### Remove Outliers"
   ]
  },
  {
   "cell_type": "code",
   "execution_count": 42,
   "metadata": {},
   "outputs": [],
   "source": [
    "orders = orders[(orders['OrderVolume'] > quantile_low) & (orders['OrderVolume'] < quantile_high)]"
   ]
  },
  {
   "cell_type": "code",
   "execution_count": 43,
   "metadata": {},
   "outputs": [
    {
     "data": {
      "text/plain": [
       "<matplotlib.axes._subplots.AxesSubplot at 0x12db5fe6e08>"
      ]
     },
     "execution_count": 43,
     "metadata": {},
     "output_type": "execute_result"
    },
    {
     "data": {
      "image/png": "[encoded data removed]",
      "text/plain": [
       "<Figure size 432x288 with 1 Axes>"
      ]
     },
     "metadata": {
      "needs_background": "light"
     },
     "output_type": "display_data"
    }
   ],
   "source": [
    "sns.distplot(orders['OrderVolume'])"
   ]
  },
  {
   "cell_type": "code",
   "execution_count": 44,
   "metadata": {},
   "outputs": [
    {
     "data": {
      "text/plain": [
       "<matplotlib.axes._subplots.AxesSubplot at 0x12db4860948>"
      ]
     },
     "execution_count": 44,
     "metadata": {},
     "output_type": "execute_result"
    },
    {
     "data": {
      "image/png": "[encoded data removed]",
      "text/plain": [
       "<Figure size 432x288 with 1 Axes>"
      ]
     },
     "metadata": {
      "needs_background": "light"
     },
     "output_type": "display_data"
    }
   ],
   "source": [
    "sns.boxplot(orders['OrderVolume'])"
   ]
  },
  {
   "cell_type": "markdown",
   "metadata": {},
   "source": [
    "### Converting data to int"
   ]
  },
  {
   "cell_type": "code",
   "execution_count": 45,
   "metadata": {},
   "outputs": [
    {
     "data": {
      "text/html": [
       "<div>\n",
       "<style scoped>\n",
       "    .dataframe tbody tr th:only-of-type {\n",
       "        vertical-align: middle;\n",
       "    }\n",
       "\n",
       "    .dataframe tbody tr th {\n",
       "        vertical-align: top;\n",
       "    }\n",
       "\n",
       "    .dataframe thead th {\n",
       "        text-align: right;\n",
       "    }\n",
       "</style>\n",
       "<table border=\"1\" class=\"dataframe\">\n",
       "  <thead>\n",
       "    <tr style=\"text-align: right;\">\n",
       "      <th></th>\n",
       "      <th>OrderID</th>\n",
       "      <th>InvoiceDate</th>\n",
       "      <th>CustomerID</th>\n",
       "      <th>OrderVolume</th>\n",
       "      <th>ShipMode</th>\n",
       "      <th>Segment</th>\n",
       "      <th>Category</th>\n",
       "      <th>PaymentTerm</th>\n",
       "      <th>Discount</th>\n",
       "      <th>ExistingPurchaseOrder</th>\n",
       "      <th>CashInDate</th>\n",
       "      <th>Market</th>\n",
       "      <th>CustomerComplaints</th>\n",
       "      <th>Dist</th>\n",
       "    </tr>\n",
       "  </thead>\n",
       "  <tbody>\n",
       "    <tr>\n",
       "      <td>0</td>\n",
       "      <td>O-100</td>\n",
       "      <td>2011-01-03</td>\n",
       "      <td>1024</td>\n",
       "      <td>276.10</td>\n",
       "      <td>Same Day</td>\n",
       "      <td>Corporate</td>\n",
       "      <td>Office Supplies</td>\n",
       "      <td>30</td>\n",
       "      <td>5%</td>\n",
       "      <td>Yes</td>\n",
       "      <td>2011-02-18</td>\n",
       "      <td>APAC</td>\n",
       "      <td>0</td>\n",
       "      <td>46</td>\n",
       "    </tr>\n",
       "    <tr>\n",
       "      <td>1</td>\n",
       "      <td>O-101</td>\n",
       "      <td>2011-01-03</td>\n",
       "      <td>1024</td>\n",
       "      <td>35.88</td>\n",
       "      <td>Same Day</td>\n",
       "      <td>Corporate</td>\n",
       "      <td>Office Supplies</td>\n",
       "      <td>30</td>\n",
       "      <td>5%</td>\n",
       "      <td>Yes</td>\n",
       "      <td>2011-02-18</td>\n",
       "      <td>APAC</td>\n",
       "      <td>0</td>\n",
       "      <td>46</td>\n",
       "    </tr>\n",
       "    <tr>\n",
       "      <td>2</td>\n",
       "      <td>O-102</td>\n",
       "      <td>2011-01-05</td>\n",
       "      <td>1006</td>\n",
       "      <td>66.12</td>\n",
       "      <td>Second Class</td>\n",
       "      <td>Consumer</td>\n",
       "      <td>Office Supplies</td>\n",
       "      <td>30</td>\n",
       "      <td>3%</td>\n",
       "      <td>Yes</td>\n",
       "      <td>2011-02-06</td>\n",
       "      <td>EMEA</td>\n",
       "      <td>5</td>\n",
       "      <td>32</td>\n",
       "    </tr>\n",
       "    <tr>\n",
       "      <td>3</td>\n",
       "      <td>O-104</td>\n",
       "      <td>2011-01-06</td>\n",
       "      <td>1023</td>\n",
       "      <td>408.30</td>\n",
       "      <td>Standard Class</td>\n",
       "      <td>Consumer</td>\n",
       "      <td>Office Supplies</td>\n",
       "      <td>30</td>\n",
       "      <td>5%</td>\n",
       "      <td>No</td>\n",
       "      <td>2011-02-17</td>\n",
       "      <td>Africa</td>\n",
       "      <td>8</td>\n",
       "      <td>42</td>\n",
       "    </tr>\n",
       "    <tr>\n",
       "      <td>4</td>\n",
       "      <td>O-105</td>\n",
       "      <td>2011-01-06</td>\n",
       "      <td>1009</td>\n",
       "      <td>314.22</td>\n",
       "      <td>Standard Class</td>\n",
       "      <td>Consumer</td>\n",
       "      <td>Technology</td>\n",
       "      <td>45</td>\n",
       "      <td>3%</td>\n",
       "      <td>Yes</td>\n",
       "      <td>2011-02-10</td>\n",
       "      <td>Canada</td>\n",
       "      <td>3</td>\n",
       "      <td>35</td>\n",
       "    </tr>\n",
       "  </tbody>\n",
       "</table>\n",
       "</div>"
      ],
      "text/plain": [
       "  OrderID InvoiceDate  CustomerID  OrderVolume        ShipMode    Segment  \\\n",
       "0   O-100  2011-01-03        1024       276.10        Same Day  Corporate   \n",
       "1   O-101  2011-01-03        1024        35.88        Same Day  Corporate   \n",
       "2   O-102  2011-01-05        1006        66.12    Second Class   Consumer   \n",
       "3   O-104  2011-01-06        1023       408.30  Standard Class   Consumer   \n",
       "4   O-105  2011-01-06        1009       314.22  Standard Class   Consumer   \n",
       "\n",
       "          Category  PaymentTerm Discount ExistingPurchaseOrder CashInDate  \\\n",
       "0  Office Supplies           30       5%                   Yes 2011-02-18   \n",
       "1  Office Supplies           30       5%                   Yes 2011-02-18   \n",
       "2  Office Supplies           30       3%                   Yes 2011-02-06   \n",
       "3  Office Supplies           30       5%                    No 2011-02-17   \n",
       "4       Technology           45       3%                   Yes 2011-02-10   \n",
       "\n",
       "   Market  CustomerComplaints  Dist  \n",
       "0    APAC                   0    46  \n",
       "1    APAC                   0    46  \n",
       "2    EMEA                   5    32  \n",
       "3  Africa                   8    42  \n",
       "4  Canada                   3    35  "
      ]
     },
     "execution_count": 45,
     "metadata": {},
     "output_type": "execute_result"
    }
   ],
   "source": [
    "orders.head()"
   ]
  },
  {
   "cell_type": "code",
   "execution_count": 46,
   "metadata": {},
   "outputs": [],
   "source": [
    "orders.to_pickle('orders.pkl')"
   ]
  },
  {
   "cell_type": "code",
   "execution_count": 47,
   "metadata": {},
   "outputs": [],
   "source": [
    "orders['OrderVolume'] = orders['OrderVolume'].round(-1)"
   ]
  },
  {
   "cell_type": "code",
   "execution_count": 48,
   "metadata": {},
   "outputs": [],
   "source": [
    "orders['OrderVolume'] = orders['OrderVolume'] /10"
   ]
  },
  {
   "cell_type": "code",
   "execution_count": 49,
   "metadata": {},
   "outputs": [],
   "source": [
    "orders['OrderVolume'] = orders['OrderVolume'].astype(int)"
   ]
  },
  {
   "cell_type": "code",
   "execution_count": 50,
   "metadata": {},
   "outputs": [],
   "source": [
    "orders['CustomerID'] = orders['CustomerID'] - 1000"
   ]
  },
  {
   "cell_type": "code",
   "execution_count": 51,
   "metadata": {},
   "outputs": [
    {
     "data": {
      "text/plain": [
       "Standard Class    22072\n",
       "Second Class       7410\n",
       "First Class        5434\n",
       "Same Day           1946\n",
       "Name: ShipMode, dtype: int64"
      ]
     },
     "execution_count": 51,
     "metadata": {},
     "output_type": "execute_result"
    }
   ],
   "source": [
    "orders['ShipMode'].value_counts()"
   ]
  },
  {
   "cell_type": "code",
   "execution_count": 52,
   "metadata": {},
   "outputs": [],
   "source": [
    "orders['ShipMode'] =  orders['ShipMode'].map({'Standard Class': 0, 'Second Class': 1, 'First Class': 2, 'Same Day': 3} ).astype(int)"
   ]
  },
  {
   "cell_type": "code",
   "execution_count": 53,
   "metadata": {},
   "outputs": [
    {
     "data": {
      "text/plain": [
       "0    22072\n",
       "1     7410\n",
       "2     5434\n",
       "3     1946\n",
       "Name: ShipMode, dtype: int64"
      ]
     },
     "execution_count": 53,
     "metadata": {},
     "output_type": "execute_result"
    }
   ],
   "source": [
    "orders['ShipMode'].value_counts()"
   ]
  },
  {
   "cell_type": "code",
   "execution_count": 54,
   "metadata": {},
   "outputs": [
    {
     "data": {
      "text/plain": [
       "Consumer     19035\n",
       "Corporate    17827\n",
       "Name: Segment, dtype: int64"
      ]
     },
     "execution_count": 54,
     "metadata": {},
     "output_type": "execute_result"
    }
   ],
   "source": [
    "orders['Segment'].value_counts()"
   ]
  },
  {
   "cell_type": "code",
   "execution_count": 55,
   "metadata": {},
   "outputs": [],
   "source": [
    "orders['Segment'] =  orders['Segment'].map({'Consumer': 0, 'Corporate': 1} ).astype(int)"
   ]
  },
  {
   "cell_type": "code",
   "execution_count": 56,
   "metadata": {},
   "outputs": [
    {
     "data": {
      "text/plain": [
       "0    19035\n",
       "1    17827\n",
       "Name: Segment, dtype: int64"
      ]
     },
     "execution_count": 56,
     "metadata": {},
     "output_type": "execute_result"
    }
   ],
   "source": [
    "orders['Segment'].value_counts()"
   ]
  },
  {
   "cell_type": "code",
   "execution_count": 57,
   "metadata": {},
   "outputs": [
    {
     "data": {
      "text/plain": [
       "Office Supplies    22461\n",
       "Technology          7370\n",
       "Furniture           7031\n",
       "Name: Category, dtype: int64"
      ]
     },
     "execution_count": 57,
     "metadata": {},
     "output_type": "execute_result"
    }
   ],
   "source": [
    "orders['Category'].value_counts()"
   ]
  },
  {
   "cell_type": "code",
   "execution_count": 58,
   "metadata": {},
   "outputs": [],
   "source": [
    "orders['Category'] =  orders['Category'].map({'Office Supplies': 0, 'Technology': 1, 'Furniture': 2} ).astype(int)"
   ]
  },
  {
   "cell_type": "code",
   "execution_count": 59,
   "metadata": {},
   "outputs": [
    {
     "data": {
      "text/plain": [
       "0    22461\n",
       "1     7370\n",
       "2     7031\n",
       "Name: Category, dtype: int64"
      ]
     },
     "execution_count": 59,
     "metadata": {},
     "output_type": "execute_result"
    }
   ],
   "source": [
    "orders['Category'].value_counts()"
   ]
  },
  {
   "cell_type": "code",
   "execution_count": 60,
   "metadata": {},
   "outputs": [
    {
     "data": {
      "text/plain": [
       "14    12429\n",
       "30    12252\n",
       "45    12181\n",
       "Name: PaymentTerm, dtype: int64"
      ]
     },
     "execution_count": 60,
     "metadata": {},
     "output_type": "execute_result"
    }
   ],
   "source": [
    "orders['PaymentTerm'].value_counts()"
   ]
  },
  {
   "cell_type": "code",
   "execution_count": 61,
   "metadata": {},
   "outputs": [],
   "source": [
    "orders['PaymentTerm'] =  orders['PaymentTerm'].map({14: 0, 30: 1, 45: 2} )"
   ]
  },
  {
   "cell_type": "code",
   "execution_count": 62,
   "metadata": {},
   "outputs": [
    {
     "data": {
      "text/plain": [
       "0    12429\n",
       "1    12252\n",
       "2    12181\n",
       "Name: PaymentTerm, dtype: int64"
      ]
     },
     "execution_count": 62,
     "metadata": {},
     "output_type": "execute_result"
    }
   ],
   "source": [
    "orders['PaymentTerm'].value_counts()"
   ]
  },
  {
   "cell_type": "code",
   "execution_count": 63,
   "metadata": {},
   "outputs": [
    {
     "data": {
      "text/plain": [
       "5%    18370\n",
       "0%     9248\n",
       "3%     9244\n",
       "Name: Discount, dtype: int64"
      ]
     },
     "execution_count": 63,
     "metadata": {},
     "output_type": "execute_result"
    }
   ],
   "source": [
    "orders['Discount'].value_counts()"
   ]
  },
  {
   "cell_type": "code",
   "execution_count": 64,
   "metadata": {},
   "outputs": [],
   "source": [
    "orders['Discount'] =  orders['Discount'].map({'0%': 0, '3%': 1, '5%': 2} )"
   ]
  },
  {
   "cell_type": "code",
   "execution_count": 65,
   "metadata": {},
   "outputs": [
    {
     "data": {
      "text/plain": [
       "2    18370\n",
       "0     9248\n",
       "1     9244\n",
       "Name: Discount, dtype: int64"
      ]
     },
     "execution_count": 65,
     "metadata": {},
     "output_type": "execute_result"
    }
   ],
   "source": [
    "orders['Discount'].value_counts()"
   ]
  },
  {
   "cell_type": "code",
   "execution_count": 66,
   "metadata": {},
   "outputs": [
    {
     "data": {
      "text/plain": [
       "Yes    32344\n",
       "No      4518\n",
       "Name: ExistingPurchaseOrder, dtype: int64"
      ]
     },
     "execution_count": 66,
     "metadata": {},
     "output_type": "execute_result"
    }
   ],
   "source": [
    "orders['ExistingPurchaseOrder'].value_counts()"
   ]
  },
  {
   "cell_type": "code",
   "execution_count": 67,
   "metadata": {},
   "outputs": [],
   "source": [
    "orders['ExistingPurchaseOrder'] =  orders['ExistingPurchaseOrder'].map({'No': 0, 'Yes': 1} )"
   ]
  },
  {
   "cell_type": "code",
   "execution_count": 68,
   "metadata": {},
   "outputs": [
    {
     "data": {
      "text/plain": [
       "1    32344\n",
       "0     4518\n",
       "Name: ExistingPurchaseOrder, dtype: int64"
      ]
     },
     "execution_count": 68,
     "metadata": {},
     "output_type": "execute_result"
    }
   ],
   "source": [
    "orders['ExistingPurchaseOrder'].value_counts()"
   ]
  },
  {
   "cell_type": "code",
   "execution_count": 69,
   "metadata": {},
   "outputs": [
    {
     "data": {
      "text/plain": [
       "APAC      7980\n",
       "LATAM     7455\n",
       "EU        7246\n",
       "US        7000\n",
       "EMEA      3692\n",
       "Africa    3211\n",
       "Canada     278\n",
       "Name: Market, dtype: int64"
      ]
     },
     "execution_count": 69,
     "metadata": {},
     "output_type": "execute_result"
    }
   ],
   "source": [
    "orders['Market'].value_counts()"
   ]
  },
  {
   "cell_type": "code",
   "execution_count": 70,
   "metadata": {},
   "outputs": [],
   "source": [
    "orders['Market'] =  orders['Market'].map({'APAC': 0, 'LATAM': 1, 'EU': 2, 'US': 3, 'EMEA': 4, 'Africa': 5, 'Canada': 6})"
   ]
  },
  {
   "cell_type": "code",
   "execution_count": 71,
   "metadata": {},
   "outputs": [
    {
     "data": {
      "text/plain": [
       "0    7980\n",
       "1    7455\n",
       "2    7246\n",
       "3    7000\n",
       "4    3692\n",
       "5    3211\n",
       "6     278\n",
       "Name: Market, dtype: int64"
      ]
     },
     "execution_count": 71,
     "metadata": {},
     "output_type": "execute_result"
    }
   ],
   "source": [
    "orders['Market'].value_counts()"
   ]
  },
  {
   "cell_type": "code",
   "execution_count": 72,
   "metadata": {},
   "outputs": [
    {
     "data": {
      "text/html": [
       "<div>\n",
       "<style scoped>\n",
       "    .dataframe tbody tr th:only-of-type {\n",
       "        vertical-align: middle;\n",
       "    }\n",
       "\n",
       "    .dataframe tbody tr th {\n",
       "        vertical-align: top;\n",
       "    }\n",
       "\n",
       "    .dataframe thead th {\n",
       "        text-align: right;\n",
       "    }\n",
       "</style>\n",
       "<table border=\"1\" class=\"dataframe\">\n",
       "  <thead>\n",
       "    <tr style=\"text-align: right;\">\n",
       "      <th></th>\n",
       "      <th>OrderID</th>\n",
       "      <th>InvoiceDate</th>\n",
       "      <th>CustomerID</th>\n",
       "      <th>OrderVolume</th>\n",
       "      <th>ShipMode</th>\n",
       "      <th>Segment</th>\n",
       "      <th>Category</th>\n",
       "      <th>PaymentTerm</th>\n",
       "      <th>Discount</th>\n",
       "      <th>ExistingPurchaseOrder</th>\n",
       "      <th>CashInDate</th>\n",
       "      <th>Market</th>\n",
       "      <th>CustomerComplaints</th>\n",
       "      <th>Dist</th>\n",
       "    </tr>\n",
       "  </thead>\n",
       "  <tbody>\n",
       "    <tr>\n",
       "      <td>0</td>\n",
       "      <td>O-100</td>\n",
       "      <td>2011-01-03</td>\n",
       "      <td>24</td>\n",
       "      <td>28</td>\n",
       "      <td>3</td>\n",
       "      <td>1</td>\n",
       "      <td>0</td>\n",
       "      <td>1</td>\n",
       "      <td>2</td>\n",
       "      <td>1</td>\n",
       "      <td>2011-02-18</td>\n",
       "      <td>0</td>\n",
       "      <td>0</td>\n",
       "      <td>46</td>\n",
       "    </tr>\n",
       "    <tr>\n",
       "      <td>1</td>\n",
       "      <td>O-101</td>\n",
       "      <td>2011-01-03</td>\n",
       "      <td>24</td>\n",
       "      <td>4</td>\n",
       "      <td>3</td>\n",
       "      <td>1</td>\n",
       "      <td>0</td>\n",
       "      <td>1</td>\n",
       "      <td>2</td>\n",
       "      <td>1</td>\n",
       "      <td>2011-02-18</td>\n",
       "      <td>0</td>\n",
       "      <td>0</td>\n",
       "      <td>46</td>\n",
       "    </tr>\n",
       "    <tr>\n",
       "      <td>2</td>\n",
       "      <td>O-102</td>\n",
       "      <td>2011-01-05</td>\n",
       "      <td>6</td>\n",
       "      <td>7</td>\n",
       "      <td>1</td>\n",
       "      <td>0</td>\n",
       "      <td>0</td>\n",
       "      <td>1</td>\n",
       "      <td>1</td>\n",
       "      <td>1</td>\n",
       "      <td>2011-02-06</td>\n",
       "      <td>4</td>\n",
       "      <td>5</td>\n",
       "      <td>32</td>\n",
       "    </tr>\n",
       "    <tr>\n",
       "      <td>3</td>\n",
       "      <td>O-104</td>\n",
       "      <td>2011-01-06</td>\n",
       "      <td>23</td>\n",
       "      <td>41</td>\n",
       "      <td>0</td>\n",
       "      <td>0</td>\n",
       "      <td>0</td>\n",
       "      <td>1</td>\n",
       "      <td>2</td>\n",
       "      <td>0</td>\n",
       "      <td>2011-02-17</td>\n",
       "      <td>5</td>\n",
       "      <td>8</td>\n",
       "      <td>42</td>\n",
       "    </tr>\n",
       "    <tr>\n",
       "      <td>4</td>\n",
       "      <td>O-105</td>\n",
       "      <td>2011-01-06</td>\n",
       "      <td>9</td>\n",
       "      <td>31</td>\n",
       "      <td>0</td>\n",
       "      <td>0</td>\n",
       "      <td>1</td>\n",
       "      <td>2</td>\n",
       "      <td>1</td>\n",
       "      <td>1</td>\n",
       "      <td>2011-02-10</td>\n",
       "      <td>6</td>\n",
       "      <td>3</td>\n",
       "      <td>35</td>\n",
       "    </tr>\n",
       "    <tr>\n",
       "      <td>...</td>\n",
       "      <td>...</td>\n",
       "      <td>...</td>\n",
       "      <td>...</td>\n",
       "      <td>...</td>\n",
       "      <td>...</td>\n",
       "      <td>...</td>\n",
       "      <td>...</td>\n",
       "      <td>...</td>\n",
       "      <td>...</td>\n",
       "      <td>...</td>\n",
       "      <td>...</td>\n",
       "      <td>...</td>\n",
       "      <td>...</td>\n",
       "      <td>...</td>\n",
       "    </tr>\n",
       "    <tr>\n",
       "      <td>37636</td>\n",
       "      <td>O-48947</td>\n",
       "      <td>2014-11-30</td>\n",
       "      <td>20</td>\n",
       "      <td>5</td>\n",
       "      <td>0</td>\n",
       "      <td>0</td>\n",
       "      <td>2</td>\n",
       "      <td>2</td>\n",
       "      <td>0</td>\n",
       "      <td>1</td>\n",
       "      <td>2014-12-29</td>\n",
       "      <td>2</td>\n",
       "      <td>4</td>\n",
       "      <td>29</td>\n",
       "    </tr>\n",
       "    <tr>\n",
       "      <td>37637</td>\n",
       "      <td>O-48951</td>\n",
       "      <td>2014-11-30</td>\n",
       "      <td>29</td>\n",
       "      <td>5</td>\n",
       "      <td>0</td>\n",
       "      <td>1</td>\n",
       "      <td>0</td>\n",
       "      <td>0</td>\n",
       "      <td>1</td>\n",
       "      <td>0</td>\n",
       "      <td>2014-12-31</td>\n",
       "      <td>0</td>\n",
       "      <td>2</td>\n",
       "      <td>31</td>\n",
       "    </tr>\n",
       "    <tr>\n",
       "      <td>37638</td>\n",
       "      <td>O-48953</td>\n",
       "      <td>2014-11-30</td>\n",
       "      <td>10</td>\n",
       "      <td>2</td>\n",
       "      <td>3</td>\n",
       "      <td>0</td>\n",
       "      <td>0</td>\n",
       "      <td>0</td>\n",
       "      <td>2</td>\n",
       "      <td>1</td>\n",
       "      <td>2014-12-31</td>\n",
       "      <td>1</td>\n",
       "      <td>0</td>\n",
       "      <td>31</td>\n",
       "    </tr>\n",
       "    <tr>\n",
       "      <td>37639</td>\n",
       "      <td>O-48960</td>\n",
       "      <td>2014-11-30</td>\n",
       "      <td>31</td>\n",
       "      <td>3</td>\n",
       "      <td>2</td>\n",
       "      <td>0</td>\n",
       "      <td>0</td>\n",
       "      <td>0</td>\n",
       "      <td>2</td>\n",
       "      <td>1</td>\n",
       "      <td>2014-12-16</td>\n",
       "      <td>3</td>\n",
       "      <td>4</td>\n",
       "      <td>16</td>\n",
       "    </tr>\n",
       "    <tr>\n",
       "      <td>37640</td>\n",
       "      <td>O-48972</td>\n",
       "      <td>2014-11-30</td>\n",
       "      <td>31</td>\n",
       "      <td>2</td>\n",
       "      <td>1</td>\n",
       "      <td>0</td>\n",
       "      <td>0</td>\n",
       "      <td>1</td>\n",
       "      <td>1</td>\n",
       "      <td>1</td>\n",
       "      <td>2014-12-15</td>\n",
       "      <td>3</td>\n",
       "      <td>4</td>\n",
       "      <td>15</td>\n",
       "    </tr>\n",
       "  </tbody>\n",
       "</table>\n",
       "<p>36862 rows × 14 columns</p>\n",
       "</div>"
      ],
      "text/plain": [
       "       OrderID InvoiceDate  CustomerID  OrderVolume  ShipMode  Segment  \\\n",
       "0        O-100  2011-01-03          24           28         3        1   \n",
       "1        O-101  2011-01-03          24            4         3        1   \n",
       "2        O-102  2011-01-05           6            7         1        0   \n",
       "3        O-104  2011-01-06          23           41         0        0   \n",
       "4        O-105  2011-01-06           9           31         0        0   \n",
       "...        ...         ...         ...          ...       ...      ...   \n",
       "37636  O-48947  2014-11-30          20            5         0        0   \n",
       "37637  O-48951  2014-11-30          29            5         0        1   \n",
       "37638  O-48953  2014-11-30          10            2         3        0   \n",
       "37639  O-48960  2014-11-30          31            3         2        0   \n",
       "37640  O-48972  2014-11-30          31            2         1        0   \n",
       "\n",
       "       Category  PaymentTerm  Discount  ExistingPurchaseOrder CashInDate  \\\n",
       "0             0            1         2                      1 2011-02-18   \n",
       "1             0            1         2                      1 2011-02-18   \n",
       "2             0            1         1                      1 2011-02-06   \n",
       "3             0            1         2                      0 2011-02-17   \n",
       "4             1            2         1                      1 2011-02-10   \n",
       "...         ...          ...       ...                    ...        ...   \n",
       "37636         2            2         0                      1 2014-12-29   \n",
       "37637         0            0         1                      0 2014-12-31   \n",
       "37638         0            0         2                      1 2014-12-31   \n",
       "37639         0            0         2                      1 2014-12-16   \n",
       "37640         0            1         1                      1 2014-12-15   \n",
       "\n",
       "       Market  CustomerComplaints  Dist  \n",
       "0           0                   0    46  \n",
       "1           0                   0    46  \n",
       "2           4                   5    32  \n",
       "3           5                   8    42  \n",
       "4           6                   3    35  \n",
       "...       ...                 ...   ...  \n",
       "37636       2                   4    29  \n",
       "37637       0                   2    31  \n",
       "37638       1                   0    31  \n",
       "37639       3                   4    16  \n",
       "37640       3                   4    15  \n",
       "\n",
       "[36862 rows x 14 columns]"
      ]
     },
     "execution_count": 72,
     "metadata": {},
     "output_type": "execute_result"
    }
   ],
   "source": [
    "orders"
   ]
  },
  {
   "cell_type": "markdown",
   "metadata": {},
   "source": [
    "# Feature Selection"
   ]
  },
  {
   "cell_type": "markdown",
   "metadata": {},
   "source": [
    "Reference: https://towardsdatascience.com/feature-selection-with-pandas-e3690ad8504b"
   ]
  },
  {
   "cell_type": "code",
   "execution_count": 73,
   "metadata": {},
   "outputs": [],
   "source": [
    "orders = orders.drop(['OrderID', 'InvoiceDate', 'CashInDate'], axis=1)"
   ]
  },
  {
   "cell_type": "code",
   "execution_count": 74,
   "metadata": {},
   "outputs": [],
   "source": [
    "X = orders.drop(columns=['Dist']) #independent columns\n",
    "y = orders['Dist']    #target column i.e price range"
   ]
  },
  {
   "cell_type": "code",
   "execution_count": 75,
   "metadata": {},
   "outputs": [
    {
     "data": {
      "text/html": [
       "<div>\n",
       "<style scoped>\n",
       "    .dataframe tbody tr th:only-of-type {\n",
       "        vertical-align: middle;\n",
       "    }\n",
       "\n",
       "    .dataframe tbody tr th {\n",
       "        vertical-align: top;\n",
       "    }\n",
       "\n",
       "    .dataframe thead th {\n",
       "        text-align: right;\n",
       "    }\n",
       "</style>\n",
       "<table border=\"1\" class=\"dataframe\">\n",
       "  <thead>\n",
       "    <tr style=\"text-align: right;\">\n",
       "      <th></th>\n",
       "      <th>CustomerID</th>\n",
       "      <th>OrderVolume</th>\n",
       "      <th>ShipMode</th>\n",
       "      <th>Segment</th>\n",
       "      <th>Category</th>\n",
       "      <th>PaymentTerm</th>\n",
       "      <th>Discount</th>\n",
       "      <th>ExistingPurchaseOrder</th>\n",
       "      <th>Market</th>\n",
       "      <th>CustomerComplaints</th>\n",
       "    </tr>\n",
       "  </thead>\n",
       "  <tbody>\n",
       "    <tr>\n",
       "      <td>0</td>\n",
       "      <td>24</td>\n",
       "      <td>28</td>\n",
       "      <td>3</td>\n",
       "      <td>1</td>\n",
       "      <td>0</td>\n",
       "      <td>1</td>\n",
       "      <td>2</td>\n",
       "      <td>1</td>\n",
       "      <td>0</td>\n",
       "      <td>0</td>\n",
       "    </tr>\n",
       "    <tr>\n",
       "      <td>1</td>\n",
       "      <td>24</td>\n",
       "      <td>4</td>\n",
       "      <td>3</td>\n",
       "      <td>1</td>\n",
       "      <td>0</td>\n",
       "      <td>1</td>\n",
       "      <td>2</td>\n",
       "      <td>1</td>\n",
       "      <td>0</td>\n",
       "      <td>0</td>\n",
       "    </tr>\n",
       "  </tbody>\n",
       "</table>\n",
       "</div>"
      ],
      "text/plain": [
       "   CustomerID  OrderVolume  ShipMode  Segment  Category  PaymentTerm  \\\n",
       "0          24           28         3        1         0            1   \n",
       "1          24            4         3        1         0            1   \n",
       "\n",
       "   Discount  ExistingPurchaseOrder  Market  CustomerComplaints  \n",
       "0         2                      1       0                   0  \n",
       "1         2                      1       0                   0  "
      ]
     },
     "execution_count": 75,
     "metadata": {},
     "output_type": "execute_result"
    }
   ],
   "source": [
    "X.head(2)"
   ]
  },
  {
   "cell_type": "code",
   "execution_count": 76,
   "metadata": {},
   "outputs": [
    {
     "data": {
      "text/plain": [
       "0    46\n",
       "1    46\n",
       "Name: Dist, dtype: int64"
      ]
     },
     "execution_count": 76,
     "metadata": {},
     "output_type": "execute_result"
    }
   ],
   "source": [
    "y.head(2)"
   ]
  },
  {
   "cell_type": "markdown",
   "metadata": {},
   "source": [
    "### Filter Method"
   ]
  },
  {
   "cell_type": "code",
   "execution_count": 77,
   "metadata": {},
   "outputs": [
    {
     "data": {
      "text/html": [
       "<div>\n",
       "<style scoped>\n",
       "    .dataframe tbody tr th:only-of-type {\n",
       "        vertical-align: middle;\n",
       "    }\n",
       "\n",
       "    .dataframe tbody tr th {\n",
       "        vertical-align: top;\n",
       "    }\n",
       "\n",
       "    .dataframe thead th {\n",
       "        text-align: right;\n",
       "    }\n",
       "</style>\n",
       "<table border=\"1\" class=\"dataframe\">\n",
       "  <thead>\n",
       "    <tr style=\"text-align: right;\">\n",
       "      <th></th>\n",
       "      <th>CustomerID</th>\n",
       "      <th>OrderVolume</th>\n",
       "      <th>ShipMode</th>\n",
       "      <th>Segment</th>\n",
       "      <th>Category</th>\n",
       "      <th>PaymentTerm</th>\n",
       "      <th>Discount</th>\n",
       "      <th>ExistingPurchaseOrder</th>\n",
       "      <th>Market</th>\n",
       "      <th>CustomerComplaints</th>\n",
       "      <th>Dist</th>\n",
       "    </tr>\n",
       "  </thead>\n",
       "  <tbody>\n",
       "    <tr>\n",
       "      <td>CustomerID</td>\n",
       "      <td>1.000000</td>\n",
       "      <td>0.031683</td>\n",
       "      <td>-0.006018</td>\n",
       "      <td>0.177028</td>\n",
       "      <td>-0.005692</td>\n",
       "      <td>0.005176</td>\n",
       "      <td>0.001605</td>\n",
       "      <td>0.002964</td>\n",
       "      <td>-0.094974</td>\n",
       "      <td>0.021948</td>\n",
       "      <td>0.059208</td>\n",
       "    </tr>\n",
       "    <tr>\n",
       "      <td>OrderVolume</td>\n",
       "      <td>0.031683</td>\n",
       "      <td>1.000000</td>\n",
       "      <td>-0.002839</td>\n",
       "      <td>0.008301</td>\n",
       "      <td>0.355716</td>\n",
       "      <td>-0.006416</td>\n",
       "      <td>-0.006237</td>\n",
       "      <td>0.005981</td>\n",
       "      <td>-0.111392</td>\n",
       "      <td>-0.060688</td>\n",
       "      <td>-0.153345</td>\n",
       "    </tr>\n",
       "    <tr>\n",
       "      <td>ShipMode</td>\n",
       "      <td>-0.006018</td>\n",
       "      <td>-0.002839</td>\n",
       "      <td>1.000000</td>\n",
       "      <td>-0.005981</td>\n",
       "      <td>-0.008148</td>\n",
       "      <td>0.003310</td>\n",
       "      <td>0.001507</td>\n",
       "      <td>0.002782</td>\n",
       "      <td>0.019069</td>\n",
       "      <td>-0.001177</td>\n",
       "      <td>-0.000177</td>\n",
       "    </tr>\n",
       "    <tr>\n",
       "      <td>Segment</td>\n",
       "      <td>0.177028</td>\n",
       "      <td>0.008301</td>\n",
       "      <td>-0.005981</td>\n",
       "      <td>1.000000</td>\n",
       "      <td>0.001729</td>\n",
       "      <td>-0.001466</td>\n",
       "      <td>-0.008739</td>\n",
       "      <td>0.000823</td>\n",
       "      <td>0.008822</td>\n",
       "      <td>-0.113189</td>\n",
       "      <td>0.414097</td>\n",
       "    </tr>\n",
       "    <tr>\n",
       "      <td>Category</td>\n",
       "      <td>-0.005692</td>\n",
       "      <td>0.355716</td>\n",
       "      <td>-0.008148</td>\n",
       "      <td>0.001729</td>\n",
       "      <td>1.000000</td>\n",
       "      <td>0.001646</td>\n",
       "      <td>-0.012108</td>\n",
       "      <td>-0.006612</td>\n",
       "      <td>-0.069234</td>\n",
       "      <td>-0.031250</td>\n",
       "      <td>-0.260489</td>\n",
       "    </tr>\n",
       "    <tr>\n",
       "      <td>PaymentTerm</td>\n",
       "      <td>0.005176</td>\n",
       "      <td>-0.006416</td>\n",
       "      <td>0.003310</td>\n",
       "      <td>-0.001466</td>\n",
       "      <td>0.001646</td>\n",
       "      <td>1.000000</td>\n",
       "      <td>-0.003948</td>\n",
       "      <td>-0.002673</td>\n",
       "      <td>0.002003</td>\n",
       "      <td>0.002988</td>\n",
       "      <td>0.569241</td>\n",
       "    </tr>\n",
       "    <tr>\n",
       "      <td>Discount</td>\n",
       "      <td>0.001605</td>\n",
       "      <td>-0.006237</td>\n",
       "      <td>0.001507</td>\n",
       "      <td>-0.008739</td>\n",
       "      <td>-0.012108</td>\n",
       "      <td>-0.003948</td>\n",
       "      <td>1.000000</td>\n",
       "      <td>0.006985</td>\n",
       "      <td>-0.008076</td>\n",
       "      <td>-0.000854</td>\n",
       "      <td>-0.200853</td>\n",
       "    </tr>\n",
       "    <tr>\n",
       "      <td>ExistingPurchaseOrder</td>\n",
       "      <td>0.002964</td>\n",
       "      <td>0.005981</td>\n",
       "      <td>0.002782</td>\n",
       "      <td>0.000823</td>\n",
       "      <td>-0.006612</td>\n",
       "      <td>-0.002673</td>\n",
       "      <td>0.006985</td>\n",
       "      <td>1.000000</td>\n",
       "      <td>-0.010903</td>\n",
       "      <td>-0.003852</td>\n",
       "      <td>-0.178824</td>\n",
       "    </tr>\n",
       "    <tr>\n",
       "      <td>Market</td>\n",
       "      <td>-0.094974</td>\n",
       "      <td>-0.111392</td>\n",
       "      <td>0.019069</td>\n",
       "      <td>0.008822</td>\n",
       "      <td>-0.069234</td>\n",
       "      <td>0.002003</td>\n",
       "      <td>-0.008076</td>\n",
       "      <td>-0.010903</td>\n",
       "      <td>1.000000</td>\n",
       "      <td>0.444801</td>\n",
       "      <td>-0.113437</td>\n",
       "    </tr>\n",
       "    <tr>\n",
       "      <td>CustomerComplaints</td>\n",
       "      <td>0.021948</td>\n",
       "      <td>-0.060688</td>\n",
       "      <td>-0.001177</td>\n",
       "      <td>-0.113189</td>\n",
       "      <td>-0.031250</td>\n",
       "      <td>0.002988</td>\n",
       "      <td>-0.000854</td>\n",
       "      <td>-0.003852</td>\n",
       "      <td>0.444801</td>\n",
       "      <td>1.000000</td>\n",
       "      <td>-0.278087</td>\n",
       "    </tr>\n",
       "    <tr>\n",
       "      <td>Dist</td>\n",
       "      <td>0.059208</td>\n",
       "      <td>-0.153345</td>\n",
       "      <td>-0.000177</td>\n",
       "      <td>0.414097</td>\n",
       "      <td>-0.260489</td>\n",
       "      <td>0.569241</td>\n",
       "      <td>-0.200853</td>\n",
       "      <td>-0.178824</td>\n",
       "      <td>-0.113437</td>\n",
       "      <td>-0.278087</td>\n",
       "      <td>1.000000</td>\n",
       "    </tr>\n",
       "  </tbody>\n",
       "</table>\n",
       "</div>"
      ],
      "text/plain": [
       "                       CustomerID  OrderVolume  ShipMode   Segment  Category  \\\n",
       "CustomerID               1.000000     0.031683 -0.006018  0.177028 -0.005692   \n",
       "OrderVolume              0.031683     1.000000 -0.002839  0.008301  0.355716   \n",
       "ShipMode                -0.006018    -0.002839  1.000000 -0.005981 -0.008148   \n",
       "Segment                  0.177028     0.008301 -0.005981  1.000000  0.001729   \n",
       "Category                -0.005692     0.355716 -0.008148  0.001729  1.000000   \n",
       "PaymentTerm              0.005176    -0.006416  0.003310 -0.001466  0.001646   \n",
       "Discount                 0.001605    -0.006237  0.001507 -0.008739 -0.012108   \n",
       "ExistingPurchaseOrder    0.002964     0.005981  0.002782  0.000823 -0.006612   \n",
       "Market                  -0.094974    -0.111392  0.019069  0.008822 -0.069234   \n",
       "CustomerComplaints       0.021948    -0.060688 -0.001177 -0.113189 -0.031250   \n",
       "Dist                     0.059208    -0.153345 -0.000177  0.414097 -0.260489   \n",
       "\n",
       "                       PaymentTerm  Discount  ExistingPurchaseOrder    Market  \\\n",
       "CustomerID                0.005176  0.001605               0.002964 -0.094974   \n",
       "OrderVolume              -0.006416 -0.006237               0.005981 -0.111392   \n",
       "ShipMode                  0.003310  0.001507               0.002782  0.019069   \n",
       "Segment                  -0.001466 -0.008739               0.000823  0.008822   \n",
       "Category                  0.001646 -0.012108              -0.006612 -0.069234   \n",
       "PaymentTerm               1.000000 -0.003948              -0.002673  0.002003   \n",
       "Discount                 -0.003948  1.000000               0.006985 -0.008076   \n",
       "ExistingPurchaseOrder    -0.002673  0.006985               1.000000 -0.010903   \n",
       "Market                    0.002003 -0.008076              -0.010903  1.000000   \n",
       "CustomerComplaints        0.002988 -0.000854              -0.003852  0.444801   \n",
       "Dist                      0.569241 -0.200853              -0.178824 -0.113437   \n",
       "\n",
       "                       CustomerComplaints      Dist  \n",
       "CustomerID                       0.021948  0.059208  \n",
       "OrderVolume                     -0.060688 -0.153345  \n",
       "ShipMode                        -0.001177 -0.000177  \n",
       "Segment                         -0.113189  0.414097  \n",
       "Category                        -0.031250 -0.260489  \n",
       "PaymentTerm                      0.002988  0.569241  \n",
       "Discount                        -0.000854 -0.200853  \n",
       "ExistingPurchaseOrder           -0.003852 -0.178824  \n",
       "Market                           0.444801 -0.113437  \n",
       "CustomerComplaints               1.000000 -0.278087  \n",
       "Dist                            -0.278087  1.000000  "
      ]
     },
     "execution_count": 77,
     "metadata": {},
     "output_type": "execute_result"
    }
   ],
   "source": [
    "orders.corr()"
   ]
  },
  {
   "cell_type": "code",
   "execution_count": 78,
   "metadata": {},
   "outputs": [
    {
     "data": {
      "image/png": "[encoded data removed]",
      "text/plain": [
       "<Figure size 864x720 with 2 Axes>"
      ]
     },
     "metadata": {
      "needs_background": "light"
     },
     "output_type": "display_data"
    }
   ],
   "source": [
    "#Using Pearson Correlation\n",
    "plt.figure(figsize=(12,10))\n",
    "cor = orders.corr()\n",
    "sns.heatmap(cor, annot=True, cmap=plt.cm.Reds)\n",
    "plt.show()"
   ]
  },
  {
   "cell_type": "code",
   "execution_count": 79,
   "metadata": {},
   "outputs": [
    {
     "data": {
      "text/plain": [
       "Segment        0.414097\n",
       "PaymentTerm    0.569241\n",
       "Dist           1.000000\n",
       "Name: Dist, dtype: float64"
      ]
     },
     "execution_count": 79,
     "metadata": {},
     "output_type": "execute_result"
    }
   ],
   "source": [
    "#Correlation with output variable\n",
    "cor_target = abs(cor[\"Dist\"])\n",
    "#Selecting highly correlated features\n",
    "relevant_features = cor_target[cor_target>0.4]\n",
    "relevant_features"
   ]
  },
  {
   "cell_type": "markdown",
   "metadata": {},
   "source": [
    "#### Correlation between Segment and PaymentTerm"
   ]
  },
  {
   "cell_type": "code",
   "execution_count": 80,
   "metadata": {},
   "outputs": [
    {
     "name": "stdout",
     "output_type": "stream",
     "text": [
      "              Segment  PaymentTerm\n",
      "Segment      1.000000    -0.001466\n",
      "PaymentTerm -0.001466     1.000000\n"
     ]
    }
   ],
   "source": [
    "print(orders[[\"Segment\",\"PaymentTerm\"]].corr())"
   ]
  },
  {
   "cell_type": "markdown",
   "metadata": {},
   "source": [
    "## Embedded Method"
   ]
  },
  {
   "cell_type": "code",
   "execution_count": 81,
   "metadata": {},
   "outputs": [
    {
     "name": "stderr",
     "output_type": "stream",
     "text": [
      "C:\\Users\\Daniel\\Anaconda3\\lib\\site-packages\\sklearn\\model_selection\\_split.py:1978: FutureWarning: The default value of cv will change from 3 to 5 in version 0.22. Specify it explicitly to silence this warning.\n",
      "  warnings.warn(CV_WARNING, FutureWarning)\n"
     ]
    },
    {
     "name": "stdout",
     "output_type": "stream",
     "text": [
      "Best alpha using built-in LassoCV: 0.064171\n",
      "Best score using built-in LassoCV: 0.702375\n"
     ]
    }
   ],
   "source": [
    "reg = LassoCV()\n",
    "reg.fit(X, y)\n",
    "print(\"Best alpha using built-in LassoCV: %f\" % reg.alpha_)\n",
    "print(\"Best score using built-in LassoCV: %f\" %reg.score(X,y))\n",
    "coef = pd.Series(reg.coef_, index = X.columns)"
   ]
  },
  {
   "cell_type": "code",
   "execution_count": 82,
   "metadata": {},
   "outputs": [
    {
     "data": {
      "text/plain": [
       "Text(0.5, 1.0, 'Feature importance using Lasso Model')"
      ]
     },
     "execution_count": 82,
     "metadata": {},
     "output_type": "execute_result"
    },
    {
     "data": {
      "image/png": "[encoded data removed]",
      "text/plain": [
       "<Figure size 576x720 with 1 Axes>"
      ]
     },
     "metadata": {
      "needs_background": "light"
     },
     "output_type": "display_data"
    }
   ],
   "source": [
    "imp_coef = coef.sort_values()\n",
    "import matplotlib\n",
    "matplotlib.rcParams['figure.figsize'] = (8.0, 10.0)\n",
    "imp_coef.plot(kind = \"barh\")\n",
    "plt.title(\"Feature importance using Lasso Model\")"
   ]
  },
  {
   "cell_type": "markdown",
   "metadata": {},
   "source": [
    "## Select Features"
   ]
  },
  {
   "cell_type": "code",
   "execution_count": 83,
   "metadata": {},
   "outputs": [
    {
     "data": {
      "text/html": [
       "<div>\n",
       "<style scoped>\n",
       "    .dataframe tbody tr th:only-of-type {\n",
       "        vertical-align: middle;\n",
       "    }\n",
       "\n",
       "    .dataframe tbody tr th {\n",
       "        vertical-align: top;\n",
       "    }\n",
       "\n",
       "    .dataframe thead th {\n",
       "        text-align: right;\n",
       "    }\n",
       "</style>\n",
       "<table border=\"1\" class=\"dataframe\">\n",
       "  <thead>\n",
       "    <tr style=\"text-align: right;\">\n",
       "      <th></th>\n",
       "      <th>CustomerID</th>\n",
       "      <th>OrderVolume</th>\n",
       "      <th>ShipMode</th>\n",
       "      <th>Segment</th>\n",
       "      <th>Category</th>\n",
       "      <th>PaymentTerm</th>\n",
       "      <th>Discount</th>\n",
       "      <th>ExistingPurchaseOrder</th>\n",
       "      <th>Market</th>\n",
       "      <th>CustomerComplaints</th>\n",
       "    </tr>\n",
       "  </thead>\n",
       "  <tbody>\n",
       "    <tr>\n",
       "      <td>0</td>\n",
       "      <td>24</td>\n",
       "      <td>28</td>\n",
       "      <td>3</td>\n",
       "      <td>1</td>\n",
       "      <td>0</td>\n",
       "      <td>1</td>\n",
       "      <td>2</td>\n",
       "      <td>1</td>\n",
       "      <td>0</td>\n",
       "      <td>0</td>\n",
       "    </tr>\n",
       "    <tr>\n",
       "      <td>1</td>\n",
       "      <td>24</td>\n",
       "      <td>4</td>\n",
       "      <td>3</td>\n",
       "      <td>1</td>\n",
       "      <td>0</td>\n",
       "      <td>1</td>\n",
       "      <td>2</td>\n",
       "      <td>1</td>\n",
       "      <td>0</td>\n",
       "      <td>0</td>\n",
       "    </tr>\n",
       "    <tr>\n",
       "      <td>2</td>\n",
       "      <td>6</td>\n",
       "      <td>7</td>\n",
       "      <td>1</td>\n",
       "      <td>0</td>\n",
       "      <td>0</td>\n",
       "      <td>1</td>\n",
       "      <td>1</td>\n",
       "      <td>1</td>\n",
       "      <td>4</td>\n",
       "      <td>5</td>\n",
       "    </tr>\n",
       "    <tr>\n",
       "      <td>3</td>\n",
       "      <td>23</td>\n",
       "      <td>41</td>\n",
       "      <td>0</td>\n",
       "      <td>0</td>\n",
       "      <td>0</td>\n",
       "      <td>1</td>\n",
       "      <td>2</td>\n",
       "      <td>0</td>\n",
       "      <td>5</td>\n",
       "      <td>8</td>\n",
       "    </tr>\n",
       "    <tr>\n",
       "      <td>4</td>\n",
       "      <td>9</td>\n",
       "      <td>31</td>\n",
       "      <td>0</td>\n",
       "      <td>0</td>\n",
       "      <td>1</td>\n",
       "      <td>2</td>\n",
       "      <td>1</td>\n",
       "      <td>1</td>\n",
       "      <td>6</td>\n",
       "      <td>3</td>\n",
       "    </tr>\n",
       "  </tbody>\n",
       "</table>\n",
       "</div>"
      ],
      "text/plain": [
       "   CustomerID  OrderVolume  ShipMode  Segment  Category  PaymentTerm  \\\n",
       "0          24           28         3        1         0            1   \n",
       "1          24            4         3        1         0            1   \n",
       "2           6            7         1        0         0            1   \n",
       "3          23           41         0        0         0            1   \n",
       "4           9           31         0        0         1            2   \n",
       "\n",
       "   Discount  ExistingPurchaseOrder  Market  CustomerComplaints  \n",
       "0         2                      1       0                   0  \n",
       "1         2                      1       0                   0  \n",
       "2         1                      1       4                   5  \n",
       "3         2                      0       5                   8  \n",
       "4         1                      1       6                   3  "
      ]
     },
     "execution_count": 83,
     "metadata": {},
     "output_type": "execute_result"
    }
   ],
   "source": [
    "X.head()"
   ]
  },
  {
   "cell_type": "code",
   "execution_count": 84,
   "metadata": {},
   "outputs": [],
   "source": [
    "#X = X.drop(columns=['CustomerID', 'ShipMode'])\n",
    "X = X.drop(columns=['ShipMode'])"
   ]
  },
  {
   "cell_type": "markdown",
   "metadata": {},
   "source": [
    "# Models"
   ]
  },
  {
   "cell_type": "code",
   "execution_count": 85,
   "metadata": {},
   "outputs": [
    {
     "data": {
      "text/plain": [
       "((36862, 9), (36862,))"
      ]
     },
     "execution_count": 85,
     "metadata": {},
     "output_type": "execute_result"
    }
   ],
   "source": [
    "X.shape, y.shape"
   ]
  },
  {
   "cell_type": "code",
   "execution_count": 86,
   "metadata": {},
   "outputs": [],
   "source": [
    "# Split Data in Train and Test Data\n",
    "X_train, X_test, y_train, y_test = train_test_split(X, y, test_size=0.1, random_state=0)"
   ]
  },
  {
   "cell_type": "code",
   "execution_count": 87,
   "metadata": {},
   "outputs": [
    {
     "data": {
      "text/plain": [
       "((33175, 9), (33175,))"
      ]
     },
     "execution_count": 87,
     "metadata": {},
     "output_type": "execute_result"
    }
   ],
   "source": [
    "X_train.shape, y_train.shape"
   ]
  },
  {
   "cell_type": "code",
   "execution_count": 88,
   "metadata": {},
   "outputs": [
    {
     "data": {
      "text/plain": [
       "((3687, 9), (3687,))"
      ]
     },
     "execution_count": 88,
     "metadata": {},
     "output_type": "execute_result"
    }
   ],
   "source": [
    "X_test.shape, y_test.shape"
   ]
  },
  {
   "cell_type": "markdown",
   "metadata": {},
   "source": [
    "## Linear Regression"
   ]
  },
  {
   "cell_type": "code",
   "execution_count": 89,
   "metadata": {},
   "outputs": [
    {
     "name": "stdout",
     "output_type": "stream",
     "text": [
      "0.7043566277060511\n"
     ]
    }
   ],
   "source": [
    "linearRegr = LinearRegression()\n",
    "linearRegr.fit(X_train, y_train) \n",
    "print(linearRegr.score(X_test, y_test))"
   ]
  },
  {
   "cell_type": "code",
   "execution_count": 90,
   "metadata": {},
   "outputs": [
    {
     "data": {
      "text/plain": [
       "6.960248100647564"
      ]
     },
     "execution_count": 90,
     "metadata": {},
     "output_type": "execute_result"
    }
   ],
   "source": [
    "linearRegrPred = linearRegr.predict(X_test)\n",
    "acc_lin = np.sqrt(mean_squared_error(y_test,linearRegrPred))\n",
    "acc_lin"
   ]
  },
  {
   "cell_type": "markdown",
   "metadata": {},
   "source": [
    "## Logistic Regression"
   ]
  },
  {
   "cell_type": "code",
   "execution_count": 91,
   "metadata": {},
   "outputs": [
    {
     "name": "stderr",
     "output_type": "stream",
     "text": [
      "C:\\Users\\Daniel\\Anaconda3\\lib\\site-packages\\sklearn\\linear_model\\logistic.py:432: FutureWarning: Default solver will be changed to 'lbfgs' in 0.22. Specify a solver to silence this warning.\n",
      "  FutureWarning)\n",
      "C:\\Users\\Daniel\\Anaconda3\\lib\\site-packages\\sklearn\\linear_model\\logistic.py:469: FutureWarning: Default multi_class will be changed to 'auto' in 0.22. Specify the multi_class option to silence this warning.\n",
      "  \"this warning.\", FutureWarning)\n"
     ]
    },
    {
     "name": "stdout",
     "output_type": "stream",
     "text": [
      "0.05017629509085978\n"
     ]
    }
   ],
   "source": [
    "logisticRegr = LogisticRegression()\n",
    "logisticRegr.fit(X_train, y_train)\n",
    "print(logisticRegr.score(X_test, y_test))"
   ]
  },
  {
   "cell_type": "code",
   "execution_count": 92,
   "metadata": {},
   "outputs": [
    {
     "data": {
      "text/plain": [
       "7.862994872472194"
      ]
     },
     "execution_count": 92,
     "metadata": {},
     "output_type": "execute_result"
    }
   ],
   "source": [
    "logisticRegrPred = logisticRegr.predict(X_test)\n",
    "acc_log = np.sqrt(mean_squared_error(y_test,logisticRegrPred))\n",
    "acc_log"
   ]
  },
  {
   "cell_type": "markdown",
   "metadata": {},
   "source": [
    "## SGD"
   ]
  },
  {
   "cell_type": "code",
   "execution_count": 93,
   "metadata": {},
   "outputs": [
    {
     "name": "stdout",
     "output_type": "stream",
     "text": [
      "-3.1226267869695884e+16\n"
     ]
    }
   ],
   "source": [
    "from sklearn.linear_model import SGDRegressor, ElasticNet\n",
    "sgdrRegr = SGDRegressor()\n",
    "sgdrRegr.fit(X_train, y_train)\n",
    "print(sgdrRegr.score(X_test, y_test))"
   ]
  },
  {
   "cell_type": "code",
   "execution_count": 94,
   "metadata": {},
   "outputs": [
    {
     "name": "stdout",
     "output_type": "stream",
     "text": [
      "0.7043559978507414\n"
     ]
    }
   ],
   "source": [
    "ridgeRegr = Ridge()\n",
    "ridgeRegr.fit(X_train, y_train)\n",
    "print(ridgeRegr.score(X_test, y_test))"
   ]
  },
  {
   "cell_type": "code",
   "execution_count": 95,
   "metadata": {},
   "outputs": [
    {
     "data": {
      "text/plain": [
       "6.960255514896113"
      ]
     },
     "execution_count": 95,
     "metadata": {},
     "output_type": "execute_result"
    }
   ],
   "source": [
    "ridgeRegrPred = ridgeRegr.predict(X_test)\n",
    "acc_ridge = np.sqrt(mean_squared_error(y_test,ridgeRegrPred))\n",
    "acc_ridge"
   ]
  },
  {
   "cell_type": "code",
   "execution_count": 96,
   "metadata": {},
   "outputs": [
    {
     "name": "stdout",
     "output_type": "stream",
     "text": [
      "0.6143827573132093\n"
     ]
    }
   ],
   "source": [
    "lassoRegr = linear_model.Lasso()\n",
    "lassoRegr.fit(X_train, y_train)\n",
    "print(lassoRegr.score(X_test, y_test))"
   ]
  },
  {
   "cell_type": "code",
   "execution_count": 97,
   "metadata": {},
   "outputs": [
    {
     "name": "stdout",
     "output_type": "stream",
     "text": [
      "0.49024891433259615\n"
     ]
    }
   ],
   "source": [
    "elasticRegr = ElasticNet(random_state=0)\n",
    "elasticRegr.fit(X_train, y_train)\n",
    "print(elasticRegr.score(X_test, y_test))"
   ]
  },
  {
   "cell_type": "markdown",
   "metadata": {},
   "source": [
    "## SVM"
   ]
  },
  {
   "cell_type": "code",
   "execution_count": 98,
   "metadata": {},
   "outputs": [
    {
     "name": "stderr",
     "output_type": "stream",
     "text": [
      "C:\\Users\\Daniel\\Anaconda3\\lib\\site-packages\\sklearn\\svm\\base.py:193: FutureWarning: The default value of gamma will change from 'auto' to 'scale' in version 0.22 to account better for unscaled features. Set gamma explicitly to 'auto' or 'scale' to avoid this warning.\n",
      "  \"avoid this warning.\", FutureWarning)\n"
     ]
    },
    {
     "name": "stdout",
     "output_type": "stream",
     "text": [
      "0.7659201037597709\n"
     ]
    }
   ],
   "source": [
    "svmReg = svm.SVR()\n",
    "svmReg.fit(X_train, y_train)\n",
    "print(svmReg.score(X_test, y_test))"
   ]
  },
  {
   "cell_type": "code",
   "execution_count": 99,
   "metadata": {},
   "outputs": [
    {
     "data": {
      "text/plain": [
       "6.193308376331638"
      ]
     },
     "execution_count": 99,
     "metadata": {},
     "output_type": "execute_result"
    }
   ],
   "source": [
    "svmRegPred = svmReg.predict(X_test)\n",
    "acc_svc = np.sqrt(mean_squared_error(y_test,svmRegPred))\n",
    "acc_svc"
   ]
  },
  {
   "cell_type": "markdown",
   "metadata": {},
   "source": [
    "## KNN"
   ]
  },
  {
   "cell_type": "code",
   "execution_count": 100,
   "metadata": {},
   "outputs": [
    {
     "name": "stdout",
     "output_type": "stream",
     "text": [
      "0.7749086519855555\n"
     ]
    }
   ],
   "source": [
    "neigh = KNeighborsRegressor(n_neighbors=5)\n",
    "neigh.fit(X_train, y_train)\n",
    "print(neigh.score(X_test, y_test))"
   ]
  },
  {
   "cell_type": "code",
   "execution_count": 101,
   "metadata": {},
   "outputs": [
    {
     "data": {
      "text/plain": [
       "6.073234462585591"
      ]
     },
     "execution_count": 101,
     "metadata": {},
     "output_type": "execute_result"
    }
   ],
   "source": [
    "neighPred = neigh.predict(X_test)\n",
    "acc_knn = np.sqrt(mean_squared_error(y_test,neighPred))\n",
    "acc_knn"
   ]
  },
  {
   "cell_type": "markdown",
   "metadata": {},
   "source": [
    "## DecisionTreeRegressor"
   ]
  },
  {
   "cell_type": "code",
   "execution_count": 102,
   "metadata": {},
   "outputs": [
    {
     "name": "stdout",
     "output_type": "stream",
     "text": [
      "0.8900595253436749\n"
     ]
    }
   ],
   "source": [
    "from sklearn import tree\n",
    "decTree = tree.DecisionTreeRegressor(max_depth=10)\n",
    "decTree.fit(X_train, y_train)\n",
    "print(decTree.score(X_test, y_test))"
   ]
  },
  {
   "cell_type": "code",
   "execution_count": 103,
   "metadata": {},
   "outputs": [
    {
     "data": {
      "text/plain": [
       "4.24443073360562"
      ]
     },
     "execution_count": 103,
     "metadata": {},
     "output_type": "execute_result"
    }
   ],
   "source": [
    "decTreePred = decTree.predict(X_test)\n",
    "acc_decision_tree = np.sqrt(mean_squared_error(y_test,decTreePred))\n",
    "acc_decision_tree"
   ]
  },
  {
   "cell_type": "markdown",
   "metadata": {},
   "source": [
    "## GradientBoostingRegressor"
   ]
  },
  {
   "cell_type": "code",
   "execution_count": 104,
   "metadata": {},
   "outputs": [],
   "source": [
    "from sklearn.ensemble import GradientBoostingRegressor\n",
    "from sklearn.ensemble import RandomForestRegressor\n",
    "from sklearn.linear_model import LinearRegression\n",
    "from sklearn.ensemble import VotingRegressor"
   ]
  },
  {
   "cell_type": "code",
   "execution_count": 105,
   "metadata": {},
   "outputs": [
    {
     "name": "stdout",
     "output_type": "stream",
     "text": [
      "0.9031089510786652\n",
      "0.9017316758275311\n"
     ]
    }
   ],
   "source": [
    "grad = GradientBoostingRegressor(random_state=50, n_estimators=400)\n",
    "grad.fit(X_train, y_train)\n",
    "print(grad.score(X_train, y_train))\n",
    "print(grad.score(X_test, y_test))"
   ]
  },
  {
   "cell_type": "code",
   "execution_count": 106,
   "metadata": {},
   "outputs": [
    {
     "data": {
      "text/plain": [
       "4.012799139255713"
      ]
     },
     "execution_count": 106,
     "metadata": {},
     "output_type": "execute_result"
    }
   ],
   "source": [
    "gradPred = grad.predict(X_test)\n",
    "acc_gradient_boost = np.sqrt(mean_squared_error(y_test,gradPred))\n",
    "acc_gradient_boost"
   ]
  },
  {
   "cell_type": "markdown",
   "metadata": {},
   "source": [
    "## Random Forest Regressor"
   ]
  },
  {
   "cell_type": "code",
   "execution_count": 107,
   "metadata": {},
   "outputs": [
    {
     "name": "stdout",
     "output_type": "stream",
     "text": [
      "0.8714711385181545\n"
     ]
    }
   ],
   "source": [
    "ranForest = RandomForestRegressor(random_state=100, n_estimators=100)\n",
    "ranForest.fit(X_train, y_train)\n",
    "print(ranForest.score(X_test, y_test))"
   ]
  },
  {
   "cell_type": "code",
   "execution_count": 108,
   "metadata": {},
   "outputs": [
    {
     "data": {
      "text/plain": [
       "4.589242184816738"
      ]
     },
     "execution_count": 108,
     "metadata": {},
     "output_type": "execute_result"
    }
   ],
   "source": [
    "ranForestPred = ranForest.predict(X_test)\n",
    "acc_random_forest = np.sqrt(mean_squared_error(y_test,ranForestPred))\n",
    "acc_random_forest"
   ]
  },
  {
   "cell_type": "markdown",
   "metadata": {},
   "source": [
    "# Compare Models"
   ]
  },
  {
   "cell_type": "code",
   "execution_count": 109,
   "metadata": {},
   "outputs": [
    {
     "data": {
      "text/html": [
       "<div>\n",
       "<style scoped>\n",
       "    .dataframe tbody tr th:only-of-type {\n",
       "        vertical-align: middle;\n",
       "    }\n",
       "\n",
       "    .dataframe tbody tr th {\n",
       "        vertical-align: top;\n",
       "    }\n",
       "\n",
       "    .dataframe thead th {\n",
       "        text-align: right;\n",
       "    }\n",
       "</style>\n",
       "<table border=\"1\" class=\"dataframe\">\n",
       "  <thead>\n",
       "    <tr style=\"text-align: right;\">\n",
       "      <th></th>\n",
       "      <th>Model</th>\n",
       "      <th>Score</th>\n",
       "    </tr>\n",
       "  </thead>\n",
       "  <tbody>\n",
       "    <tr>\n",
       "      <td>7</td>\n",
       "      <td>Gradient Boost</td>\n",
       "      <td>4.012799</td>\n",
       "    </tr>\n",
       "    <tr>\n",
       "      <td>6</td>\n",
       "      <td>Decision Tree</td>\n",
       "      <td>4.244431</td>\n",
       "    </tr>\n",
       "    <tr>\n",
       "      <td>4</td>\n",
       "      <td>Random Forest</td>\n",
       "      <td>4.589242</td>\n",
       "    </tr>\n",
       "    <tr>\n",
       "      <td>2</td>\n",
       "      <td>KNN</td>\n",
       "      <td>6.073234</td>\n",
       "    </tr>\n",
       "    <tr>\n",
       "      <td>0</td>\n",
       "      <td>Support Vector Machines</td>\n",
       "      <td>6.193308</td>\n",
       "    </tr>\n",
       "    <tr>\n",
       "      <td>1</td>\n",
       "      <td>Linear Regression</td>\n",
       "      <td>6.960248</td>\n",
       "    </tr>\n",
       "    <tr>\n",
       "      <td>5</td>\n",
       "      <td>Ridge</td>\n",
       "      <td>6.960256</td>\n",
       "    </tr>\n",
       "    <tr>\n",
       "      <td>3</td>\n",
       "      <td>Logistic Regression</td>\n",
       "      <td>7.862995</td>\n",
       "    </tr>\n",
       "  </tbody>\n",
       "</table>\n",
       "</div>"
      ],
      "text/plain": [
       "                     Model     Score\n",
       "7           Gradient Boost  4.012799\n",
       "6            Decision Tree  4.244431\n",
       "4            Random Forest  4.589242\n",
       "2                      KNN  6.073234\n",
       "0  Support Vector Machines  6.193308\n",
       "1        Linear Regression  6.960248\n",
       "5                    Ridge  6.960256\n",
       "3      Logistic Regression  7.862995"
      ]
     },
     "execution_count": 109,
     "metadata": {},
     "output_type": "execute_result"
    }
   ],
   "source": [
    "models = pd.DataFrame({\n",
    "    'Model': ['Support Vector Machines', 'Linear Regression', 'KNN', 'Logistic Regression', \n",
    "              'Random Forest', 'Ridge', \n",
    "              'Decision Tree', 'Gradient Boost'],\n",
    "    'Score': [acc_svc, acc_lin, acc_knn, acc_log, \n",
    "              acc_random_forest, \n",
    "              acc_ridge, acc_decision_tree, acc_gradient_boost]})\n",
    "models.sort_values(by='Score', ascending=True)"
   ]
  },
  {
   "cell_type": "markdown",
   "metadata": {},
   "source": [
    "# Add PredDist & PredCashInDate"
   ]
  },
  {
   "cell_type": "code",
   "execution_count": 110,
   "metadata": {},
   "outputs": [
    {
     "data": {
      "text/plain": [
       "array([41.86032535, 28.67107844, 32.87316904, ..., 36.17626965,\n",
       "       18.00777401, 32.91095397])"
      ]
     },
     "execution_count": 110,
     "metadata": {},
     "output_type": "execute_result"
    }
   ],
   "source": [
    "gradPred"
   ]
  },
  {
   "cell_type": "code",
   "execution_count": 111,
   "metadata": {},
   "outputs": [
    {
     "data": {
      "text/plain": [
       "3687"
      ]
     },
     "execution_count": 111,
     "metadata": {},
     "output_type": "execute_result"
    }
   ],
   "source": [
    "gradPred.size"
   ]
  },
  {
   "cell_type": "code",
   "execution_count": 112,
   "metadata": {},
   "outputs": [],
   "source": [
    "# Get original (preprocessed) Orders-Dataframe \n",
    "ordersOrg = pd.read_pickle(\"orders.pkl\")"
   ]
  },
  {
   "cell_type": "code",
   "execution_count": 113,
   "metadata": {},
   "outputs": [
    {
     "data": {
      "text/html": [
       "<div>\n",
       "<style scoped>\n",
       "    .dataframe tbody tr th:only-of-type {\n",
       "        vertical-align: middle;\n",
       "    }\n",
       "\n",
       "    .dataframe tbody tr th {\n",
       "        vertical-align: top;\n",
       "    }\n",
       "\n",
       "    .dataframe thead th {\n",
       "        text-align: right;\n",
       "    }\n",
       "</style>\n",
       "<table border=\"1\" class=\"dataframe\">\n",
       "  <thead>\n",
       "    <tr style=\"text-align: right;\">\n",
       "      <th></th>\n",
       "      <th>OrderID</th>\n",
       "      <th>InvoiceDate</th>\n",
       "      <th>CustomerID</th>\n",
       "      <th>OrderVolume</th>\n",
       "      <th>ShipMode</th>\n",
       "      <th>Segment</th>\n",
       "      <th>Category</th>\n",
       "      <th>PaymentTerm</th>\n",
       "      <th>Discount</th>\n",
       "      <th>ExistingPurchaseOrder</th>\n",
       "      <th>CashInDate</th>\n",
       "      <th>Market</th>\n",
       "      <th>CustomerComplaints</th>\n",
       "      <th>Dist</th>\n",
       "    </tr>\n",
       "  </thead>\n",
       "  <tbody>\n",
       "    <tr>\n",
       "      <td>0</td>\n",
       "      <td>O-100</td>\n",
       "      <td>2011-01-03</td>\n",
       "      <td>1024</td>\n",
       "      <td>276.10</td>\n",
       "      <td>Same Day</td>\n",
       "      <td>Corporate</td>\n",
       "      <td>Office Supplies</td>\n",
       "      <td>30</td>\n",
       "      <td>5%</td>\n",
       "      <td>Yes</td>\n",
       "      <td>2011-02-18</td>\n",
       "      <td>APAC</td>\n",
       "      <td>0</td>\n",
       "      <td>46</td>\n",
       "    </tr>\n",
       "    <tr>\n",
       "      <td>1</td>\n",
       "      <td>O-101</td>\n",
       "      <td>2011-01-03</td>\n",
       "      <td>1024</td>\n",
       "      <td>35.88</td>\n",
       "      <td>Same Day</td>\n",
       "      <td>Corporate</td>\n",
       "      <td>Office Supplies</td>\n",
       "      <td>30</td>\n",
       "      <td>5%</td>\n",
       "      <td>Yes</td>\n",
       "      <td>2011-02-18</td>\n",
       "      <td>APAC</td>\n",
       "      <td>0</td>\n",
       "      <td>46</td>\n",
       "    </tr>\n",
       "    <tr>\n",
       "      <td>2</td>\n",
       "      <td>O-102</td>\n",
       "      <td>2011-01-05</td>\n",
       "      <td>1006</td>\n",
       "      <td>66.12</td>\n",
       "      <td>Second Class</td>\n",
       "      <td>Consumer</td>\n",
       "      <td>Office Supplies</td>\n",
       "      <td>30</td>\n",
       "      <td>3%</td>\n",
       "      <td>Yes</td>\n",
       "      <td>2011-02-06</td>\n",
       "      <td>EMEA</td>\n",
       "      <td>5</td>\n",
       "      <td>32</td>\n",
       "    </tr>\n",
       "    <tr>\n",
       "      <td>3</td>\n",
       "      <td>O-104</td>\n",
       "      <td>2011-01-06</td>\n",
       "      <td>1023</td>\n",
       "      <td>408.30</td>\n",
       "      <td>Standard Class</td>\n",
       "      <td>Consumer</td>\n",
       "      <td>Office Supplies</td>\n",
       "      <td>30</td>\n",
       "      <td>5%</td>\n",
       "      <td>No</td>\n",
       "      <td>2011-02-17</td>\n",
       "      <td>Africa</td>\n",
       "      <td>8</td>\n",
       "      <td>42</td>\n",
       "    </tr>\n",
       "    <tr>\n",
       "      <td>4</td>\n",
       "      <td>O-105</td>\n",
       "      <td>2011-01-06</td>\n",
       "      <td>1009</td>\n",
       "      <td>314.22</td>\n",
       "      <td>Standard Class</td>\n",
       "      <td>Consumer</td>\n",
       "      <td>Technology</td>\n",
       "      <td>45</td>\n",
       "      <td>3%</td>\n",
       "      <td>Yes</td>\n",
       "      <td>2011-02-10</td>\n",
       "      <td>Canada</td>\n",
       "      <td>3</td>\n",
       "      <td>35</td>\n",
       "    </tr>\n",
       "    <tr>\n",
       "      <td>...</td>\n",
       "      <td>...</td>\n",
       "      <td>...</td>\n",
       "      <td>...</td>\n",
       "      <td>...</td>\n",
       "      <td>...</td>\n",
       "      <td>...</td>\n",
       "      <td>...</td>\n",
       "      <td>...</td>\n",
       "      <td>...</td>\n",
       "      <td>...</td>\n",
       "      <td>...</td>\n",
       "      <td>...</td>\n",
       "      <td>...</td>\n",
       "      <td>...</td>\n",
       "    </tr>\n",
       "    <tr>\n",
       "      <td>37636</td>\n",
       "      <td>O-48947</td>\n",
       "      <td>2014-11-30</td>\n",
       "      <td>1020</td>\n",
       "      <td>50.40</td>\n",
       "      <td>Standard Class</td>\n",
       "      <td>Consumer</td>\n",
       "      <td>Furniture</td>\n",
       "      <td>45</td>\n",
       "      <td>0%</td>\n",
       "      <td>Yes</td>\n",
       "      <td>2014-12-29</td>\n",
       "      <td>EU</td>\n",
       "      <td>4</td>\n",
       "      <td>29</td>\n",
       "    </tr>\n",
       "    <tr>\n",
       "      <td>37637</td>\n",
       "      <td>O-48951</td>\n",
       "      <td>2014-11-30</td>\n",
       "      <td>1029</td>\n",
       "      <td>50.09</td>\n",
       "      <td>Standard Class</td>\n",
       "      <td>Corporate</td>\n",
       "      <td>Office Supplies</td>\n",
       "      <td>14</td>\n",
       "      <td>3%</td>\n",
       "      <td>No</td>\n",
       "      <td>2014-12-31</td>\n",
       "      <td>APAC</td>\n",
       "      <td>2</td>\n",
       "      <td>31</td>\n",
       "    </tr>\n",
       "    <tr>\n",
       "      <td>37638</td>\n",
       "      <td>O-48953</td>\n",
       "      <td>2014-11-30</td>\n",
       "      <td>1010</td>\n",
       "      <td>21.12</td>\n",
       "      <td>Same Day</td>\n",
       "      <td>Consumer</td>\n",
       "      <td>Office Supplies</td>\n",
       "      <td>14</td>\n",
       "      <td>5%</td>\n",
       "      <td>Yes</td>\n",
       "      <td>2014-12-31</td>\n",
       "      <td>LATAM</td>\n",
       "      <td>0</td>\n",
       "      <td>31</td>\n",
       "    </tr>\n",
       "    <tr>\n",
       "      <td>37639</td>\n",
       "      <td>O-48960</td>\n",
       "      <td>2014-11-30</td>\n",
       "      <td>1031</td>\n",
       "      <td>33.57</td>\n",
       "      <td>First Class</td>\n",
       "      <td>Consumer</td>\n",
       "      <td>Office Supplies</td>\n",
       "      <td>14</td>\n",
       "      <td>5%</td>\n",
       "      <td>Yes</td>\n",
       "      <td>2014-12-16</td>\n",
       "      <td>US</td>\n",
       "      <td>4</td>\n",
       "      <td>16</td>\n",
       "    </tr>\n",
       "    <tr>\n",
       "      <td>37640</td>\n",
       "      <td>O-48972</td>\n",
       "      <td>2014-11-30</td>\n",
       "      <td>1031</td>\n",
       "      <td>20.72</td>\n",
       "      <td>Second Class</td>\n",
       "      <td>Consumer</td>\n",
       "      <td>Office Supplies</td>\n",
       "      <td>30</td>\n",
       "      <td>3%</td>\n",
       "      <td>Yes</td>\n",
       "      <td>2014-12-15</td>\n",
       "      <td>US</td>\n",
       "      <td>4</td>\n",
       "      <td>15</td>\n",
       "    </tr>\n",
       "  </tbody>\n",
       "</table>\n",
       "<p>36862 rows × 14 columns</p>\n",
       "</div>"
      ],
      "text/plain": [
       "       OrderID InvoiceDate  CustomerID  OrderVolume        ShipMode  \\\n",
       "0        O-100  2011-01-03        1024       276.10        Same Day   \n",
       "1        O-101  2011-01-03        1024        35.88        Same Day   \n",
       "2        O-102  2011-01-05        1006        66.12    Second Class   \n",
       "3        O-104  2011-01-06        1023       408.30  Standard Class   \n",
       "4        O-105  2011-01-06        1009       314.22  Standard Class   \n",
       "...        ...         ...         ...          ...             ...   \n",
       "37636  O-48947  2014-11-30        1020        50.40  Standard Class   \n",
       "37637  O-48951  2014-11-30        1029        50.09  Standard Class   \n",
       "37638  O-48953  2014-11-30        1010        21.12        Same Day   \n",
       "37639  O-48960  2014-11-30        1031        33.57     First Class   \n",
       "37640  O-48972  2014-11-30        1031        20.72    Second Class   \n",
       "\n",
       "         Segment         Category  PaymentTerm Discount ExistingPurchaseOrder  \\\n",
       "0      Corporate  Office Supplies           30       5%                   Yes   \n",
       "1      Corporate  Office Supplies           30       5%                   Yes   \n",
       "2       Consumer  Office Supplies           30       3%                   Yes   \n",
       "3       Consumer  Office Supplies           30       5%                    No   \n",
       "4       Consumer       Technology           45       3%                   Yes   \n",
       "...          ...              ...          ...      ...                   ...   \n",
       "37636   Consumer        Furniture           45       0%                   Yes   \n",
       "37637  Corporate  Office Supplies           14       3%                    No   \n",
       "37638   Consumer  Office Supplies           14       5%                   Yes   \n",
       "37639   Consumer  Office Supplies           14       5%                   Yes   \n",
       "37640   Consumer  Office Supplies           30       3%                   Yes   \n",
       "\n",
       "      CashInDate  Market  CustomerComplaints  Dist  \n",
       "0     2011-02-18    APAC                   0    46  \n",
       "1     2011-02-18    APAC                   0    46  \n",
       "2     2011-02-06    EMEA                   5    32  \n",
       "3     2011-02-17  Africa                   8    42  \n",
       "4     2011-02-10  Canada                   3    35  \n",
       "...          ...     ...                 ...   ...  \n",
       "37636 2014-12-29      EU                   4    29  \n",
       "37637 2014-12-31    APAC                   2    31  \n",
       "37638 2014-12-31   LATAM                   0    31  \n",
       "37639 2014-12-16      US                   4    16  \n",
       "37640 2014-12-15      US                   4    15  \n",
       "\n",
       "[36862 rows x 14 columns]"
      ]
     },
     "execution_count": 113,
     "metadata": {},
     "output_type": "execute_result"
    }
   ],
   "source": [
    "ordersOrg"
   ]
  },
  {
   "cell_type": "code",
   "execution_count": 114,
   "metadata": {},
   "outputs": [
    {
     "data": {
      "text/plain": [
       "((33175, 9), (33175,))"
      ]
     },
     "execution_count": 114,
     "metadata": {},
     "output_type": "execute_result"
    }
   ],
   "source": [
    "# Check, if correct length\n",
    "X_train.shape, y_train.shape"
   ]
  },
  {
   "cell_type": "code",
   "execution_count": 115,
   "metadata": {},
   "outputs": [
    {
     "data": {
      "text/plain": [
       "36862"
      ]
     },
     "execution_count": 115,
     "metadata": {},
     "output_type": "execute_result"
    }
   ],
   "source": [
    "33175 + 3687"
   ]
  },
  {
   "cell_type": "code",
   "execution_count": 116,
   "metadata": {},
   "outputs": [],
   "source": [
    "# Create new Dataframe rows matching gradPred\n",
    "ordersTail = ordersOrg.tail(3687)"
   ]
  },
  {
   "cell_type": "code",
   "execution_count": 117,
   "metadata": {},
   "outputs": [
    {
     "data": {
      "text/html": [
       "<div>\n",
       "<style scoped>\n",
       "    .dataframe tbody tr th:only-of-type {\n",
       "        vertical-align: middle;\n",
       "    }\n",
       "\n",
       "    .dataframe tbody tr th {\n",
       "        vertical-align: top;\n",
       "    }\n",
       "\n",
       "    .dataframe thead th {\n",
       "        text-align: right;\n",
       "    }\n",
       "</style>\n",
       "<table border=\"1\" class=\"dataframe\">\n",
       "  <thead>\n",
       "    <tr style=\"text-align: right;\">\n",
       "      <th></th>\n",
       "      <th>OrderID</th>\n",
       "      <th>InvoiceDate</th>\n",
       "      <th>CustomerID</th>\n",
       "      <th>OrderVolume</th>\n",
       "      <th>ShipMode</th>\n",
       "      <th>Segment</th>\n",
       "      <th>Category</th>\n",
       "      <th>PaymentTerm</th>\n",
       "      <th>Discount</th>\n",
       "      <th>ExistingPurchaseOrder</th>\n",
       "      <th>CashInDate</th>\n",
       "      <th>Market</th>\n",
       "      <th>CustomerComplaints</th>\n",
       "      <th>Dist</th>\n",
       "    </tr>\n",
       "  </thead>\n",
       "  <tbody>\n",
       "    <tr>\n",
       "      <td>33875</td>\n",
       "      <td>O-43537</td>\n",
       "      <td>2014-09-06</td>\n",
       "      <td>1002</td>\n",
       "      <td>424.20</td>\n",
       "      <td>Standard Class</td>\n",
       "      <td>Corporate</td>\n",
       "      <td>Office Supplies</td>\n",
       "      <td>30</td>\n",
       "      <td>0%</td>\n",
       "      <td>No</td>\n",
       "      <td>2014-10-25</td>\n",
       "      <td>Canada</td>\n",
       "      <td>4</td>\n",
       "      <td>49</td>\n",
       "    </tr>\n",
       "    <tr>\n",
       "      <td>33876</td>\n",
       "      <td>O-43539</td>\n",
       "      <td>2014-09-06</td>\n",
       "      <td>1010</td>\n",
       "      <td>394.98</td>\n",
       "      <td>Standard Class</td>\n",
       "      <td>Consumer</td>\n",
       "      <td>Office Supplies</td>\n",
       "      <td>14</td>\n",
       "      <td>3%</td>\n",
       "      <td>Yes</td>\n",
       "      <td>2014-10-09</td>\n",
       "      <td>LATAM</td>\n",
       "      <td>0</td>\n",
       "      <td>33</td>\n",
       "    </tr>\n",
       "    <tr>\n",
       "      <td>33877</td>\n",
       "      <td>O-43541</td>\n",
       "      <td>2014-09-06</td>\n",
       "      <td>1003</td>\n",
       "      <td>216.14</td>\n",
       "      <td>Same Day</td>\n",
       "      <td>Corporate</td>\n",
       "      <td>Furniture</td>\n",
       "      <td>14</td>\n",
       "      <td>0%</td>\n",
       "      <td>Yes</td>\n",
       "      <td>2014-10-04</td>\n",
       "      <td>EU</td>\n",
       "      <td>0</td>\n",
       "      <td>28</td>\n",
       "    </tr>\n",
       "    <tr>\n",
       "      <td>33878</td>\n",
       "      <td>O-43542</td>\n",
       "      <td>2014-09-06</td>\n",
       "      <td>1030</td>\n",
       "      <td>153.83</td>\n",
       "      <td>Same Day</td>\n",
       "      <td>Corporate</td>\n",
       "      <td>Furniture</td>\n",
       "      <td>30</td>\n",
       "      <td>5%</td>\n",
       "      <td>Yes</td>\n",
       "      <td>2014-10-06</td>\n",
       "      <td>EU</td>\n",
       "      <td>3</td>\n",
       "      <td>30</td>\n",
       "    </tr>\n",
       "    <tr>\n",
       "      <td>33879</td>\n",
       "      <td>O-43543</td>\n",
       "      <td>2014-09-06</td>\n",
       "      <td>1031</td>\n",
       "      <td>659.90</td>\n",
       "      <td>Standard Class</td>\n",
       "      <td>Consumer</td>\n",
       "      <td>Technology</td>\n",
       "      <td>45</td>\n",
       "      <td>5%</td>\n",
       "      <td>Yes</td>\n",
       "      <td>2014-09-25</td>\n",
       "      <td>US</td>\n",
       "      <td>4</td>\n",
       "      <td>19</td>\n",
       "    </tr>\n",
       "    <tr>\n",
       "      <td>...</td>\n",
       "      <td>...</td>\n",
       "      <td>...</td>\n",
       "      <td>...</td>\n",
       "      <td>...</td>\n",
       "      <td>...</td>\n",
       "      <td>...</td>\n",
       "      <td>...</td>\n",
       "      <td>...</td>\n",
       "      <td>...</td>\n",
       "      <td>...</td>\n",
       "      <td>...</td>\n",
       "      <td>...</td>\n",
       "      <td>...</td>\n",
       "      <td>...</td>\n",
       "    </tr>\n",
       "    <tr>\n",
       "      <td>37636</td>\n",
       "      <td>O-48947</td>\n",
       "      <td>2014-11-30</td>\n",
       "      <td>1020</td>\n",
       "      <td>50.40</td>\n",
       "      <td>Standard Class</td>\n",
       "      <td>Consumer</td>\n",
       "      <td>Furniture</td>\n",
       "      <td>45</td>\n",
       "      <td>0%</td>\n",
       "      <td>Yes</td>\n",
       "      <td>2014-12-29</td>\n",
       "      <td>EU</td>\n",
       "      <td>4</td>\n",
       "      <td>29</td>\n",
       "    </tr>\n",
       "    <tr>\n",
       "      <td>37637</td>\n",
       "      <td>O-48951</td>\n",
       "      <td>2014-11-30</td>\n",
       "      <td>1029</td>\n",
       "      <td>50.09</td>\n",
       "      <td>Standard Class</td>\n",
       "      <td>Corporate</td>\n",
       "      <td>Office Supplies</td>\n",
       "      <td>14</td>\n",
       "      <td>3%</td>\n",
       "      <td>No</td>\n",
       "      <td>2014-12-31</td>\n",
       "      <td>APAC</td>\n",
       "      <td>2</td>\n",
       "      <td>31</td>\n",
       "    </tr>\n",
       "    <tr>\n",
       "      <td>37638</td>\n",
       "      <td>O-48953</td>\n",
       "      <td>2014-11-30</td>\n",
       "      <td>1010</td>\n",
       "      <td>21.12</td>\n",
       "      <td>Same Day</td>\n",
       "      <td>Consumer</td>\n",
       "      <td>Office Supplies</td>\n",
       "      <td>14</td>\n",
       "      <td>5%</td>\n",
       "      <td>Yes</td>\n",
       "      <td>2014-12-31</td>\n",
       "      <td>LATAM</td>\n",
       "      <td>0</td>\n",
       "      <td>31</td>\n",
       "    </tr>\n",
       "    <tr>\n",
       "      <td>37639</td>\n",
       "      <td>O-48960</td>\n",
       "      <td>2014-11-30</td>\n",
       "      <td>1031</td>\n",
       "      <td>33.57</td>\n",
       "      <td>First Class</td>\n",
       "      <td>Consumer</td>\n",
       "      <td>Office Supplies</td>\n",
       "      <td>14</td>\n",
       "      <td>5%</td>\n",
       "      <td>Yes</td>\n",
       "      <td>2014-12-16</td>\n",
       "      <td>US</td>\n",
       "      <td>4</td>\n",
       "      <td>16</td>\n",
       "    </tr>\n",
       "    <tr>\n",
       "      <td>37640</td>\n",
       "      <td>O-48972</td>\n",
       "      <td>2014-11-30</td>\n",
       "      <td>1031</td>\n",
       "      <td>20.72</td>\n",
       "      <td>Second Class</td>\n",
       "      <td>Consumer</td>\n",
       "      <td>Office Supplies</td>\n",
       "      <td>30</td>\n",
       "      <td>3%</td>\n",
       "      <td>Yes</td>\n",
       "      <td>2014-12-15</td>\n",
       "      <td>US</td>\n",
       "      <td>4</td>\n",
       "      <td>15</td>\n",
       "    </tr>\n",
       "  </tbody>\n",
       "</table>\n",
       "<p>3687 rows × 14 columns</p>\n",
       "</div>"
      ],
      "text/plain": [
       "       OrderID InvoiceDate  CustomerID  OrderVolume        ShipMode  \\\n",
       "33875  O-43537  2014-09-06        1002       424.20  Standard Class   \n",
       "33876  O-43539  2014-09-06        1010       394.98  Standard Class   \n",
       "33877  O-43541  2014-09-06        1003       216.14        Same Day   \n",
       "33878  O-43542  2014-09-06        1030       153.83        Same Day   \n",
       "33879  O-43543  2014-09-06        1031       659.90  Standard Class   \n",
       "...        ...         ...         ...          ...             ...   \n",
       "37636  O-48947  2014-11-30        1020        50.40  Standard Class   \n",
       "37637  O-48951  2014-11-30        1029        50.09  Standard Class   \n",
       "37638  O-48953  2014-11-30        1010        21.12        Same Day   \n",
       "37639  O-48960  2014-11-30        1031        33.57     First Class   \n",
       "37640  O-48972  2014-11-30        1031        20.72    Second Class   \n",
       "\n",
       "         Segment         Category  PaymentTerm Discount ExistingPurchaseOrder  \\\n",
       "33875  Corporate  Office Supplies           30       0%                    No   \n",
       "33876   Consumer  Office Supplies           14       3%                   Yes   \n",
       "33877  Corporate        Furniture           14       0%                   Yes   \n",
       "33878  Corporate        Furniture           30       5%                   Yes   \n",
       "33879   Consumer       Technology           45       5%                   Yes   \n",
       "...          ...              ...          ...      ...                   ...   \n",
       "37636   Consumer        Furniture           45       0%                   Yes   \n",
       "37637  Corporate  Office Supplies           14       3%                    No   \n",
       "37638   Consumer  Office Supplies           14       5%                   Yes   \n",
       "37639   Consumer  Office Supplies           14       5%                   Yes   \n",
       "37640   Consumer  Office Supplies           30       3%                   Yes   \n",
       "\n",
       "      CashInDate  Market  CustomerComplaints  Dist  \n",
       "33875 2014-10-25  Canada                   4    49  \n",
       "33876 2014-10-09   LATAM                   0    33  \n",
       "33877 2014-10-04      EU                   0    28  \n",
       "33878 2014-10-06      EU                   3    30  \n",
       "33879 2014-09-25      US                   4    19  \n",
       "...          ...     ...                 ...   ...  \n",
       "37636 2014-12-29      EU                   4    29  \n",
       "37637 2014-12-31    APAC                   2    31  \n",
       "37638 2014-12-31   LATAM                   0    31  \n",
       "37639 2014-12-16      US                   4    16  \n",
       "37640 2014-12-15      US                   4    15  \n",
       "\n",
       "[3687 rows x 14 columns]"
      ]
     },
     "execution_count": 117,
     "metadata": {},
     "output_type": "execute_result"
    }
   ],
   "source": [
    "ordersTail"
   ]
  },
  {
   "cell_type": "code",
   "execution_count": 118,
   "metadata": {},
   "outputs": [
    {
     "data": {
      "text/plain": [
       "array([41.86032535, 28.67107844, 32.87316904, ..., 36.17626965,\n",
       "       18.00777401, 32.91095397])"
      ]
     },
     "execution_count": 118,
     "metadata": {},
     "output_type": "execute_result"
    }
   ],
   "source": [
    "gradPred"
   ]
  },
  {
   "cell_type": "code",
   "execution_count": 119,
   "metadata": {},
   "outputs": [
    {
     "name": "stderr",
     "output_type": "stream",
     "text": [
      "C:\\Users\\Daniel\\Anaconda3\\lib\\site-packages\\ipykernel_launcher.py:2: SettingWithCopyWarning: \n",
      "A value is trying to be set on a copy of a slice from a DataFrame.\n",
      "Try using .loc[row_indexer,col_indexer] = value instead\n",
      "\n",
      "See the caveats in the documentation: http://pandas.pydata.org/pandas-docs/stable/user_guide/indexing.html#returning-a-view-versus-a-copy\n",
      "  \n"
     ]
    }
   ],
   "source": [
    "# Add predicted values\n",
    "ordersTail['PredDist'] = gradPred"
   ]
  },
  {
   "cell_type": "code",
   "execution_count": 120,
   "metadata": {},
   "outputs": [
    {
     "data": {
      "text/html": [
       "<div>\n",
       "<style scoped>\n",
       "    .dataframe tbody tr th:only-of-type {\n",
       "        vertical-align: middle;\n",
       "    }\n",
       "\n",
       "    .dataframe tbody tr th {\n",
       "        vertical-align: top;\n",
       "    }\n",
       "\n",
       "    .dataframe thead th {\n",
       "        text-align: right;\n",
       "    }\n",
       "</style>\n",
       "<table border=\"1\" class=\"dataframe\">\n",
       "  <thead>\n",
       "    <tr style=\"text-align: right;\">\n",
       "      <th></th>\n",
       "      <th>OrderID</th>\n",
       "      <th>InvoiceDate</th>\n",
       "      <th>CustomerID</th>\n",
       "      <th>OrderVolume</th>\n",
       "      <th>ShipMode</th>\n",
       "      <th>Segment</th>\n",
       "      <th>Category</th>\n",
       "      <th>PaymentTerm</th>\n",
       "      <th>Discount</th>\n",
       "      <th>ExistingPurchaseOrder</th>\n",
       "      <th>CashInDate</th>\n",
       "      <th>Market</th>\n",
       "      <th>CustomerComplaints</th>\n",
       "      <th>Dist</th>\n",
       "      <th>PredDist</th>\n",
       "    </tr>\n",
       "  </thead>\n",
       "  <tbody>\n",
       "    <tr>\n",
       "      <td>33875</td>\n",
       "      <td>O-43537</td>\n",
       "      <td>2014-09-06</td>\n",
       "      <td>1002</td>\n",
       "      <td>424.20</td>\n",
       "      <td>Standard Class</td>\n",
       "      <td>Corporate</td>\n",
       "      <td>Office Supplies</td>\n",
       "      <td>30</td>\n",
       "      <td>0%</td>\n",
       "      <td>No</td>\n",
       "      <td>2014-10-25</td>\n",
       "      <td>Canada</td>\n",
       "      <td>4</td>\n",
       "      <td>49</td>\n",
       "      <td>41.860325</td>\n",
       "    </tr>\n",
       "    <tr>\n",
       "      <td>33876</td>\n",
       "      <td>O-43539</td>\n",
       "      <td>2014-09-06</td>\n",
       "      <td>1010</td>\n",
       "      <td>394.98</td>\n",
       "      <td>Standard Class</td>\n",
       "      <td>Consumer</td>\n",
       "      <td>Office Supplies</td>\n",
       "      <td>14</td>\n",
       "      <td>3%</td>\n",
       "      <td>Yes</td>\n",
       "      <td>2014-10-09</td>\n",
       "      <td>LATAM</td>\n",
       "      <td>0</td>\n",
       "      <td>33</td>\n",
       "      <td>28.671078</td>\n",
       "    </tr>\n",
       "    <tr>\n",
       "      <td>33877</td>\n",
       "      <td>O-43541</td>\n",
       "      <td>2014-09-06</td>\n",
       "      <td>1003</td>\n",
       "      <td>216.14</td>\n",
       "      <td>Same Day</td>\n",
       "      <td>Corporate</td>\n",
       "      <td>Furniture</td>\n",
       "      <td>14</td>\n",
       "      <td>0%</td>\n",
       "      <td>Yes</td>\n",
       "      <td>2014-10-04</td>\n",
       "      <td>EU</td>\n",
       "      <td>0</td>\n",
       "      <td>28</td>\n",
       "      <td>32.873169</td>\n",
       "    </tr>\n",
       "    <tr>\n",
       "      <td>33878</td>\n",
       "      <td>O-43542</td>\n",
       "      <td>2014-09-06</td>\n",
       "      <td>1030</td>\n",
       "      <td>153.83</td>\n",
       "      <td>Same Day</td>\n",
       "      <td>Corporate</td>\n",
       "      <td>Furniture</td>\n",
       "      <td>30</td>\n",
       "      <td>5%</td>\n",
       "      <td>Yes</td>\n",
       "      <td>2014-10-06</td>\n",
       "      <td>EU</td>\n",
       "      <td>3</td>\n",
       "      <td>30</td>\n",
       "      <td>30.683715</td>\n",
       "    </tr>\n",
       "    <tr>\n",
       "      <td>33879</td>\n",
       "      <td>O-43543</td>\n",
       "      <td>2014-09-06</td>\n",
       "      <td>1031</td>\n",
       "      <td>659.90</td>\n",
       "      <td>Standard Class</td>\n",
       "      <td>Consumer</td>\n",
       "      <td>Technology</td>\n",
       "      <td>45</td>\n",
       "      <td>5%</td>\n",
       "      <td>Yes</td>\n",
       "      <td>2014-09-25</td>\n",
       "      <td>US</td>\n",
       "      <td>4</td>\n",
       "      <td>19</td>\n",
       "      <td>39.589232</td>\n",
       "    </tr>\n",
       "    <tr>\n",
       "      <td>...</td>\n",
       "      <td>...</td>\n",
       "      <td>...</td>\n",
       "      <td>...</td>\n",
       "      <td>...</td>\n",
       "      <td>...</td>\n",
       "      <td>...</td>\n",
       "      <td>...</td>\n",
       "      <td>...</td>\n",
       "      <td>...</td>\n",
       "      <td>...</td>\n",
       "      <td>...</td>\n",
       "      <td>...</td>\n",
       "      <td>...</td>\n",
       "      <td>...</td>\n",
       "      <td>...</td>\n",
       "    </tr>\n",
       "    <tr>\n",
       "      <td>37636</td>\n",
       "      <td>O-48947</td>\n",
       "      <td>2014-11-30</td>\n",
       "      <td>1020</td>\n",
       "      <td>50.40</td>\n",
       "      <td>Standard Class</td>\n",
       "      <td>Consumer</td>\n",
       "      <td>Furniture</td>\n",
       "      <td>45</td>\n",
       "      <td>0%</td>\n",
       "      <td>Yes</td>\n",
       "      <td>2014-12-29</td>\n",
       "      <td>EU</td>\n",
       "      <td>4</td>\n",
       "      <td>29</td>\n",
       "      <td>13.511086</td>\n",
       "    </tr>\n",
       "    <tr>\n",
       "      <td>37637</td>\n",
       "      <td>O-48951</td>\n",
       "      <td>2014-11-30</td>\n",
       "      <td>1029</td>\n",
       "      <td>50.09</td>\n",
       "      <td>Standard Class</td>\n",
       "      <td>Corporate</td>\n",
       "      <td>Office Supplies</td>\n",
       "      <td>14</td>\n",
       "      <td>3%</td>\n",
       "      <td>No</td>\n",
       "      <td>2014-12-31</td>\n",
       "      <td>APAC</td>\n",
       "      <td>2</td>\n",
       "      <td>31</td>\n",
       "      <td>41.187130</td>\n",
       "    </tr>\n",
       "    <tr>\n",
       "      <td>37638</td>\n",
       "      <td>O-48953</td>\n",
       "      <td>2014-11-30</td>\n",
       "      <td>1010</td>\n",
       "      <td>21.12</td>\n",
       "      <td>Same Day</td>\n",
       "      <td>Consumer</td>\n",
       "      <td>Office Supplies</td>\n",
       "      <td>14</td>\n",
       "      <td>5%</td>\n",
       "      <td>Yes</td>\n",
       "      <td>2014-12-31</td>\n",
       "      <td>LATAM</td>\n",
       "      <td>0</td>\n",
       "      <td>31</td>\n",
       "      <td>36.176270</td>\n",
       "    </tr>\n",
       "    <tr>\n",
       "      <td>37639</td>\n",
       "      <td>O-48960</td>\n",
       "      <td>2014-11-30</td>\n",
       "      <td>1031</td>\n",
       "      <td>33.57</td>\n",
       "      <td>First Class</td>\n",
       "      <td>Consumer</td>\n",
       "      <td>Office Supplies</td>\n",
       "      <td>14</td>\n",
       "      <td>5%</td>\n",
       "      <td>Yes</td>\n",
       "      <td>2014-12-16</td>\n",
       "      <td>US</td>\n",
       "      <td>4</td>\n",
       "      <td>16</td>\n",
       "      <td>18.007774</td>\n",
       "    </tr>\n",
       "    <tr>\n",
       "      <td>37640</td>\n",
       "      <td>O-48972</td>\n",
       "      <td>2014-11-30</td>\n",
       "      <td>1031</td>\n",
       "      <td>20.72</td>\n",
       "      <td>Second Class</td>\n",
       "      <td>Consumer</td>\n",
       "      <td>Office Supplies</td>\n",
       "      <td>30</td>\n",
       "      <td>3%</td>\n",
       "      <td>Yes</td>\n",
       "      <td>2014-12-15</td>\n",
       "      <td>US</td>\n",
       "      <td>4</td>\n",
       "      <td>15</td>\n",
       "      <td>32.910954</td>\n",
       "    </tr>\n",
       "  </tbody>\n",
       "</table>\n",
       "<p>3687 rows × 15 columns</p>\n",
       "</div>"
      ],
      "text/plain": [
       "       OrderID InvoiceDate  CustomerID  OrderVolume        ShipMode  \\\n",
       "33875  O-43537  2014-09-06        1002       424.20  Standard Class   \n",
       "33876  O-43539  2014-09-06        1010       394.98  Standard Class   \n",
       "33877  O-43541  2014-09-06        1003       216.14        Same Day   \n",
       "33878  O-43542  2014-09-06        1030       153.83        Same Day   \n",
       "33879  O-43543  2014-09-06        1031       659.90  Standard Class   \n",
       "...        ...         ...         ...          ...             ...   \n",
       "37636  O-48947  2014-11-30        1020        50.40  Standard Class   \n",
       "37637  O-48951  2014-11-30        1029        50.09  Standard Class   \n",
       "37638  O-48953  2014-11-30        1010        21.12        Same Day   \n",
       "37639  O-48960  2014-11-30        1031        33.57     First Class   \n",
       "37640  O-48972  2014-11-30        1031        20.72    Second Class   \n",
       "\n",
       "         Segment         Category  PaymentTerm Discount ExistingPurchaseOrder  \\\n",
       "33875  Corporate  Office Supplies           30       0%                    No   \n",
       "33876   Consumer  Office Supplies           14       3%                   Yes   \n",
       "33877  Corporate        Furniture           14       0%                   Yes   \n",
       "33878  Corporate        Furniture           30       5%                   Yes   \n",
       "33879   Consumer       Technology           45       5%                   Yes   \n",
       "...          ...              ...          ...      ...                   ...   \n",
       "37636   Consumer        Furniture           45       0%                   Yes   \n",
       "37637  Corporate  Office Supplies           14       3%                    No   \n",
       "37638   Consumer  Office Supplies           14       5%                   Yes   \n",
       "37639   Consumer  Office Supplies           14       5%                   Yes   \n",
       "37640   Consumer  Office Supplies           30       3%                   Yes   \n",
       "\n",
       "      CashInDate  Market  CustomerComplaints  Dist   PredDist  \n",
       "33875 2014-10-25  Canada                   4    49  41.860325  \n",
       "33876 2014-10-09   LATAM                   0    33  28.671078  \n",
       "33877 2014-10-04      EU                   0    28  32.873169  \n",
       "33878 2014-10-06      EU                   3    30  30.683715  \n",
       "33879 2014-09-25      US                   4    19  39.589232  \n",
       "...          ...     ...                 ...   ...        ...  \n",
       "37636 2014-12-29      EU                   4    29  13.511086  \n",
       "37637 2014-12-31    APAC                   2    31  41.187130  \n",
       "37638 2014-12-31   LATAM                   0    31  36.176270  \n",
       "37639 2014-12-16      US                   4    16  18.007774  \n",
       "37640 2014-12-15      US                   4    15  32.910954  \n",
       "\n",
       "[3687 rows x 15 columns]"
      ]
     },
     "execution_count": 120,
     "metadata": {},
     "output_type": "execute_result"
    }
   ],
   "source": [
    "ordersTail"
   ]
  },
  {
   "cell_type": "code",
   "execution_count": 121,
   "metadata": {},
   "outputs": [
    {
     "name": "stderr",
     "output_type": "stream",
     "text": [
      "C:\\Users\\Daniel\\Anaconda3\\lib\\site-packages\\ipykernel_launcher.py:2: SettingWithCopyWarning: \n",
      "A value is trying to be set on a copy of a slice from a DataFrame.\n",
      "Try using .loc[row_indexer,col_indexer] = value instead\n",
      "\n",
      "See the caveats in the documentation: http://pandas.pydata.org/pandas-docs/stable/user_guide/indexing.html#returning-a-view-versus-a-copy\n",
      "  \n"
     ]
    }
   ],
   "source": [
    "# Change type of PredDist to int\n",
    "ordersTail['PredDist'] = ordersTail['PredDist'].astype(int)"
   ]
  },
  {
   "cell_type": "code",
   "execution_count": 122,
   "metadata": {},
   "outputs": [
    {
     "data": {
      "text/html": [
       "<div>\n",
       "<style scoped>\n",
       "    .dataframe tbody tr th:only-of-type {\n",
       "        vertical-align: middle;\n",
       "    }\n",
       "\n",
       "    .dataframe tbody tr th {\n",
       "        vertical-align: top;\n",
       "    }\n",
       "\n",
       "    .dataframe thead th {\n",
       "        text-align: right;\n",
       "    }\n",
       "</style>\n",
       "<table border=\"1\" class=\"dataframe\">\n",
       "  <thead>\n",
       "    <tr style=\"text-align: right;\">\n",
       "      <th></th>\n",
       "      <th>OrderID</th>\n",
       "      <th>InvoiceDate</th>\n",
       "      <th>CustomerID</th>\n",
       "      <th>OrderVolume</th>\n",
       "      <th>ShipMode</th>\n",
       "      <th>Segment</th>\n",
       "      <th>Category</th>\n",
       "      <th>PaymentTerm</th>\n",
       "      <th>Discount</th>\n",
       "      <th>ExistingPurchaseOrder</th>\n",
       "      <th>CashInDate</th>\n",
       "      <th>Market</th>\n",
       "      <th>CustomerComplaints</th>\n",
       "      <th>Dist</th>\n",
       "      <th>PredDist</th>\n",
       "    </tr>\n",
       "  </thead>\n",
       "  <tbody>\n",
       "    <tr>\n",
       "      <td>33875</td>\n",
       "      <td>O-43537</td>\n",
       "      <td>2014-09-06</td>\n",
       "      <td>1002</td>\n",
       "      <td>424.20</td>\n",
       "      <td>Standard Class</td>\n",
       "      <td>Corporate</td>\n",
       "      <td>Office Supplies</td>\n",
       "      <td>30</td>\n",
       "      <td>0%</td>\n",
       "      <td>No</td>\n",
       "      <td>2014-10-25</td>\n",
       "      <td>Canada</td>\n",
       "      <td>4</td>\n",
       "      <td>49</td>\n",
       "      <td>41</td>\n",
       "    </tr>\n",
       "    <tr>\n",
       "      <td>33876</td>\n",
       "      <td>O-43539</td>\n",
       "      <td>2014-09-06</td>\n",
       "      <td>1010</td>\n",
       "      <td>394.98</td>\n",
       "      <td>Standard Class</td>\n",
       "      <td>Consumer</td>\n",
       "      <td>Office Supplies</td>\n",
       "      <td>14</td>\n",
       "      <td>3%</td>\n",
       "      <td>Yes</td>\n",
       "      <td>2014-10-09</td>\n",
       "      <td>LATAM</td>\n",
       "      <td>0</td>\n",
       "      <td>33</td>\n",
       "      <td>28</td>\n",
       "    </tr>\n",
       "    <tr>\n",
       "      <td>33877</td>\n",
       "      <td>O-43541</td>\n",
       "      <td>2014-09-06</td>\n",
       "      <td>1003</td>\n",
       "      <td>216.14</td>\n",
       "      <td>Same Day</td>\n",
       "      <td>Corporate</td>\n",
       "      <td>Furniture</td>\n",
       "      <td>14</td>\n",
       "      <td>0%</td>\n",
       "      <td>Yes</td>\n",
       "      <td>2014-10-04</td>\n",
       "      <td>EU</td>\n",
       "      <td>0</td>\n",
       "      <td>28</td>\n",
       "      <td>32</td>\n",
       "    </tr>\n",
       "    <tr>\n",
       "      <td>33878</td>\n",
       "      <td>O-43542</td>\n",
       "      <td>2014-09-06</td>\n",
       "      <td>1030</td>\n",
       "      <td>153.83</td>\n",
       "      <td>Same Day</td>\n",
       "      <td>Corporate</td>\n",
       "      <td>Furniture</td>\n",
       "      <td>30</td>\n",
       "      <td>5%</td>\n",
       "      <td>Yes</td>\n",
       "      <td>2014-10-06</td>\n",
       "      <td>EU</td>\n",
       "      <td>3</td>\n",
       "      <td>30</td>\n",
       "      <td>30</td>\n",
       "    </tr>\n",
       "    <tr>\n",
       "      <td>33879</td>\n",
       "      <td>O-43543</td>\n",
       "      <td>2014-09-06</td>\n",
       "      <td>1031</td>\n",
       "      <td>659.90</td>\n",
       "      <td>Standard Class</td>\n",
       "      <td>Consumer</td>\n",
       "      <td>Technology</td>\n",
       "      <td>45</td>\n",
       "      <td>5%</td>\n",
       "      <td>Yes</td>\n",
       "      <td>2014-09-25</td>\n",
       "      <td>US</td>\n",
       "      <td>4</td>\n",
       "      <td>19</td>\n",
       "      <td>39</td>\n",
       "    </tr>\n",
       "    <tr>\n",
       "      <td>...</td>\n",
       "      <td>...</td>\n",
       "      <td>...</td>\n",
       "      <td>...</td>\n",
       "      <td>...</td>\n",
       "      <td>...</td>\n",
       "      <td>...</td>\n",
       "      <td>...</td>\n",
       "      <td>...</td>\n",
       "      <td>...</td>\n",
       "      <td>...</td>\n",
       "      <td>...</td>\n",
       "      <td>...</td>\n",
       "      <td>...</td>\n",
       "      <td>...</td>\n",
       "      <td>...</td>\n",
       "    </tr>\n",
       "    <tr>\n",
       "      <td>37636</td>\n",
       "      <td>O-48947</td>\n",
       "      <td>2014-11-30</td>\n",
       "      <td>1020</td>\n",
       "      <td>50.40</td>\n",
       "      <td>Standard Class</td>\n",
       "      <td>Consumer</td>\n",
       "      <td>Furniture</td>\n",
       "      <td>45</td>\n",
       "      <td>0%</td>\n",
       "      <td>Yes</td>\n",
       "      <td>2014-12-29</td>\n",
       "      <td>EU</td>\n",
       "      <td>4</td>\n",
       "      <td>29</td>\n",
       "      <td>13</td>\n",
       "    </tr>\n",
       "    <tr>\n",
       "      <td>37637</td>\n",
       "      <td>O-48951</td>\n",
       "      <td>2014-11-30</td>\n",
       "      <td>1029</td>\n",
       "      <td>50.09</td>\n",
       "      <td>Standard Class</td>\n",
       "      <td>Corporate</td>\n",
       "      <td>Office Supplies</td>\n",
       "      <td>14</td>\n",
       "      <td>3%</td>\n",
       "      <td>No</td>\n",
       "      <td>2014-12-31</td>\n",
       "      <td>APAC</td>\n",
       "      <td>2</td>\n",
       "      <td>31</td>\n",
       "      <td>41</td>\n",
       "    </tr>\n",
       "    <tr>\n",
       "      <td>37638</td>\n",
       "      <td>O-48953</td>\n",
       "      <td>2014-11-30</td>\n",
       "      <td>1010</td>\n",
       "      <td>21.12</td>\n",
       "      <td>Same Day</td>\n",
       "      <td>Consumer</td>\n",
       "      <td>Office Supplies</td>\n",
       "      <td>14</td>\n",
       "      <td>5%</td>\n",
       "      <td>Yes</td>\n",
       "      <td>2014-12-31</td>\n",
       "      <td>LATAM</td>\n",
       "      <td>0</td>\n",
       "      <td>31</td>\n",
       "      <td>36</td>\n",
       "    </tr>\n",
       "    <tr>\n",
       "      <td>37639</td>\n",
       "      <td>O-48960</td>\n",
       "      <td>2014-11-30</td>\n",
       "      <td>1031</td>\n",
       "      <td>33.57</td>\n",
       "      <td>First Class</td>\n",
       "      <td>Consumer</td>\n",
       "      <td>Office Supplies</td>\n",
       "      <td>14</td>\n",
       "      <td>5%</td>\n",
       "      <td>Yes</td>\n",
       "      <td>2014-12-16</td>\n",
       "      <td>US</td>\n",
       "      <td>4</td>\n",
       "      <td>16</td>\n",
       "      <td>18</td>\n",
       "    </tr>\n",
       "    <tr>\n",
       "      <td>37640</td>\n",
       "      <td>O-48972</td>\n",
       "      <td>2014-11-30</td>\n",
       "      <td>1031</td>\n",
       "      <td>20.72</td>\n",
       "      <td>Second Class</td>\n",
       "      <td>Consumer</td>\n",
       "      <td>Office Supplies</td>\n",
       "      <td>30</td>\n",
       "      <td>3%</td>\n",
       "      <td>Yes</td>\n",
       "      <td>2014-12-15</td>\n",
       "      <td>US</td>\n",
       "      <td>4</td>\n",
       "      <td>15</td>\n",
       "      <td>32</td>\n",
       "    </tr>\n",
       "  </tbody>\n",
       "</table>\n",
       "<p>3687 rows × 15 columns</p>\n",
       "</div>"
      ],
      "text/plain": [
       "       OrderID InvoiceDate  CustomerID  OrderVolume        ShipMode  \\\n",
       "33875  O-43537  2014-09-06        1002       424.20  Standard Class   \n",
       "33876  O-43539  2014-09-06        1010       394.98  Standard Class   \n",
       "33877  O-43541  2014-09-06        1003       216.14        Same Day   \n",
       "33878  O-43542  2014-09-06        1030       153.83        Same Day   \n",
       "33879  O-43543  2014-09-06        1031       659.90  Standard Class   \n",
       "...        ...         ...         ...          ...             ...   \n",
       "37636  O-48947  2014-11-30        1020        50.40  Standard Class   \n",
       "37637  O-48951  2014-11-30        1029        50.09  Standard Class   \n",
       "37638  O-48953  2014-11-30        1010        21.12        Same Day   \n",
       "37639  O-48960  2014-11-30        1031        33.57     First Class   \n",
       "37640  O-48972  2014-11-30        1031        20.72    Second Class   \n",
       "\n",
       "         Segment         Category  PaymentTerm Discount ExistingPurchaseOrder  \\\n",
       "33875  Corporate  Office Supplies           30       0%                    No   \n",
       "33876   Consumer  Office Supplies           14       3%                   Yes   \n",
       "33877  Corporate        Furniture           14       0%                   Yes   \n",
       "33878  Corporate        Furniture           30       5%                   Yes   \n",
       "33879   Consumer       Technology           45       5%                   Yes   \n",
       "...          ...              ...          ...      ...                   ...   \n",
       "37636   Consumer        Furniture           45       0%                   Yes   \n",
       "37637  Corporate  Office Supplies           14       3%                    No   \n",
       "37638   Consumer  Office Supplies           14       5%                   Yes   \n",
       "37639   Consumer  Office Supplies           14       5%                   Yes   \n",
       "37640   Consumer  Office Supplies           30       3%                   Yes   \n",
       "\n",
       "      CashInDate  Market  CustomerComplaints  Dist  PredDist  \n",
       "33875 2014-10-25  Canada                   4    49        41  \n",
       "33876 2014-10-09   LATAM                   0    33        28  \n",
       "33877 2014-10-04      EU                   0    28        32  \n",
       "33878 2014-10-06      EU                   3    30        30  \n",
       "33879 2014-09-25      US                   4    19        39  \n",
       "...          ...     ...                 ...   ...       ...  \n",
       "37636 2014-12-29      EU                   4    29        13  \n",
       "37637 2014-12-31    APAC                   2    31        41  \n",
       "37638 2014-12-31   LATAM                   0    31        36  \n",
       "37639 2014-12-16      US                   4    16        18  \n",
       "37640 2014-12-15      US                   4    15        32  \n",
       "\n",
       "[3687 rows x 15 columns]"
      ]
     },
     "execution_count": 122,
     "metadata": {},
     "output_type": "execute_result"
    }
   ],
   "source": [
    "ordersTail"
   ]
  },
  {
   "cell_type": "code",
   "execution_count": 123,
   "metadata": {},
   "outputs": [
    {
     "data": {
      "text/plain": [
       "<matplotlib.axes._subplots.AxesSubplot at 0x12db7144108>"
      ]
     },
     "execution_count": 123,
     "metadata": {},
     "output_type": "execute_result"
    },
    {
     "data": {
      "image/png": "[encoded data removed]",
      "text/plain": [
       "<Figure size 576x720 with 1 Axes>"
      ]
     },
     "metadata": {
      "needs_background": "light"
     },
     "output_type": "display_data"
    }
   ],
   "source": [
    "# Check distribution of PredDist\n",
    "# Has a similar shape as distribution Dist\n",
    "sns.distplot(ordersTail['PredDist'])"
   ]
  },
  {
   "cell_type": "markdown",
   "metadata": {},
   "source": [
    "# Task 2: Aggregate the predictions to a total amount of expected cash in per date"
   ]
  },
  {
   "cell_type": "code",
   "execution_count": 124,
   "metadata": {},
   "outputs": [
    {
     "name": "stderr",
     "output_type": "stream",
     "text": [
      "C:\\Users\\Daniel\\Anaconda3\\lib\\site-packages\\ipykernel_launcher.py:3: SettingWithCopyWarning: \n",
      "A value is trying to be set on a copy of a slice from a DataFrame.\n",
      "Try using .loc[row_indexer,col_indexer] = value instead\n",
      "\n",
      "See the caveats in the documentation: http://pandas.pydata.org/pandas-docs/stable/user_guide/indexing.html#returning-a-view-versus-a-copy\n",
      "  This is separate from the ipykernel package so we can avoid doing imports until\n",
      "C:\\Users\\Daniel\\Anaconda3\\lib\\site-packages\\ipykernel_launcher.py:6: SettingWithCopyWarning: \n",
      "A value is trying to be set on a copy of a slice from a DataFrame\n",
      "\n",
      "See the caveats in the documentation: http://pandas.pydata.org/pandas-docs/stable/user_guide/indexing.html#returning-a-view-versus-a-copy\n",
      "  \n",
      "C:\\Users\\Daniel\\Anaconda3\\lib\\site-packages\\IPython\\core\\interactiveshell.py:3326: SettingWithCopyWarning: \n",
      "A value is trying to be set on a copy of a slice from a DataFrame\n",
      "\n",
      "See the caveats in the documentation: http://pandas.pydata.org/pandas-docs/stable/user_guide/indexing.html#returning-a-view-versus-a-copy\n",
      "  exec(code_obj, self.user_global_ns, self.user_ns)\n"
     ]
    }
   ],
   "source": [
    "# Add column PredCashInDate with the date resulting from InvoiceDate and PredDist\n",
    "\n",
    "ordersTail['PredCashInDate'] = ordersTail['InvoiceDate']\n",
    "for index, row in ordersTail.iterrows():\n",
    "    d = ordersTail['PredDist'][index]\n",
    "    ordersTail['PredCashInDate'][index] = ordersTail['InvoiceDate'][index] + np.timedelta64(d, 'D')"
   ]
  },
  {
   "cell_type": "code",
   "execution_count": 125,
   "metadata": {},
   "outputs": [
    {
     "data": {
      "text/html": [
       "<div>\n",
       "<style scoped>\n",
       "    .dataframe tbody tr th:only-of-type {\n",
       "        vertical-align: middle;\n",
       "    }\n",
       "\n",
       "    .dataframe tbody tr th {\n",
       "        vertical-align: top;\n",
       "    }\n",
       "\n",
       "    .dataframe thead th {\n",
       "        text-align: right;\n",
       "    }\n",
       "</style>\n",
       "<table border=\"1\" class=\"dataframe\">\n",
       "  <thead>\n",
       "    <tr style=\"text-align: right;\">\n",
       "      <th></th>\n",
       "      <th>OrderID</th>\n",
       "      <th>InvoiceDate</th>\n",
       "      <th>CustomerID</th>\n",
       "      <th>OrderVolume</th>\n",
       "      <th>ShipMode</th>\n",
       "      <th>Segment</th>\n",
       "      <th>Category</th>\n",
       "      <th>PaymentTerm</th>\n",
       "      <th>Discount</th>\n",
       "      <th>ExistingPurchaseOrder</th>\n",
       "      <th>CashInDate</th>\n",
       "      <th>Market</th>\n",
       "      <th>CustomerComplaints</th>\n",
       "      <th>Dist</th>\n",
       "      <th>PredDist</th>\n",
       "      <th>PredCashInDate</th>\n",
       "    </tr>\n",
       "  </thead>\n",
       "  <tbody>\n",
       "    <tr>\n",
       "      <td>33875</td>\n",
       "      <td>O-43537</td>\n",
       "      <td>2014-09-06</td>\n",
       "      <td>1002</td>\n",
       "      <td>424.20</td>\n",
       "      <td>Standard Class</td>\n",
       "      <td>Corporate</td>\n",
       "      <td>Office Supplies</td>\n",
       "      <td>30</td>\n",
       "      <td>0%</td>\n",
       "      <td>No</td>\n",
       "      <td>2014-10-25</td>\n",
       "      <td>Canada</td>\n",
       "      <td>4</td>\n",
       "      <td>49</td>\n",
       "      <td>41</td>\n",
       "      <td>2014-10-17</td>\n",
       "    </tr>\n",
       "    <tr>\n",
       "      <td>33876</td>\n",
       "      <td>O-43539</td>\n",
       "      <td>2014-09-06</td>\n",
       "      <td>1010</td>\n",
       "      <td>394.98</td>\n",
       "      <td>Standard Class</td>\n",
       "      <td>Consumer</td>\n",
       "      <td>Office Supplies</td>\n",
       "      <td>14</td>\n",
       "      <td>3%</td>\n",
       "      <td>Yes</td>\n",
       "      <td>2014-10-09</td>\n",
       "      <td>LATAM</td>\n",
       "      <td>0</td>\n",
       "      <td>33</td>\n",
       "      <td>28</td>\n",
       "      <td>2014-10-04</td>\n",
       "    </tr>\n",
       "    <tr>\n",
       "      <td>33877</td>\n",
       "      <td>O-43541</td>\n",
       "      <td>2014-09-06</td>\n",
       "      <td>1003</td>\n",
       "      <td>216.14</td>\n",
       "      <td>Same Day</td>\n",
       "      <td>Corporate</td>\n",
       "      <td>Furniture</td>\n",
       "      <td>14</td>\n",
       "      <td>0%</td>\n",
       "      <td>Yes</td>\n",
       "      <td>2014-10-04</td>\n",
       "      <td>EU</td>\n",
       "      <td>0</td>\n",
       "      <td>28</td>\n",
       "      <td>32</td>\n",
       "      <td>2014-10-08</td>\n",
       "    </tr>\n",
       "    <tr>\n",
       "      <td>33878</td>\n",
       "      <td>O-43542</td>\n",
       "      <td>2014-09-06</td>\n",
       "      <td>1030</td>\n",
       "      <td>153.83</td>\n",
       "      <td>Same Day</td>\n",
       "      <td>Corporate</td>\n",
       "      <td>Furniture</td>\n",
       "      <td>30</td>\n",
       "      <td>5%</td>\n",
       "      <td>Yes</td>\n",
       "      <td>2014-10-06</td>\n",
       "      <td>EU</td>\n",
       "      <td>3</td>\n",
       "      <td>30</td>\n",
       "      <td>30</td>\n",
       "      <td>2014-10-06</td>\n",
       "    </tr>\n",
       "    <tr>\n",
       "      <td>33879</td>\n",
       "      <td>O-43543</td>\n",
       "      <td>2014-09-06</td>\n",
       "      <td>1031</td>\n",
       "      <td>659.90</td>\n",
       "      <td>Standard Class</td>\n",
       "      <td>Consumer</td>\n",
       "      <td>Technology</td>\n",
       "      <td>45</td>\n",
       "      <td>5%</td>\n",
       "      <td>Yes</td>\n",
       "      <td>2014-09-25</td>\n",
       "      <td>US</td>\n",
       "      <td>4</td>\n",
       "      <td>19</td>\n",
       "      <td>39</td>\n",
       "      <td>2014-10-15</td>\n",
       "    </tr>\n",
       "    <tr>\n",
       "      <td>...</td>\n",
       "      <td>...</td>\n",
       "      <td>...</td>\n",
       "      <td>...</td>\n",
       "      <td>...</td>\n",
       "      <td>...</td>\n",
       "      <td>...</td>\n",
       "      <td>...</td>\n",
       "      <td>...</td>\n",
       "      <td>...</td>\n",
       "      <td>...</td>\n",
       "      <td>...</td>\n",
       "      <td>...</td>\n",
       "      <td>...</td>\n",
       "      <td>...</td>\n",
       "      <td>...</td>\n",
       "      <td>...</td>\n",
       "    </tr>\n",
       "    <tr>\n",
       "      <td>37636</td>\n",
       "      <td>O-48947</td>\n",
       "      <td>2014-11-30</td>\n",
       "      <td>1020</td>\n",
       "      <td>50.40</td>\n",
       "      <td>Standard Class</td>\n",
       "      <td>Consumer</td>\n",
       "      <td>Furniture</td>\n",
       "      <td>45</td>\n",
       "      <td>0%</td>\n",
       "      <td>Yes</td>\n",
       "      <td>2014-12-29</td>\n",
       "      <td>EU</td>\n",
       "      <td>4</td>\n",
       "      <td>29</td>\n",
       "      <td>13</td>\n",
       "      <td>2014-12-13</td>\n",
       "    </tr>\n",
       "    <tr>\n",
       "      <td>37637</td>\n",
       "      <td>O-48951</td>\n",
       "      <td>2014-11-30</td>\n",
       "      <td>1029</td>\n",
       "      <td>50.09</td>\n",
       "      <td>Standard Class</td>\n",
       "      <td>Corporate</td>\n",
       "      <td>Office Supplies</td>\n",
       "      <td>14</td>\n",
       "      <td>3%</td>\n",
       "      <td>No</td>\n",
       "      <td>2014-12-31</td>\n",
       "      <td>APAC</td>\n",
       "      <td>2</td>\n",
       "      <td>31</td>\n",
       "      <td>41</td>\n",
       "      <td>2015-01-10</td>\n",
       "    </tr>\n",
       "    <tr>\n",
       "      <td>37638</td>\n",
       "      <td>O-48953</td>\n",
       "      <td>2014-11-30</td>\n",
       "      <td>1010</td>\n",
       "      <td>21.12</td>\n",
       "      <td>Same Day</td>\n",
       "      <td>Consumer</td>\n",
       "      <td>Office Supplies</td>\n",
       "      <td>14</td>\n",
       "      <td>5%</td>\n",
       "      <td>Yes</td>\n",
       "      <td>2014-12-31</td>\n",
       "      <td>LATAM</td>\n",
       "      <td>0</td>\n",
       "      <td>31</td>\n",
       "      <td>36</td>\n",
       "      <td>2015-01-05</td>\n",
       "    </tr>\n",
       "    <tr>\n",
       "      <td>37639</td>\n",
       "      <td>O-48960</td>\n",
       "      <td>2014-11-30</td>\n",
       "      <td>1031</td>\n",
       "      <td>33.57</td>\n",
       "      <td>First Class</td>\n",
       "      <td>Consumer</td>\n",
       "      <td>Office Supplies</td>\n",
       "      <td>14</td>\n",
       "      <td>5%</td>\n",
       "      <td>Yes</td>\n",
       "      <td>2014-12-16</td>\n",
       "      <td>US</td>\n",
       "      <td>4</td>\n",
       "      <td>16</td>\n",
       "      <td>18</td>\n",
       "      <td>2014-12-18</td>\n",
       "    </tr>\n",
       "    <tr>\n",
       "      <td>37640</td>\n",
       "      <td>O-48972</td>\n",
       "      <td>2014-11-30</td>\n",
       "      <td>1031</td>\n",
       "      <td>20.72</td>\n",
       "      <td>Second Class</td>\n",
       "      <td>Consumer</td>\n",
       "      <td>Office Supplies</td>\n",
       "      <td>30</td>\n",
       "      <td>3%</td>\n",
       "      <td>Yes</td>\n",
       "      <td>2014-12-15</td>\n",
       "      <td>US</td>\n",
       "      <td>4</td>\n",
       "      <td>15</td>\n",
       "      <td>32</td>\n",
       "      <td>2015-01-01</td>\n",
       "    </tr>\n",
       "  </tbody>\n",
       "</table>\n",
       "<p>3687 rows × 16 columns</p>\n",
       "</div>"
      ],
      "text/plain": [
       "       OrderID InvoiceDate  CustomerID  OrderVolume        ShipMode  \\\n",
       "33875  O-43537  2014-09-06        1002       424.20  Standard Class   \n",
       "33876  O-43539  2014-09-06        1010       394.98  Standard Class   \n",
       "33877  O-43541  2014-09-06        1003       216.14        Same Day   \n",
       "33878  O-43542  2014-09-06        1030       153.83        Same Day   \n",
       "33879  O-43543  2014-09-06        1031       659.90  Standard Class   \n",
       "...        ...         ...         ...          ...             ...   \n",
       "37636  O-48947  2014-11-30        1020        50.40  Standard Class   \n",
       "37637  O-48951  2014-11-30        1029        50.09  Standard Class   \n",
       "37638  O-48953  2014-11-30        1010        21.12        Same Day   \n",
       "37639  O-48960  2014-11-30        1031        33.57     First Class   \n",
       "37640  O-48972  2014-11-30        1031        20.72    Second Class   \n",
       "\n",
       "         Segment         Category  PaymentTerm Discount ExistingPurchaseOrder  \\\n",
       "33875  Corporate  Office Supplies           30       0%                    No   \n",
       "33876   Consumer  Office Supplies           14       3%                   Yes   \n",
       "33877  Corporate        Furniture           14       0%                   Yes   \n",
       "33878  Corporate        Furniture           30       5%                   Yes   \n",
       "33879   Consumer       Technology           45       5%                   Yes   \n",
       "...          ...              ...          ...      ...                   ...   \n",
       "37636   Consumer        Furniture           45       0%                   Yes   \n",
       "37637  Corporate  Office Supplies           14       3%                    No   \n",
       "37638   Consumer  Office Supplies           14       5%                   Yes   \n",
       "37639   Consumer  Office Supplies           14       5%                   Yes   \n",
       "37640   Consumer  Office Supplies           30       3%                   Yes   \n",
       "\n",
       "      CashInDate  Market  CustomerComplaints  Dist  PredDist PredCashInDate  \n",
       "33875 2014-10-25  Canada                   4    49        41     2014-10-17  \n",
       "33876 2014-10-09   LATAM                   0    33        28     2014-10-04  \n",
       "33877 2014-10-04      EU                   0    28        32     2014-10-08  \n",
       "33878 2014-10-06      EU                   3    30        30     2014-10-06  \n",
       "33879 2014-09-25      US                   4    19        39     2014-10-15  \n",
       "...          ...     ...                 ...   ...       ...            ...  \n",
       "37636 2014-12-29      EU                   4    29        13     2014-12-13  \n",
       "37637 2014-12-31    APAC                   2    31        41     2015-01-10  \n",
       "37638 2014-12-31   LATAM                   0    31        36     2015-01-05  \n",
       "37639 2014-12-16      US                   4    16        18     2014-12-18  \n",
       "37640 2014-12-15      US                   4    15        32     2015-01-01  \n",
       "\n",
       "[3687 rows x 16 columns]"
      ]
     },
     "execution_count": 125,
     "metadata": {},
     "output_type": "execute_result"
    }
   ],
   "source": [
    "ordersTail"
   ]
  },
  {
   "cell_type": "code",
   "execution_count": 126,
   "metadata": {},
   "outputs": [
    {
     "data": {
      "text/html": [
       "<div>\n",
       "<style scoped>\n",
       "    .dataframe tbody tr th:only-of-type {\n",
       "        vertical-align: middle;\n",
       "    }\n",
       "\n",
       "    .dataframe tbody tr th {\n",
       "        vertical-align: top;\n",
       "    }\n",
       "\n",
       "    .dataframe thead th {\n",
       "        text-align: right;\n",
       "    }\n",
       "</style>\n",
       "<table border=\"1\" class=\"dataframe\">\n",
       "  <thead>\n",
       "    <tr style=\"text-align: right;\">\n",
       "      <th></th>\n",
       "      <th>PredCashInDate</th>\n",
       "      <th>OrderVolume</th>\n",
       "    </tr>\n",
       "  </thead>\n",
       "  <tbody>\n",
       "    <tr>\n",
       "      <td>0</td>\n",
       "      <td>2014-09-09</td>\n",
       "      <td>137.25</td>\n",
       "    </tr>\n",
       "    <tr>\n",
       "      <td>1</td>\n",
       "      <td>2014-09-11</td>\n",
       "      <td>53.14</td>\n",
       "    </tr>\n",
       "    <tr>\n",
       "      <td>2</td>\n",
       "      <td>2014-09-12</td>\n",
       "      <td>284.37</td>\n",
       "    </tr>\n",
       "    <tr>\n",
       "      <td>3</td>\n",
       "      <td>2014-09-13</td>\n",
       "      <td>63.77</td>\n",
       "    </tr>\n",
       "    <tr>\n",
       "      <td>4</td>\n",
       "      <td>2014-09-16</td>\n",
       "      <td>908.97</td>\n",
       "    </tr>\n",
       "    <tr>\n",
       "      <td>...</td>\n",
       "      <td>...</td>\n",
       "      <td>...</td>\n",
       "    </tr>\n",
       "    <tr>\n",
       "      <td>131</td>\n",
       "      <td>2015-01-24</td>\n",
       "      <td>126.30</td>\n",
       "    </tr>\n",
       "    <tr>\n",
       "      <td>132</td>\n",
       "      <td>2015-01-25</td>\n",
       "      <td>136.14</td>\n",
       "    </tr>\n",
       "    <tr>\n",
       "      <td>133</td>\n",
       "      <td>2015-01-26</td>\n",
       "      <td>166.54</td>\n",
       "    </tr>\n",
       "    <tr>\n",
       "      <td>134</td>\n",
       "      <td>2015-01-28</td>\n",
       "      <td>75.60</td>\n",
       "    </tr>\n",
       "    <tr>\n",
       "      <td>135</td>\n",
       "      <td>2015-01-29</td>\n",
       "      <td>135.30</td>\n",
       "    </tr>\n",
       "  </tbody>\n",
       "</table>\n",
       "<p>136 rows × 2 columns</p>\n",
       "</div>"
      ],
      "text/plain": [
       "    PredCashInDate  OrderVolume\n",
       "0       2014-09-09       137.25\n",
       "1       2014-09-11        53.14\n",
       "2       2014-09-12       284.37\n",
       "3       2014-09-13        63.77\n",
       "4       2014-09-16       908.97\n",
       "..             ...          ...\n",
       "131     2015-01-24       126.30\n",
       "132     2015-01-25       136.14\n",
       "133     2015-01-26       166.54\n",
       "134     2015-01-28        75.60\n",
       "135     2015-01-29       135.30\n",
       "\n",
       "[136 rows x 2 columns]"
      ]
     },
     "execution_count": 126,
     "metadata": {},
     "output_type": "execute_result"
    }
   ],
   "source": [
    "# Create new Dataframe that is grouped by PredCashInDate and sums up the values of OrderVolume\n",
    "ordersFinal = ordersTail.groupby('PredCashInDate')[['OrderVolume']].sum().reset_index()\n",
    "ordersFinal"
   ]
  },
  {
   "cell_type": "code",
   "execution_count": 127,
   "metadata": {},
   "outputs": [
    {
     "data": {
      "text/html": [
       "<div>\n",
       "<style scoped>\n",
       "    .dataframe tbody tr th:only-of-type {\n",
       "        vertical-align: middle;\n",
       "    }\n",
       "\n",
       "    .dataframe tbody tr th {\n",
       "        vertical-align: top;\n",
       "    }\n",
       "\n",
       "    .dataframe thead th {\n",
       "        text-align: right;\n",
       "    }\n",
       "</style>\n",
       "<table border=\"1\" class=\"dataframe\">\n",
       "  <thead>\n",
       "    <tr style=\"text-align: right;\">\n",
       "      <th></th>\n",
       "      <th>PredCashInDate</th>\n",
       "      <th>OrderVolume</th>\n",
       "    </tr>\n",
       "  </thead>\n",
       "  <tbody>\n",
       "    <tr>\n",
       "      <td>79</td>\n",
       "      <td>2014-12-01</td>\n",
       "      <td>11411.22</td>\n",
       "    </tr>\n",
       "    <tr>\n",
       "      <td>80</td>\n",
       "      <td>2014-12-02</td>\n",
       "      <td>6365.03</td>\n",
       "    </tr>\n",
       "    <tr>\n",
       "      <td>81</td>\n",
       "      <td>2014-12-03</td>\n",
       "      <td>11355.56</td>\n",
       "    </tr>\n",
       "    <tr>\n",
       "      <td>82</td>\n",
       "      <td>2014-12-04</td>\n",
       "      <td>5815.90</td>\n",
       "    </tr>\n",
       "    <tr>\n",
       "      <td>83</td>\n",
       "      <td>2014-12-05</td>\n",
       "      <td>7324.90</td>\n",
       "    </tr>\n",
       "    <tr>\n",
       "      <td>84</td>\n",
       "      <td>2014-12-06</td>\n",
       "      <td>4091.42</td>\n",
       "    </tr>\n",
       "    <tr>\n",
       "      <td>85</td>\n",
       "      <td>2014-12-07</td>\n",
       "      <td>5826.70</td>\n",
       "    </tr>\n",
       "    <tr>\n",
       "      <td>86</td>\n",
       "      <td>2014-12-08</td>\n",
       "      <td>13527.56</td>\n",
       "    </tr>\n",
       "    <tr>\n",
       "      <td>87</td>\n",
       "      <td>2014-12-09</td>\n",
       "      <td>9858.15</td>\n",
       "    </tr>\n",
       "    <tr>\n",
       "      <td>88</td>\n",
       "      <td>2014-12-10</td>\n",
       "      <td>8264.81</td>\n",
       "    </tr>\n",
       "    <tr>\n",
       "      <td>89</td>\n",
       "      <td>2014-12-11</td>\n",
       "      <td>8046.98</td>\n",
       "    </tr>\n",
       "    <tr>\n",
       "      <td>90</td>\n",
       "      <td>2014-12-12</td>\n",
       "      <td>9365.55</td>\n",
       "    </tr>\n",
       "    <tr>\n",
       "      <td>91</td>\n",
       "      <td>2014-12-13</td>\n",
       "      <td>6294.21</td>\n",
       "    </tr>\n",
       "    <tr>\n",
       "      <td>92</td>\n",
       "      <td>2014-12-14</td>\n",
       "      <td>14108.73</td>\n",
       "    </tr>\n",
       "    <tr>\n",
       "      <td>93</td>\n",
       "      <td>2014-12-15</td>\n",
       "      <td>10069.90</td>\n",
       "    </tr>\n",
       "    <tr>\n",
       "      <td>94</td>\n",
       "      <td>2014-12-16</td>\n",
       "      <td>8411.43</td>\n",
       "    </tr>\n",
       "    <tr>\n",
       "      <td>95</td>\n",
       "      <td>2014-12-17</td>\n",
       "      <td>8129.50</td>\n",
       "    </tr>\n",
       "    <tr>\n",
       "      <td>96</td>\n",
       "      <td>2014-12-18</td>\n",
       "      <td>6127.63</td>\n",
       "    </tr>\n",
       "    <tr>\n",
       "      <td>97</td>\n",
       "      <td>2014-12-19</td>\n",
       "      <td>10005.14</td>\n",
       "    </tr>\n",
       "    <tr>\n",
       "      <td>98</td>\n",
       "      <td>2014-12-20</td>\n",
       "      <td>8972.26</td>\n",
       "    </tr>\n",
       "    <tr>\n",
       "      <td>99</td>\n",
       "      <td>2014-12-21</td>\n",
       "      <td>6813.45</td>\n",
       "    </tr>\n",
       "    <tr>\n",
       "      <td>100</td>\n",
       "      <td>2014-12-22</td>\n",
       "      <td>13732.52</td>\n",
       "    </tr>\n",
       "    <tr>\n",
       "      <td>101</td>\n",
       "      <td>2014-12-23</td>\n",
       "      <td>9539.07</td>\n",
       "    </tr>\n",
       "    <tr>\n",
       "      <td>102</td>\n",
       "      <td>2014-12-24</td>\n",
       "      <td>8962.61</td>\n",
       "    </tr>\n",
       "    <tr>\n",
       "      <td>103</td>\n",
       "      <td>2014-12-25</td>\n",
       "      <td>3101.63</td>\n",
       "    </tr>\n",
       "    <tr>\n",
       "      <td>104</td>\n",
       "      <td>2014-12-26</td>\n",
       "      <td>7545.26</td>\n",
       "    </tr>\n",
       "    <tr>\n",
       "      <td>105</td>\n",
       "      <td>2014-12-27</td>\n",
       "      <td>7099.12</td>\n",
       "    </tr>\n",
       "    <tr>\n",
       "      <td>106</td>\n",
       "      <td>2014-12-28</td>\n",
       "      <td>6205.06</td>\n",
       "    </tr>\n",
       "    <tr>\n",
       "      <td>107</td>\n",
       "      <td>2014-12-29</td>\n",
       "      <td>5579.47</td>\n",
       "    </tr>\n",
       "    <tr>\n",
       "      <td>108</td>\n",
       "      <td>2014-12-30</td>\n",
       "      <td>2776.15</td>\n",
       "    </tr>\n",
       "    <tr>\n",
       "      <td>109</td>\n",
       "      <td>2014-12-31</td>\n",
       "      <td>3815.79</td>\n",
       "    </tr>\n",
       "  </tbody>\n",
       "</table>\n",
       "</div>"
      ],
      "text/plain": [
       "    PredCashInDate  OrderVolume\n",
       "79      2014-12-01     11411.22\n",
       "80      2014-12-02      6365.03\n",
       "81      2014-12-03     11355.56\n",
       "82      2014-12-04      5815.90\n",
       "83      2014-12-05      7324.90\n",
       "84      2014-12-06      4091.42\n",
       "85      2014-12-07      5826.70\n",
       "86      2014-12-08     13527.56\n",
       "87      2014-12-09      9858.15\n",
       "88      2014-12-10      8264.81\n",
       "89      2014-12-11      8046.98\n",
       "90      2014-12-12      9365.55\n",
       "91      2014-12-13      6294.21\n",
       "92      2014-12-14     14108.73\n",
       "93      2014-12-15     10069.90\n",
       "94      2014-12-16      8411.43\n",
       "95      2014-12-17      8129.50\n",
       "96      2014-12-18      6127.63\n",
       "97      2014-12-19     10005.14\n",
       "98      2014-12-20      8972.26\n",
       "99      2014-12-21      6813.45\n",
       "100     2014-12-22     13732.52\n",
       "101     2014-12-23      9539.07\n",
       "102     2014-12-24      8962.61\n",
       "103     2014-12-25      3101.63\n",
       "104     2014-12-26      7545.26\n",
       "105     2014-12-27      7099.12\n",
       "106     2014-12-28      6205.06\n",
       "107     2014-12-29      5579.47\n",
       "108     2014-12-30      2776.15\n",
       "109     2014-12-31      3815.79"
      ]
     },
     "execution_count": 127,
     "metadata": {},
     "output_type": "execute_result"
    }
   ],
   "source": [
    "# Remove data except for December 2014\n",
    "ordersFinal = ordersFinal[(ordersFinal['PredCashInDate'] >= '2014-12-01') & (ordersFinal['PredCashInDate'] <= '2014-12-31')]\n",
    "ordersFinal"
   ]
  },
  {
   "cell_type": "code",
   "execution_count": 128,
   "metadata": {},
   "outputs": [],
   "source": [
    "# Change column names to match task\n",
    "ordersFinal = ordersFinal.rename(columns={ 'PredCashInDate': 'Date', 'OrderVolume': 'Expected Cash In'})"
   ]
  },
  {
   "cell_type": "code",
   "execution_count": 129,
   "metadata": {},
   "outputs": [],
   "source": [
    "# Change type of column Date to str\n",
    "ordersFinal['Date'] = ordersFinal['Date'].astype(str)"
   ]
  },
  {
   "cell_type": "code",
   "execution_count": 130,
   "metadata": {},
   "outputs": [],
   "source": [
    "# Reset index\n",
    "ordersFinal = ordersFinal.reset_index(drop=True)"
   ]
  },
  {
   "cell_type": "code",
   "execution_count": 131,
   "metadata": {},
   "outputs": [
    {
     "data": {
      "text/html": [
       "<div>\n",
       "<style scoped>\n",
       "    .dataframe tbody tr th:only-of-type {\n",
       "        vertical-align: middle;\n",
       "    }\n",
       "\n",
       "    .dataframe tbody tr th {\n",
       "        vertical-align: top;\n",
       "    }\n",
       "\n",
       "    .dataframe thead th {\n",
       "        text-align: right;\n",
       "    }\n",
       "</style>\n",
       "<table border=\"1\" class=\"dataframe\">\n",
       "  <thead>\n",
       "    <tr style=\"text-align: right;\">\n",
       "      <th></th>\n",
       "      <th>Date</th>\n",
       "      <th>Expected Cash In</th>\n",
       "    </tr>\n",
       "  </thead>\n",
       "  <tbody>\n",
       "    <tr>\n",
       "      <td>0</td>\n",
       "      <td>2014-12-01</td>\n",
       "      <td>11411.22</td>\n",
       "    </tr>\n",
       "    <tr>\n",
       "      <td>1</td>\n",
       "      <td>2014-12-02</td>\n",
       "      <td>6365.03</td>\n",
       "    </tr>\n",
       "    <tr>\n",
       "      <td>2</td>\n",
       "      <td>2014-12-03</td>\n",
       "      <td>11355.56</td>\n",
       "    </tr>\n",
       "    <tr>\n",
       "      <td>3</td>\n",
       "      <td>2014-12-04</td>\n",
       "      <td>5815.90</td>\n",
       "    </tr>\n",
       "    <tr>\n",
       "      <td>4</td>\n",
       "      <td>2014-12-05</td>\n",
       "      <td>7324.90</td>\n",
       "    </tr>\n",
       "    <tr>\n",
       "      <td>5</td>\n",
       "      <td>2014-12-06</td>\n",
       "      <td>4091.42</td>\n",
       "    </tr>\n",
       "    <tr>\n",
       "      <td>6</td>\n",
       "      <td>2014-12-07</td>\n",
       "      <td>5826.70</td>\n",
       "    </tr>\n",
       "    <tr>\n",
       "      <td>7</td>\n",
       "      <td>2014-12-08</td>\n",
       "      <td>13527.56</td>\n",
       "    </tr>\n",
       "    <tr>\n",
       "      <td>8</td>\n",
       "      <td>2014-12-09</td>\n",
       "      <td>9858.15</td>\n",
       "    </tr>\n",
       "    <tr>\n",
       "      <td>9</td>\n",
       "      <td>2014-12-10</td>\n",
       "      <td>8264.81</td>\n",
       "    </tr>\n",
       "    <tr>\n",
       "      <td>10</td>\n",
       "      <td>2014-12-11</td>\n",
       "      <td>8046.98</td>\n",
       "    </tr>\n",
       "    <tr>\n",
       "      <td>11</td>\n",
       "      <td>2014-12-12</td>\n",
       "      <td>9365.55</td>\n",
       "    </tr>\n",
       "    <tr>\n",
       "      <td>12</td>\n",
       "      <td>2014-12-13</td>\n",
       "      <td>6294.21</td>\n",
       "    </tr>\n",
       "    <tr>\n",
       "      <td>13</td>\n",
       "      <td>2014-12-14</td>\n",
       "      <td>14108.73</td>\n",
       "    </tr>\n",
       "    <tr>\n",
       "      <td>14</td>\n",
       "      <td>2014-12-15</td>\n",
       "      <td>10069.90</td>\n",
       "    </tr>\n",
       "    <tr>\n",
       "      <td>15</td>\n",
       "      <td>2014-12-16</td>\n",
       "      <td>8411.43</td>\n",
       "    </tr>\n",
       "    <tr>\n",
       "      <td>16</td>\n",
       "      <td>2014-12-17</td>\n",
       "      <td>8129.50</td>\n",
       "    </tr>\n",
       "    <tr>\n",
       "      <td>17</td>\n",
       "      <td>2014-12-18</td>\n",
       "      <td>6127.63</td>\n",
       "    </tr>\n",
       "    <tr>\n",
       "      <td>18</td>\n",
       "      <td>2014-12-19</td>\n",
       "      <td>10005.14</td>\n",
       "    </tr>\n",
       "    <tr>\n",
       "      <td>19</td>\n",
       "      <td>2014-12-20</td>\n",
       "      <td>8972.26</td>\n",
       "    </tr>\n",
       "    <tr>\n",
       "      <td>20</td>\n",
       "      <td>2014-12-21</td>\n",
       "      <td>6813.45</td>\n",
       "    </tr>\n",
       "    <tr>\n",
       "      <td>21</td>\n",
       "      <td>2014-12-22</td>\n",
       "      <td>13732.52</td>\n",
       "    </tr>\n",
       "    <tr>\n",
       "      <td>22</td>\n",
       "      <td>2014-12-23</td>\n",
       "      <td>9539.07</td>\n",
       "    </tr>\n",
       "    <tr>\n",
       "      <td>23</td>\n",
       "      <td>2014-12-24</td>\n",
       "      <td>8962.61</td>\n",
       "    </tr>\n",
       "    <tr>\n",
       "      <td>24</td>\n",
       "      <td>2014-12-25</td>\n",
       "      <td>3101.63</td>\n",
       "    </tr>\n",
       "    <tr>\n",
       "      <td>25</td>\n",
       "      <td>2014-12-26</td>\n",
       "      <td>7545.26</td>\n",
       "    </tr>\n",
       "    <tr>\n",
       "      <td>26</td>\n",
       "      <td>2014-12-27</td>\n",
       "      <td>7099.12</td>\n",
       "    </tr>\n",
       "    <tr>\n",
       "      <td>27</td>\n",
       "      <td>2014-12-28</td>\n",
       "      <td>6205.06</td>\n",
       "    </tr>\n",
       "    <tr>\n",
       "      <td>28</td>\n",
       "      <td>2014-12-29</td>\n",
       "      <td>5579.47</td>\n",
       "    </tr>\n",
       "    <tr>\n",
       "      <td>29</td>\n",
       "      <td>2014-12-30</td>\n",
       "      <td>2776.15</td>\n",
       "    </tr>\n",
       "    <tr>\n",
       "      <td>30</td>\n",
       "      <td>2014-12-31</td>\n",
       "      <td>3815.79</td>\n",
       "    </tr>\n",
       "  </tbody>\n",
       "</table>\n",
       "</div>"
      ],
      "text/plain": [
       "          Date  Expected Cash In\n",
       "0   2014-12-01          11411.22\n",
       "1   2014-12-02           6365.03\n",
       "2   2014-12-03          11355.56\n",
       "3   2014-12-04           5815.90\n",
       "4   2014-12-05           7324.90\n",
       "5   2014-12-06           4091.42\n",
       "6   2014-12-07           5826.70\n",
       "7   2014-12-08          13527.56\n",
       "8   2014-12-09           9858.15\n",
       "9   2014-12-10           8264.81\n",
       "10  2014-12-11           8046.98\n",
       "11  2014-12-12           9365.55\n",
       "12  2014-12-13           6294.21\n",
       "13  2014-12-14          14108.73\n",
       "14  2014-12-15          10069.90\n",
       "15  2014-12-16           8411.43\n",
       "16  2014-12-17           8129.50\n",
       "17  2014-12-18           6127.63\n",
       "18  2014-12-19          10005.14\n",
       "19  2014-12-20           8972.26\n",
       "20  2014-12-21           6813.45\n",
       "21  2014-12-22          13732.52\n",
       "22  2014-12-23           9539.07\n",
       "23  2014-12-24           8962.61\n",
       "24  2014-12-25           3101.63\n",
       "25  2014-12-26           7545.26\n",
       "26  2014-12-27           7099.12\n",
       "27  2014-12-28           6205.06\n",
       "28  2014-12-29           5579.47\n",
       "29  2014-12-30           2776.15\n",
       "30  2014-12-31           3815.79"
      ]
     },
     "execution_count": 131,
     "metadata": {},
     "output_type": "execute_result"
    }
   ],
   "source": [
    "ordersFinal"
   ]
  },
  {
   "cell_type": "code",
   "execution_count": 132,
   "metadata": {},
   "outputs": [],
   "source": [
    "# Store dataframe in Excel File\n",
    "ordersFinal.to_excel('Results.xlsx')"
   ]
  }
 ],
 "metadata": {
  "kernelspec": {
   "display_name": "Python 3",
   "language": "python",
   "name": "python3"
  },
  "language_info": {
   "codemirror_mode": {
    "name": "ipython",
    "version": 3
   },
   "file_extension": ".py",
   "mimetype": "text/x-python",
   "name": "python",
   "nbconvert_exporter": "python",
   "pygments_lexer": "ipython3",
   "version": "3.7.7"
  }
 },
 "nbformat": 4,
 "nbformat_minor": 4
}
